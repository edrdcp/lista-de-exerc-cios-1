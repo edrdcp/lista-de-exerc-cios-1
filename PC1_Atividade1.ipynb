{
  "nbformat": 4,
  "nbformat_minor": 0,
  "metadata": {
    "colab": {
      "name": "PC1-Atividade1.ipynb",
      "provenance": [],
      "collapsed_sections": []
    },
    "kernelspec": {
      "name": "python3",
      "display_name": "Python 3"
    },
    "language_info": {
      "name": "python"
    }
  },
  "cells": [
    {
      "cell_type": "markdown",
      "source": [
        "1."
      ],
      "metadata": {
        "id": "lN4_dG5Smx_v"
      }
    },
    {
      "cell_type": "code",
      "execution_count": null,
      "metadata": {
        "colab": {
          "base_uri": "https://localhost:8080/"
        },
        "id": "_NizUdmxmrIg",
        "outputId": "eaad902f-2852-477d-ce33-bfecb46b0288"
      },
      "outputs": [
        {
          "output_type": "stream",
          "name": "stdout",
          "text": [
            "Alô mundo!\n"
          ]
        }
      ],
      "source": [
        "#1 Programa que mostra a mensagem \"Alo mundo\" na tela.\n",
        "#programador: Eduardo Costa\n",
        "#data da última atualização: 28/08/2022\n",
        "\n",
        "print('Alô mundo!')"
      ]
    },
    {
      "cell_type": "markdown",
      "source": [
        "2."
      ],
      "metadata": {
        "id": "2Kmqxg5DnP4q"
      }
    },
    {
      "cell_type": "code",
      "source": [
        "#2 Programa que pede um número e então mostra a mensagem O número informado foi [número].\n",
        "#programador: Eduardo Costa\n",
        "#data da última atualização: 28/08/2022\n",
        "\n",
        "n = float(input('Forneça um número real qualquer: '))\n",
        "\n",
        "print('O número informado foi: ', n)"
      ],
      "metadata": {
        "colab": {
          "base_uri": "https://localhost:8080/"
        },
        "id": "ePkLugnynQhN",
        "outputId": "233a560b-8151-4e87-afcd-cef4d70c8d13"
      },
      "execution_count": null,
      "outputs": [
        {
          "output_type": "stream",
          "name": "stdout",
          "text": [
            "Forneça um número real qualquer: 74\n",
            "O número informado foi:  74.0\n"
          ]
        }
      ]
    },
    {
      "cell_type": "markdown",
      "source": [],
      "metadata": {
        "id": "QvshJ9JkmxAY"
      }
    },
    {
      "cell_type": "code",
      "source": [
        "#3 Programa que pede dois números e imprime a soma.\n",
        "#programador: Eduardo Costa\n",
        "#data da última atualização: 28/08/2022\n",
        "\n",
        "a = float(input('Forneça um número real qualquer: '))\n",
        "b = float(input('Forneça um número real qualquer: '))\n",
        "soma = a + b\n",
        "\n",
        "print('Soma dos números: ', soma)"
      ],
      "metadata": {
        "colab": {
          "base_uri": "https://localhost:8080/"
        },
        "id": "XtP9-HEZnRCJ",
        "outputId": "c2218205-ffc9-413a-ca4f-ba1c178a5d6d"
      },
      "execution_count": null,
      "outputs": [
        {
          "output_type": "stream",
          "name": "stdout",
          "text": [
            "Forneça um número real qualquer: 8\n",
            "Forneça um número real qualquer: 6\n",
            "Soma dos números:  14.0\n"
          ]
        }
      ]
    },
    {
      "cell_type": "markdown",
      "source": [],
      "metadata": {
        "id": "kMmlq0kWnRfN"
      }
    },
    {
      "cell_type": "code",
      "source": [
        "#4 Faça um Programa que pede as 4 notas bimestrais e mostra a média.\n",
        "#programador: Eduardo Costa\n",
        "#data da última atualização: 28/08/2022\n",
        "\n",
        "n1 = float(input('Forneça a primeira nota: '))\n",
        "n2 = float(input('Forneça a primeira nota: '))\n",
        "n3 = float(input('Forneça a primeira nota: '))\n",
        "n4 = float(input('Forneça a primeira nota: '))\n",
        "media = (n1 + n2 + n3 + n4) / 4\n",
        "\n",
        "print('Média das notas: ', media)"
      ],
      "metadata": {
        "colab": {
          "base_uri": "https://localhost:8080/"
        },
        "id": "EXYiZaqBnR2V",
        "outputId": "e4f705fe-6597-4d22-87f9-7b19d53dbde8"
      },
      "execution_count": null,
      "outputs": [
        {
          "output_type": "stream",
          "name": "stdout",
          "text": [
            "Forneça a primeira nota: 8.7\n",
            "Forneça a primeira nota: 9\n",
            "Forneça a primeira nota: 9.7\n",
            "Forneça a primeira nota: 6\n",
            "Média das notas:  8.35\n"
          ]
        }
      ]
    },
    {
      "cell_type": "markdown",
      "source": [],
      "metadata": {
        "id": "WJMmASyJnc35"
      }
    },
    {
      "cell_type": "code",
      "source": [
        "#5 Programa que converte metros para centímetros.\n",
        "#programador: Eduardo Costa\n",
        "#data da última atualização: 28/08/2022\n",
        "\n",
        "m = float(input('Forneça a métrica para a conversão em centímetros: '))\n",
        "c = m * 100\n",
        "print(c, 'cm')"
      ],
      "metadata": {
        "colab": {
          "base_uri": "https://localhost:8080/"
        },
        "id": "XWEvBZo6nbvs",
        "outputId": "5134958f-9d4c-4421-b380-1a345c70bc20"
      },
      "execution_count": null,
      "outputs": [
        {
          "output_type": "stream",
          "name": "stdout",
          "text": [
            "Forneça a métrica para a conversão em centímetros: 87\n",
            "8700.0 cm\n"
          ]
        }
      ]
    },
    {
      "cell_type": "markdown",
      "source": [],
      "metadata": {
        "id": "91pQFfw4niol"
      }
    },
    {
      "cell_type": "code",
      "source": [
        "#6 Programa que pede o raio de um círculo, calcula e mostra sua área.\n",
        "#programador: Eduardo Costa\n",
        "#data da última atualização: 28/08/2022\n",
        "\n",
        "import math\n",
        "\n",
        "r = float(input('Forneça o raio do círculo: '))\n",
        "a = math.pi * r ** 2\n",
        "print('Área do círculo:', a)"
      ],
      "metadata": {
        "colab": {
          "base_uri": "https://localhost:8080/"
        },
        "id": "gbpflt5jnhlN",
        "outputId": "ced2dc08-b2ff-41d0-91c8-19575a5515d2"
      },
      "execution_count": null,
      "outputs": [
        {
          "output_type": "stream",
          "name": "stdout",
          "text": [
            "Forneça o raio do círculo: 54\n",
            "Área do círculo: 9160.884177867836\n"
          ]
        }
      ]
    },
    {
      "cell_type": "markdown",
      "source": [],
      "metadata": {
        "id": "sw9i5p0EnhY5"
      }
    },
    {
      "cell_type": "code",
      "source": [
        "#7 Programa que calcula a área de um quadrado, em seguida mostra o dobro desta área para o usuário.\n",
        "#programador: Eduardo Costa\n",
        "#data da última atualização: 28/08/2022\n",
        "\n",
        "l = float(input('Forneça a medida do lado do quadrado: '))\n",
        "a = l ** 2\n",
        "\n",
        "print('O dobro da área do quadrado: ', a * 2)"
      ],
      "metadata": {
        "colab": {
          "base_uri": "https://localhost:8080/"
        },
        "id": "eaMlKA08nhNC",
        "outputId": "03e93fd4-2eea-4dff-cdfb-d176177e4aeb"
      },
      "execution_count": null,
      "outputs": [
        {
          "output_type": "stream",
          "name": "stdout",
          "text": [
            "Forneça a medida do lado do quadrado: 4\n",
            "O dobro da área do quadrado:  32.0\n"
          ]
        }
      ]
    },
    {
      "cell_type": "markdown",
      "source": [],
      "metadata": {
        "id": "mTt1w6ZUng8V"
      }
    },
    {
      "cell_type": "code",
      "source": [
        "#8 Programa que pergunta quanto você ganha por hora e o número de horas trabalhadas no mês. Calcula e mostra o total do seu salário no referido mês.\n",
        "#programador: Eduardo Costa\n",
        "#data da última atualização: 28/08/2022\n",
        "\n",
        "ganhoPorHora = float(input('Quanto você ganha por hora?: R$ '))\n",
        "horasPorMes = int(input('Número de horas trabalhadas no mês: '))\n",
        "salarioTotal = ganhoPorHora * horasPorMes\n",
        "print('Salário: R$', salarioTotal) "
      ],
      "metadata": {
        "colab": {
          "base_uri": "https://localhost:8080/"
        },
        "id": "a-WlNLibngtI",
        "outputId": "5130b0b0-2cf2-40a7-fc54-beb1df528120"
      },
      "execution_count": null,
      "outputs": [
        {
          "output_type": "stream",
          "name": "stdout",
          "text": [
            "Quanto você ganha por hora?: R$200\n",
            "Número de horas trabalhadas no mês: 100\n",
            "Salário: R$ 20000.0\n"
          ]
        }
      ]
    },
    {
      "cell_type": "markdown",
      "source": [],
      "metadata": {
        "id": "4mobNsIVngih"
      }
    },
    {
      "cell_type": "code",
      "source": [
        "#9) Programa que pede a temperatura em graus Fahrenheit, transforma e mostra a temperatura em graus Celsius. C = 5 * ((F-32) / 9).\n",
        "#programador: Eduardo Costa\n",
        "#data da última atualização: 28/08/2022\n",
        "\n",
        "tempF = float(input('Temperatura em graus Fahrenheit: '))\n",
        "tempC = 5 * ((tempF - 32)/9)\n",
        "print('Temperatura em graus Celsius: ', tempC)"
      ],
      "metadata": {
        "colab": {
          "base_uri": "https://localhost:8080/"
        },
        "id": "43xMCi4ingXB",
        "outputId": "973db8ec-c2ab-4f48-80bd-f6dc7f436452"
      },
      "execution_count": null,
      "outputs": [
        {
          "output_type": "stream",
          "name": "stdout",
          "text": [
            "Temperatura em graus Fahrenheit: 70\n",
            "Temperatura em graus Celsius:  21.11111111111111\n"
          ]
        }
      ]
    },
    {
      "cell_type": "markdown",
      "source": [],
      "metadata": {
        "id": "XOtHANdZngK3"
      }
    },
    {
      "cell_type": "code",
      "source": [
        "#10 Programa que pede a temperatura em graus Celsius, transforma e mostra em graus Fahrenheit.\n",
        "#programador: Eduardo Costa\n",
        "#data da última atualização: 28/08/2022\n",
        "\n",
        "tempC = float(input('Temperatura em graus Celsius: '))\n",
        "tempF = (tempC  * 1.8) + 32\n",
        "print('Temperatura em graus Fahrenheit: ', tempF)"
      ],
      "metadata": {
        "colab": {
          "base_uri": "https://localhost:8080/"
        },
        "id": "BGGJkcpanf-X",
        "outputId": "df0545e4-3ff9-4599-f02b-425b144fd2d6"
      },
      "execution_count": null,
      "outputs": [
        {
          "output_type": "stream",
          "name": "stdout",
          "text": [
            "Temperatura em graus Celsius: 21.1\n",
            "Temperatura em graus Fahrenheit:  69.98\n"
          ]
        }
      ]
    },
    {
      "cell_type": "markdown",
      "source": [
        "11) Faça um Programa que peça 2 números inteiros e um número real. Calcule e mostre:\n",
        "\n",
        "· o produto do dobro do primeiro com metade do segundo.\n",
        "\n",
        "· a soma do triplo do primeiro com o terceiro.\n",
        "\n",
        "· o terceiro elevado ao cubo."
      ],
      "metadata": {
        "id": "JfaoeZQxnfxW"
      }
    },
    {
      "cell_type": "code",
      "source": [
        "#11\n",
        "#programador: Eduardo Costa\n",
        "#data da última atualização: 28/08/2022\n",
        "\n",
        "n1 = int(input('1º Forneça um número inteiro:'))\n",
        "n2 = int(input('2º Forneça outro número inteiro:'))\n",
        "n3 = float(input('3º Forneça um número real:'))\n",
        "\n",
        "produto = (n1 * 2) * (n2 / 2)\n",
        "soma = (n1 * 3) + n3\n",
        "potencia = n3 ** 3\n",
        "\n",
        "print('Produto do dobro do primeiro com metade do segundo: ', produto)\n",
        "print('Soma do triplo do primeiro com o terceiro: ', soma)\n",
        "print('Rerceiro elevado ao cubo %.2f' %potencia)"
      ],
      "metadata": {
        "colab": {
          "base_uri": "https://localhost:8080/"
        },
        "id": "kUCHCyy-nfkB",
        "outputId": "e7f3c638-cb91-4ad4-d119-b2e2d9efd5e5"
      },
      "execution_count": null,
      "outputs": [
        {
          "output_type": "stream",
          "name": "stdout",
          "text": [
            "1º Forneça um número inteiro:2\n",
            "2º Forneça outro número inteiro:3\n",
            "3º Forneça um número real:3\n",
            "Produto do dobro do primeiro com metade do segundo:  6.0\n",
            "Soma do triplo do primeiro com o terceiro:  9.0\n",
            "Rerceiro elevado ao cubo 27.00\n"
          ]
        }
      ]
    },
    {
      "cell_type": "markdown",
      "source": [
        "12) Tendo como dados de entrada a altura de uma pessoa, construa um algoritmo que calcule seu peso ideal, usando a seguinte fórmula: (72.7*altura) - 58"
      ],
      "metadata": {
        "id": "xYyPBF7UnfSf"
      }
    },
    {
      "cell_type": "code",
      "source": [
        "#12\n",
        "#programador: Eduardo Costa\n",
        "#data da última atualização: 28/08/2022\n",
        "\n",
        "altura = float(input('Forneça sua altura em m: '))\n",
        "pesoIdeal = (72.7 * altura) - 58\n",
        "print('Seu peso ideal é: ', pesoIdeal)\n"
      ],
      "metadata": {
        "colab": {
          "base_uri": "https://localhost:8080/"
        },
        "id": "UIg8dF6qnfEz",
        "outputId": "709e3a8c-1ad1-4c40-ffad-a5a77f10eaed"
      },
      "execution_count": null,
      "outputs": [
        {
          "output_type": "stream",
          "name": "stdout",
          "text": [
            "Forneça sua altura: 1.69\n",
            "Seu peso ideal é:  64.863\n"
          ]
        }
      ]
    },
    {
      "cell_type": "markdown",
      "source": [
        "13) Tendo como dado de entrada a altura (h) de uma pessoa, construa um algoritmo que calcule seu peso ideal, utilizando as seguintes fórmulas:\n",
        "\n",
        "· Para homens: (72.7*h) - 58\n",
        "\n",
        "· Para mulheres: (62.1*h) - 44.7"
      ],
      "metadata": {
        "id": "-dSYPYiineiA"
      }
    },
    {
      "cell_type": "code",
      "source": [
        "#13\n",
        "#programador: Eduardo Costa\n",
        "#data da última atualização: 28/08/2022\n",
        "\n",
        "h = float(input('Forneça sua altura em m: '))\n",
        "pesoIdealH = (72.7 * h) - 58\n",
        "pesoIdealM = (62.1 * h) - 44.7\n",
        "print('Se homem, seu peso ideal é: ', pesoIdealH)\n",
        "print('Se mulher, seu peso ideal é: ', pesoIdealM)\n"
      ],
      "metadata": {
        "colab": {
          "base_uri": "https://localhost:8080/"
        },
        "id": "q_AnfzDJnwCV",
        "outputId": "afa41c6a-6928-4146-c9ed-15d8b7590a73"
      },
      "execution_count": null,
      "outputs": [
        {
          "output_type": "stream",
          "name": "stdout",
          "text": [
            "Forneça sua altura: 1.74\n",
            "Se homem, seu peso ideal é:  68.498\n",
            "Se mulher, seu peso ideal é:  63.354\n"
          ]
        }
      ]
    },
    {
      "cell_type": "markdown",
      "source": [
        "14) João Papo-de-Pescador, homem de bem, comprou um microcomputador para controlar o rendimento diário de seu trabalho. Toda vez que ele traz um peso de peixes maior que o estabelecido pelo regulamento de pesca do estado de São Paulo (50 quilos) deve pagar uma multa de R$ 4,00 por quilo excedente. João precisa que você faça um programa que leia a variável peso (peso de peixes) e calcule o excesso. Gravar na variável excesso a quantidade de quilos além do limite e na variável multa o valor da multa que João deverá pagar. Imprima os dados do programa com as mensagens adequadas."
      ],
      "metadata": {
        "id": "YEoN7VnmnbH9"
      }
    },
    {
      "cell_type": "code",
      "source": [
        "#14 \n",
        "#programador: Eduardo Costa\n",
        "#data da última atualização: 28/08/2022\n",
        "\n",
        "pesoPeixes = float(input('Peso de peixes: '))\n",
        "excesso = pesoPeixes - 50\n",
        "multa = excesso * 4\n",
        "\n",
        "print('Peso excedido em kg: ', excesso)\n",
        "print('Multa: R$ ', multa)"
      ],
      "metadata": {
        "colab": {
          "base_uri": "https://localhost:8080/"
        },
        "id": "lWqbkwKunwhj",
        "outputId": "ee1fc38c-80dd-4e97-dd8d-2fcc42942de6"
      },
      "execution_count": null,
      "outputs": [
        {
          "output_type": "stream",
          "name": "stdout",
          "text": [
            "Peso de peixes: 70\n",
            "Peso excedido em kg:  20.0\n",
            "Multa: R$  80.0\n"
          ]
        }
      ]
    },
    {
      "cell_type": "markdown",
      "source": [
        "![image.png](data:image/png;base64,iVBORw0KGgoAAAANSUhEUgAAA0sAAAGgCAYAAAB7WPweAAAAAXNSR0IArs4c6QAAAARnQU1BAACxjwv8YQUAAAAJcEhZcwAADsMAAA7DAcdvqGQAAP+lSURBVHhe7J0FXFXJF8d/dEtIKGKjrrHYtRa2suLagbp2rIrdsYrdtRgYa8caqNjYKwaYoKIoK6KCINKd5z83gPfgAQ/B3XX/9+vnybvn1sQ5Z2bunTlPhRiQkJCQkJCQkJCQkJCQkENV/CshISEhIfHfJz0Z7lsmo88Sd6SLov8qj44tR+2hh5AgbktIfCmhPu4YN6oPIhKKwWr+j2yw0ISGYu2An7D+QYQoKALp6fDZMhdt+ixBVrX9DWX//Mx6DFh6QNz6b6DUYOm19xUsmP8LGtU1wgy3j6I0N4kfrqC2igpUZD4tRm4U9wZjw6RZ2HbsCRJFSUFEvLrB7jsXjaws+GuVaTMcTk5OWZ+5c2fgh6q6aDlyvXjG/zc+rk6YNtoBZmLZdxg5gS+naaMnoFOruvhl3HzceVUMBighISEhRzwuO7bn/Y62cV14fogX5f8uPtw5g87lKqHjuA0Ij0nCf3VaReRf9zGoejXU7zMHIREJ/9l8/lOEnpsEXRUzTN9+H2mi7D9LhDdGOXZGxdodcfhOODKKOBnp/8UGC08iri2bhPJ1KmLaoVuITckQ5V8GV84Du5RD7XHL8Ck8Bly1ffWyDziGDi2qo1bXKXgc+B97RMNNw8uXdwdp2LAZ1KGVDleuNP10sLgjN8fmDyQLS0uylPmscX8j7uWIp4NDqlHftYcoSZQow+Ot3fl7N3C6LUpk8aCxQxaK3yU4Ftmp8+W18264KCEK9NxDZtoqBJseFF2YwpeQ+NtIoSs7N1Jcqrj5n+e/k9/IF1eoXLmytOX4VepUypTazTpKaeK+fxtRwYepgiqozfTT9N9WtZvUUA1k3nUHxYkSieIgnfb2V6VeKy+J2/8HJEVR9yYVyLhmGworBof137HBDHpzeD3l0y0uNA+c7Vn/zZicboeJki8nKTKIGpcH1WwzPaud+epl73+ONFj/s/pIF1Hw36DgN0tlHbBr10rsn+cIfVGkGB9cDbTCm6AgBMl8pravKO7n0IXDbg9UvbET3Ze4I0mUFoSFpbX4TRHN0NKusvhdgsOiTBXxWzbl6ttjYsOS3OsntJmlfNlLSPxdRHhtxtJDH8St/z7/pfzev/AYx2/545eebXA20A9jzfxx2uvf+RZbXaMc9AzFjf805VDSUvwqUXzE+uKVwUq4jG8rCv4PUFOHta6euFF0/is2mJ4UjfnrzotbxYOJmZX4reiosnrT1pHvuX/1sjc2QW3x638JpdcsqTJDYaPFPEjGjenjsG3fTvxQrzt2HriIt9F5dcdNMWaKPS4vd8BFnzBRVjT69h4ofpPIEzUTNG2qyX8NOHoVMfw3CYl/B1Hv7mLsyPX4JG7/1/mv5bf95GloWE7wL2qaJug+ZTZ6NDLhtyUk/lMY1MISl2kw0VUTBRL/j6TGh+Lib+Nw+n7xPvDS1s7/tURhUFFVhZpa3j13CeUplgAPCe+eYOjO++zbZ3g/PoWRg+xRx7YHHsQkCwfkwLJ5R3RNiMCinedEyZfx4sU1xOS4R8Lnd3By6IsyZcqgTIUKGLB0F0LFfbK8u7ELfa0r8Mc5/LwEn3NMr3x+xhmNatYUrmNnh2OPAsQ9efEZS+rVEu/7HQ7cf8dLby+pJ8jKWGPt5Re8jCcqAOun9uWP+/zuBhy+s0aZhp1x+72wm0vfdyx9DRsOzJIVF+q1K0KX/5aA24ecMNxxLdITYjC3TSM0ajMXMZkrAcXFga349JdBw+HL8V5BWtKTE7Blchsxn3ZYfuyRuEeWKJxZ74hxay8zfXmBn1l+Ow/cKu4DbuxaCmtWX9w1rPs64Ma7z+IegYTnZ9BmwFJWl0KaG7LjamXWW8JnHHJy4M91+PlQrrrk4BanDmjVSkhjw4ZwOnS7UIue+Trqy+qIS993LH33r2Hporn8YtfLax2F67JP5qLJgMtrs2RdhuxBTkuQzW9fBye8U5ToXLD62DMXo8TFmluXd+bPbzVgOnwUKHn+9yioPqazc7n0N4SDk3yZFiq/ORaTbnXk0szscu1ZYT/j0ZGtqFqnLY75vIPf7a2oUp7p2sD54l55m65QwRpLd90Q9yjLeyyfIZRVmTKtsOX0Nexn+nLkURRiQl3RSEx3Gbv1rFSA5JhQdGkkyso4QtbyC/QvxZBfJDAdd/qZ13HuHq3GsXsocmJypMN9SR8xzcKn3pLb/J7PLy6jlrW8LJOAY1thJx5fc8BkeD9X7LO5QAGZx02ey+qXy5wMRa2j97cPoXND7vosv8zOFelzcZS9Ivjj2PWm78p93Jf7jcLZ6ucbZ+EgtkcVejrg7A15/8dfz30LBnQZAq7J2zqwM/NDP+PFO+VSw3F27QBUYNcfuDzbzmVJfu6NyY2y27ytx3K3eQGPjqFnrXp4wZJ3djp3PTtcZnbEUVQfWyQd+iKbERHbj/lHHjEVYu1gl0YsDTXh6OotHpCMPUO6CPliH+44Dp89Q7JkjsyPZiFzveSE55jM2tUyNRvB1Vt4RMm3Zayca9ZsgzPeiksoKuARHFkdcNeuyc51PvNc3COQ2We4zKrIm/nxmsyv7XHPzrAydVkQ2TrZED8fvp3nWvMva8vkyc8GOYpqH4J/aSiUB9PRLe4+vI/IJhTTBwi6y/Vf/A+xNk/co5j3GNy8HbrPOIQ4vMbQuoIecG1K0dOSDWdvgt9thblb2HE5Diyo36QMRfZ/cv1EpmuP3oo75FGmT/3o8lZ+P+cn77G+8Z/MrgukQPvNQRTr+zjaMZth6WDpsZt6hhMVjDgdr0DCbjuRcQFrlsI/vKIbJ7bRKLuG/JoZbn2MX/ayGTnOTrQkmHakBzGiIB+CT0/PvWYpJojm/+xAQZEyC3CCvMi+XllqPe88JbDN9w/OUw1zHarTZwHFi5Mz05PjafmQttTf6RwlpqZTQvgTam0JsrZ1pJdiWs5vHENaJWzosn8EpcRF0Oa+NoQS1nRUdvlVHrgtHUDQNCQXj+yDeRl0aYGbN9tKoYdbltB3JUrwxy1Yt4aWrJpKvy6cSNYlQEZ1+tKJ/dvIcdRUWpglG0DvCzHp3GVk9VxrluJCHlE7E27dWWla9jCcXrruoI5NTPnj6nfsT7PnOtKo/u3JVKcc7X8ZySrTj0b2bkhjl+2lGK5cIiNp49SupKFThdacfSpclJHw/hH1qFuRhjq7UgzL2xv3zXyadQya0fSFC8n9ZTif33rfsfyye3UcPp/mzHOkwV2bUokS9ehqWCK5TLMj8xrdyD82mdXHe5rXmtMNti+Iu0Mkrellx5+L6iPp6JFFNNnpVxrRtTFBTYsm7XWlHfNm0vx5srJ7fNoyiXqwnyqal6U5ri8pnW1f2ThF4XEKSU8md+cJ1LDtGHoclMiL3rPrcXolO3878uV+KqcjPw84U9bY3jlrjV5qYhQ5TRhD+8+9JKZ+rJhvUw8bkGk9e/Li86uY97fdaEAnVi6sHKrU6Uezxo+jGTMW0pyRPcic3cO8oh09iBLSl/89BP3Lqz4uhwr2UaPbNHqfnMrOvcLbB2BNo1h9br/xjr+HMvnl0tzJUkhz45/X0a9OQ2gGu8aw1syemGzSqewMp8aFUZuaxnJzqzmCvFzol9GLyScomW0l0KNDa6mMIchumguzX+GY/Ai8u5dqVOlEB2778dsxzEcMrSfofZZ9xDygjqYsjw2cKMtiMmUYSK9EUUH+pTjyy92jd6emtGD/ZUpgN0n+GETz+tcmwzIN6dCjKPGgvHns6kwltNSo+4zDokTk6gxy2i7jP+NCaN4YW+o1ZgVn2iy/MXR4jSPpaFjS1B3nhWMYKRGBNLZNDSYTzo0Jukr1WLnY9FhL77lCYBS1jm7umEE65dvRlffhTHff0zS7Gqy8DKnH1Fm0br+YlmIs+7iw21TTOOdx3LmmtEBwOjxf6jcKY6ssw+Ti1J9a2k2g9x9Z+bFKv8KXnylro4Tyk71e+ZqNaMb86eQ4ohtZqrE2xZVrU/IigDqVBZl0WE+r1vxCU1k+J3atxq5TggbkaMzO75hK39XqTY9fR7BKZz7i4kH6vnQJsh0zj0JY2xPh70UT+1Tl06BbwoSmOi2i6RMHUmUtDRqw1K1oPpZRJB36YptJ59vBJqaCPxgwYy3NnDuY5rBysq9nzctc7mS3od6uC0hXDeS4864oyZYNWOjGtnJfb/Xaiex6U3mbgWVr+sPtGI0ZPJG17dmyJzn6SG/c59HUGVvoDWeXrFU9y9slaMzG85QcG0iLhzXhr899Ji7ZQPPmjKE65obUeOBvlMQKv6C6LBCuzVs+hLV5E1ibJ+jk9SMbqEkp+TbvS9syDmVtsDjs46nrMtLTKkvbb7+n9NRkOjKtG0HHnDbc/czfIj05msY1b0Jz2H053b29Yz6ZWM6gUH5v/tx2asDuWz1rzVJR08Ih9Hd1mK9bQNOmONLCX+eRXcMygmzYfqGN4sol336TgKJ2plj9X8J72sD6ib1n7KUgsZ+4x2kQWbL8y65ZUqZPHflwGbXoNo/1+Lh25iU52rahA0G8EeRB4eyX5407tW/egjZffMiZBkW8fk6jbI2o9PftSS68ggKKdbAky95JjUlVBTR22y1RIk/QgYF8Zia7vhcleZM5WNIwMJUJHmFBBlUbyw2WQi7MJXVVU1rhKSpeUiTZNy5PZRt1oUixbfrgPo2Mao2mEGGT5/hYU3aeFm19LGxP6VKRDK360Nt4YZvraHD3n+Je8JLluzsdcw2WeFnWYEng3KJBBBUtGrvrjigh2j2RDQrYuTtvB4gSokWDGpKmoTl5vFF+tJQ5WFqw5QF9CgqioEcXaGBVNSphbEZjt7iLRzGjeeNB5oaapNF4sCjJ5tic3qRXsjz5fBIFPG9oOGvsAVu6lSiUxalf++dKH1d+uiaW9CQkQ5QwR3p3J58mLfslokQgLe4zdbQxJZuOcylOLN5M3djomVne/jSYNRZQr00XMisu0pOasGMgW5d5LCz0XNGcVGXPfeXGX7/d/FOiIG/CXm8jK9lzOVLjaHqbmnINR6YDkh08ZDklmcHSm509yHbKHgri6kX8PPqtB5+e1pNd811wmRQVTE0qqJKpTUf6nFlYlEaXfhUGk7XnXOOdmjL3yKs+It/tobJMLmvnfPkxWXZ9KJ/fzMWklVrMzQoskimTza8ip56RGEF2Daxo6YXsfAS9eUHt61oRjGrQzU+xwoF5kJZ4i2xl/YGIh8tI0mT5yX6YEEwjqzNdkh0sZcpkBkvK+Jei5JcyEmhN5/pUoUl3isp2awxvstfi0tKDniVzNZwfYTS/ckmy6T0nO8BCRhq5Te9HD2XanftH2QAFGnTOXxTwCOcCNuQWL5x9daMDaTRZyjdgmazsZUQqKjr8uUWtI0rzpHasLmQfhPHlzGT99ggDc47iLPtMPZU9TpE+F8VvKGurvH+BelbbI5BE23s1ZcdZ0bbXwiLvTH1Rq9iUguWVIx+EwZJ+6T70PGutuCCTDfqQFu9GNlCj2TdFgciFpYNZGnRoxtH7ooTIsVNZUtErSeeeyi8+L0pZFUmHisFmfM4uIj3WV2k6bK8oyZaNl3nA8MbDhQw15QdLmTJhsCSQeW6XKdnXu71zNO9zJu72FCVEZxfZkQqTyT7UTP/4iEqb6NAeD5my8L5CFsY6bGDVgV6Lx2W28UsvyPfwClOXeRHzwZ2qmeZo8xQEeChKW6asDRaHfewaW5tUNJrT/Uwn9sCZT2Omf8kMgrD6zzgSeiyRtKPP7C8aLHEUJS0cQn/XmAYflrWxEJrQQJfXl223QpXsNyluZ4rT/93YMka+r8yhoB+mTJ/66gxL1m7NoiRR9PbOFTrzueAHhMrab0ZaEI0vbUwNBy0SJZl4UGPWvzQuPZ6C0rL7rDkplml4iujrtA99TA3w2FN+2kdO/IOVfVcO1J52WiZ4xFvsm90BrFHNwsLWEe7nj2FkHSMgNhYev82Hr98nxMUnIC2dC/AZiyPL1kC/Tg1YCKfwdFvvh8vnb6L7d8L2xOWHcdR1Nax0gehHt7Fg8Wle7h9YfPPhTCxZGjW0UbtaKVEClDRmw1F1NZjrC5PkOCyNSorfCk+iVgxePnyIhx9SMXDTJTx85o8Nv7QX92ZjYy0bhIMjFEdOnYWm5o8wlVt2UBETltqyvzew5dBLXvI5MpL/K0uNitX48o5T8ArVtp6N+E1ATdcI67cdw7b1juCmgAdfO4kla4XpFx9CMld0GKMSt2KwSiPUzqw4I2PwYT/KlMquyzwWFtYZuQvn3ffBljswNBT7Vm/j5UEhBeleLI5NmoUPP3QSzi0ysXA94IqYj3/hIVcv4udD+SFwc3PDon51850Xq6auAV09Q1iY2kBbK3O+vBo6TJmMeuyb95Y/8L6Q98hZH2nvAxEnfs+kUov24NaDZteH8mQuJq3QpBF0teRlCf7BeU4/4EiMf4ugwA949zI7Hw+fvYaj0xa47duESgbiBRWSjtsb1uFG6fLoWSXbnopCwf6liPmNeoVDT3yYH/iB2Z4o5LFBn9FcDbvi7I2CfJApJuwciuCzp3BWVO+k4Cc4V2MR6rFkC0Tgj41bkIgfUaGcKOJh5y7tyP76YOZqblp1BE7tPYTyLRsh61TGeJcnOH/mNpqyc4tWR4xPIQgSv2ZiUbsRuBA1sv72a5S97HGZJH34jMyAvV/uN5S3Vd6/4Ad8L7Y9Alqsvjuwvx8wa80tQSRiZW4KHe0CyjQHug3bo7ypuCGSwcpDWFWchLOTprMar44fGvCCLFp0ZsNYpiVbDl0RBCI6Wlp8OmQpSlkVRYeKw2b0jSyYngANfqgqSrJlkcHhokR5Ms+tWEPmeual+L6KcUnWxosYWZTJtQ78Q+BTVh6J+Ou5TFkEJmDH3j/gtm2enB1yfF9Ztu0ufF0q4vbaYfCrkaPNyxXgoWhtWSb522Dx2Ee3Gftw5uou1GaFlxrwGhuWH+Tlmf4lMwjC0p+bYjLre8TGGqHf6jF8m1cUviQtslSS880WGLN4AfSYEnnefqJkvyl/isP/HfrjMHS7DuL7ylko6Icp06cuZWkNn7Nb0b7rANx+FA2r2k3R2Kjg9VvK2m/wk5s4GBWNCmVriJJMuCBx1oiOPYKnfnkHJfpqgyWtElUxcqiBuJUbzYpVWBeYVU5YeL4diLzRRh3bn6CnIZMFbQvUt7GE29qFGDprLPxaOaJSNXNxJ0cInjB9+vAus6EQ4BYk23ZsDHWmBNxwt1y1WjCJvY9FY3tiyp9PMWRWF+HAb4yqNWqjhb097NmnY8e2sLYskU+QDlme462v4hnK5hWq8dcIffkX//sS331XDSlJyXjxLttAY+JjoW1WE6VMlIieo6KG6nXrIsXvImaP6ITVH4CRU7kBWfGhaWyNaqYx2DpzNHqsXgGrgcoGBAnBnXNRrHegzbStOBD0D2ZV+TrJ+WneqMKXGaRhPTTj+gVR8Ugp4j20rZuglIEGHnk9QDpnDIy4sFCk6pdDkxqlBcHfREqyL6LCmBOt1VJBXtrCSjs/bU7D0zvBrLesDl2VYnJzBfqXopGc+AzhH1PFLXnMSpfj6y3ofd6/c5eJqe00tKoYgDFT/uDXjgU8e4WB9tkPZZgET2/nHBILmJavBh329/PDZ4hnx716xBq0V28gmypdk/Lo9GNdqEREFrGOGKVroHE5fTy4fhWR4k2SoiIQq2GAjk1koqB+5bLPJD0ukW8DOL7cb+RDDlvl/YsCDFl9c92EqIdP2ZC1+Mlg9xfa3RiWBsWBlvRMzPnOeZzfGxSkdUUpq6LoUHHZzL+FqE9vWHmwtrthGwVl0QI5xrw5KI66fI2D65UJWPCV2jJGtg0Wj32YWFVDJa0ArJk0CA57DqMl69fJomFQEqtmTkTljBD8Nq01KtVrDVe/r/M7cQWlJT9KWlbnHwhw/a2v1W8qnP+7hoc3o8Xv+aNMn7rGxKOY07Eanp4/hOb1jdB1yn4kphbtt6ZkCQ/2Y/5C8fVKmpghIyUVgZF5hz4rpl5E3tRt3Ez8Jk/quzfgilnbrCS+NKZMhQr1oacn40hD3dG55k+I7zQELhv3YriNueJO7p3fcNBH/J4JO3fjuUCosK9HFg7HT0Ou4eeVB7Br0hhU1PjSFH6rCCFnU1LO4XMOT6RuYck7KV0r4UlZ0xHL8NuPFTBx2gZ+4TK3eHHrwQT8fvwsKinzaCY9AUsGdsGs7R8x/bczWP9zd7m3fsVBxIMNsG26GDbTV+HE6vVoU7qQ0WaCQuQXkheRRy7rILMWN4t7e4SF6YXHBMzWgdqV+AcQHF96D32zdtg8bxRu7nDCKZ8EfqHxiEEHMWrREfyUXwT/r8ip9euyf31c5POLd/CPUWLxZ1w83qcV089GKutfvhB1jbLQYz2a8Mg7zPZEoYg+q2D+ybT8q948sEC/bl0QeX4WnrxLwIunT1CnhKzOW6AMX5fn8FaIQ5NNKUu+Q6ZuXV4MAsM4Nw3Xcq7FfX8Ibl7ZHbMvryNrOB05AmPPlZi1g1ugm4CFjs4wazIPM1tzSi3ylcteEUX2GwqRtVXxjTnu4Knwoj4bE1OU5f6yeuA6uV8PXVSszWnWC9x5IEiyMCiR9fa+oGFpcZTVl+hQ8dnMv4tjh0+K37IJuPwI+b8jK5665LnzFDlVUhHF35bJUjz2cf/QHDRrtRMdFmzFMadfUc8wp+dQQ6MhS3DL+xH+WD0Kmv43MLRrW/whBukqTgpOS8EYW5b8V/WbUs7dKXDAqlyf2gKL/7iJZ6/d0aeaFc67jEOdn37jgy4VB3ri26a3731FSTam+qyzqq4GC5lZXTn5aoOlyHd/YunZOhjwY31RIk9kWCj/uq9JzexXZ0UjBQdmL8YdLR20Lm8JTXVFWauCMQttgLQELJ3yC54Eh/DStE/BWL/MFdbtqrOtx9ji/Acy2rdBOQPuGWvh0NVj56SnIzaRe6YrEBb6NZ4Nfk2s0aiRNZLiovH4jfxTpk8P7yLStB4m92rEb6umR0CzjD1WONjg5DYn/H4lHnt8rqBnbV1+4FkQsZ+vY995Dxg2bwJjnQKeQn8RQVjUbSoCv6+FRqaGUFEmUVlYoeMANmp8dgKbTvplvZ5WhKqqETS1mBZ+jsk6LjX8DWLlIuiL+pf8GGN6DsN1n2BempGWgvPrJ+Kaca0ve3AQ+xD3HupgwDQH1tEt4j0oDWl6VeA06hf4uq3Fxn03MezEY6yY3FTuPOXyWzT0DTugck1DeF/fBsfZm/EhQnjbGRvsh+17f4OJmty8mxxooEmHKqwX9Rdmb/wzz0hOAvow4Ab2wRHZx8UG453cQ1pl/EvR0NariVoVzBH6JgAv4uQ7iO/8niLFsjV6tFDOX7bp0g7JUUFYs2YCfLT7QFdDVvGt0KpLPVafqbh7Vz5iUBSz7/clrLHRsT2z3/roMZx1sVJjsWDBrwgQQwbFs8ZmztQzsKxbtoh1JKKSBscR6/Bd8k0sWbEWZYdsxs0/Z8AgK81fv+xzUxS/kQ9ytmqKzkNbQwdpuH7qGv+mPpNYv2d4oWOODRO7fOUnmvroOLQ9SrCu7YXtxyD7PD3xw1s8UNPCpEE/FuCXilZWRdGh4rSZgtDQNGB+j5WLzOAtlvUdUos+Ksiics220C+hATcXJ8xadQiR8cJbM+6h1TYPD2GAkCfFUZdim5d2HltW3EdapnPPyMBnNhqNjItHCp/hr9SWyVEc9vEKa6asQ6RtS9QwVtzZT44Kw46Lt6BjZIVe01xw3W05MpLC4fE4/6Fp4Sk4Lfnhd+80YhNs8FPnuv+SflM9fFevBGI+ueDanzIj5sQEcNrw4p2gE8r2qa/N7AzPOG2UsW7PBqqemN+rIiLdD+NlMXWfS1Wsh0p6WvC7+0guwi3HK2YfRlU7o7513kNOJf1wBpKTk/nXc89fv816TZfJ42ur0LRhf9z280NYcDAeP76IQT0cMfbaYfxgpahw0nD3xkWo63ZDF9u8p+rxEMH/1TP+a2osM1RmtIohJCewGg15DIfllxEc7Iu9E3vjcUAQ6/8lI+TjY1x8EIAGky+hbTUtBFzdhrplSjMlUIFmqbI4qvoDfq7GpSUBaclqCD82Bufv+ePZzb3ot3E3b/hJUcE4durPfN8ylLOuCY30OGxbugOPg/3huWkajjx9w/YkwKnHAIwbtIufGpOYwpwgy1uqjKdNTmHugMmSuL8i3Hz8FLYdGh4rSvInPTUJf70WQpSnJOZ41JaDdK5OM1gaFDx5nzp/MYw14zF41npEiw47JS4Ae3ffxuR129CG+VOO0ytmYNphLzS074yRI0eyz4+ooJ+Ejx9DkCiTt8y0JKfKT5kgSmRpVoXnvnnw9X+Pe3+sxLDdp3nFjIsIxPY9NxDBHHAsd1pqClLES2awMuGbrOREJGXKWD64w168DpRpwFKQGMucyb11mLnnMdMLZoQL5/BTCVPjo/Hg8T28jM8e2Mqjg65rNqGaVhSWDWuHLRdesvODcef+eQS+ldcCTS0LmJub4tnldbj6MgC+F1wweOstqGoDnucWoKP5BN5A6zruRFMrpn+3d6NN7TK8/qlpaqPfUVUM/0ks1AIICrqDD6Gx/CCFMlJxbctcPK9ih009hFc/ytwjr/qICjqM4eOdYdmjM4YPH87qsy9sa2rxdh0dnz0SUja/xHSMqRhinr9Gmug4OHvkZOnpSZy686iwfxpqanzeAt6+xx8r9+Ojnglm9msH3dRP+H31eJQtyQbgLC8lytfGff32MOQmcOeJKuqPn45eRiq4scQOA+fv5evu2YvbuHDBSzwmEwPUrFcbKsEbsW3vbbz/6yomrTwANf7FxgF0NmS+TUn/UqT86pbEppWO0Ip7hqajfkdcEmeXzB9EP8elSx+w9tRx1FbyIblJ0z5Y0Rw4vv0Teoyvn8vR95q8Dd+VNcCS1YsQESP49vTEUPy+4wJ6j1+M3uJSiB5TN6OCMbPP/YtRydhYKP+KdfGoyRS0Y75dvUh1xEj3wvCmQ5DQ7gf07duX6dtwdG9TlnWUgxEWKeg4VwbFWfZpyfFKHFcUv5FNQbbacORx2DW1wtFd0/AyMEo4jg1O3Y67o6mdI0ZyPyTOy5KRxhKbnp7O0icmugDSWT7TmB9Mu++NWC5zgpCXgRJY/1eQVex9AON718AT19E45REgvBFgx92+fg1lv+uPyb0a88dxstRkdn/2L12uHS5aWRVFh9SLwWbSk1P5Ov/0NvvBYDrzi5wsjelFJibmFaCnpYXzezbDM/g9Hh9YhsXnvbkZUTi42BG9ajvx4aaTk5MEXZJpV1OS2PW4v8nZbXIqa8842dsP2W2JXqX6WN+jKrTi/bFy5gCY6GvyZWFcrTnUqjOD5khPRZLYJudsu5WuyzzRQY9Np9DIShM7ZndA3y0XeL95ae8k/PUqEgj0RIXO7eB86FGR2jLlbLA47CMJKQlMfy5OwNazvnj76hLGrljLv3FMjf2MK9eZv2e9hl1rtuF5dDxfHxXqNkQdbUM0q5P/0JRDXUub+dYXuHiJ6b3nKRxk5VK0tLCWS02TyYgNiMKRwPcFCfFMn3/fcgUrvK7zfleZfhP3aCstMRYx0ZEsPSlIFdNSfP5PB1Omj4N6WgT6tWqOZRe544Kx/Let4Gv/khMs2/6MJxGflexT+2Dn/kvCz1LomqHFD01g0rYfvism+9Wzagy3zf2R/v4Mfhh/QpjiRxlIiLgPn2eq2Ox2AFb5rRzhojzkTwgtGNqR6lYz4oqQjEy/J7su8qEh33oeoQZ1tQg6OmSqVZtGOq0kn4AQMbKIAmIeki20aOSOG6JAMUFeh6iLXWeqYGTA3xuwouYdO9LiS7JhWrJJDPGlmR3q8ZGU6vWaRF5vY8ht7mCCvhlNWXeBIlK4ozIoxPcOzRzJjuM00tSaJqzYS+GZYUEYd/cuI9aUEazqkdPOc5Qc85Y6WZuSQYNedDOvWOiZpETQhXUOZKYPMivXlja6P6M/dzpS3QY9aP+FexSVmEjeuwdTxTKGLD+qVM6mGS06+4wuLR5IFc2zZbs939DuwQ5MxoX7VqOqNq3obGYonDy4vtae2rdoSPp8WYHKVGxE3fsOJN8QMVyUDK/PLqJWNlWJKSzBsAzZd+9LF33lyzX8xVWaN6QtNf++BXWxt6chkybSnkteJAbK4nnuvpdsrYX7yX5U1dSp/oCVfHQxLr+NKnKhL9k+s6pk338c+UYLacpIS6ZzKx3JittnbUvOrncp7v19qmWmT1XtHOlZWDItH9lIvK4+NRwwlcLj3tOcbtmyNsPnUnTiYxrXvLYoM6Oe4xZRHF/fRGHeF8iunBmvBw4zNlJgaCgtsrXm63fnOV/KJwAKl0DyPbeTOtSz4q9t3Wsoefq8pSk5ouEJx62kelbc/a1pkrMrfQq7TZ1s6tH6Q1fofWS0cFxO/YMpdZuwgrzDM/fnTWZkm3I2djRt3EjqyOrkpy7taMbCZTnqOP975FcfCSHeNLJtOWFfjk+Fpr3ouXicMvnl7Ldj3Wp8ZBwdI1PqNPEQPXB3oY7N5GV8xH52PY9907P0wPVuIH8bZtXkeXKT4F/YPi3duuR0+CIVHCNHINzvJk3oVlc4t24D+v2iN13JFQ2PO+4S9Wqgy47jymol+YX70+SGZjRj3WF65C9E7CzIvzz3KI78cv70JDmyNLds1Ibsu/1Eo6fOINc7BeipAgJOjaWWE/aLW7mJD/Si1ZN6UbPKTakz06V+E36hzcevin4ykzQK9LpEQ3sJoVh5n7jtNCWnyEYYK0IdJYbQ2pEdSIvXU/mPkVU1cnZ/KR5WPGXvx3SyRV0rpeqoKH5DeVsV8rbDaSS1rNyQP677+OG0bs9JyjyMs6NOzeqSDksfdIyofSc7chHLJS+iAjypm21l/hw1TS1qNWwD+fpepL4da8vJMi2ACxF/dOMM6lizHrVnabAfPYiWOe+lQDF6FXc9B7umZMilQU2TGrXqQHN3e2ZFXCySj+Upmp1/qc1w7WCzquX4aJ+GZSrSwMUX6ObuudTMRlZ2iaWOkRZPXvsmk7VpZvpukq+HC9WvYUsurn9SWHw8fz2bqqwc2LnmFWvT4N2PyZNdz4YrG1G2+NJ7OrtoKpPp8zKund4tFwE+ni7vnU/WYrsq9CM8+eiFKXHhNHVACzJjcm5fVZbfrPSJFFSXBZNOAb6naaRob6bW9WjveS+ayNo8uyHr6fp9P7Ft/bK2jNNnZW2Qo6j24Xfpd2qgy/SK6+ut3Efh4R9oJNeei343KfIzbdjhRCuW/kw/dbOnbvZdaeU++X5OXiSEPKJuXH3L+KGipIUnKoQu7N9B3eq2pDrN21D3bj1owdKNdMsngNJFfVam35SzXJqxtJw6Vdz+L4483TdSW1G/rW0d6ObdU9REy4BmOu2nx/4hfJqV6VNfneFAa/YupEGjmc62b0FDxzvx+ciPQtmvyNPLe2lI2xpky3yYfZ8eNHH6PLr8NLv9zQsV7j+Wyb8Vz92T0HbJY9y9cwnfW3ztmed5kY53uwZhn+50zOtfV5RJFJbQh9ewxTUNs5d2kFtDkP6BW8Q4DhVXn0efnMH2vnXS4jGjY2PsDLXAK89LMC3o6XkxkRb/GR0bV0WoxQh4XlrFR8YpblITArF58T38vLwv5B7oRETg2rHluFV1Oha0Lv6F9X8nt7ePQpvRO7DlbjiGN/n21jP8t4jG+TXHUGXkQFSRnb+flITQlwex8kgS1q0YJwq/Hf4OW5WQkJCQ+Htgg6+/m/dYufwO9t6/gFr/2ECJ8dkPHeafwZIxU5B/cHOJ/Ji3cgMcFskPlDjUrMqhVpVy0NAQBRLfBKfntIR2x/ryAyUOExNU+r4xDHQLuSBBQiIffPaMxaYgI1TMudBZWxsWdTqgvKkSa54kJCQkJCS+In/rYCnU9zIWOI5Fzz0H0NNEuQAAXw3TGrh34BdoIQbJxRVu4/+Ntztx6dhNzJ69D57+2YshExMjcP34Djyq3A3drUThf5CklJQcc/e/LhkZ6UhJKcYICjmJuIeVG4OwY90OnLr9DGli3jIy0vDs9ilsvfAXRtXO/p2Qb52YhPzDPkh8ZdLicWC/Nx6f3gaX4x6ISMyuj/f+npg1YSUadlU+tO6/ia9uqxISEhISfxt/42DJBy47XmPmmlMYIPPjUf8UaweUQc1BB7GCderbfN3YrP9dKozAqvFNcMPlF/xQrQK/wFNFUxPmltWw+2UJTB3RSTzwP0RaEgLeBuBKUBASX7/FsetcBDj5RbZfg6TYSLy5fgxvXyfi+asruOofgISUYh6omTTBpRO/IOb2NvS2rcsHIFDhfqfI0Ay/bL6NKYtnQl/7G55PRBmI+BwK15vXwS2z9jh4BaExBS/Sl/hKqOth1fppqJrwBFMHtkVJXV2oqKpCQ9cAbfrNRv8lq/BD1W9vmuTfYqsSEhISEn8b/8iaJYn/EqkI9vfF079CkML90IWREawr1kJ1q//OGwg54kNx5pp8NLVqjdqgqoUSP8BbBEJfPYaXn3wY99rNO6GccXHPcyREh77BI993iIuLA3R02OC3KupUKwetoseC/WfJSIXXnT8RGpkd+lfbuinaV8//px4lvi7JCWF44v0anz6Hg4vNrF+6EurVqI4v+AmSfwV/n61KSEhISPwdSIMlCQkJCQkJCQkJCQkJBfwDAR4kJCQkJCQkJCQkJCT+/UiDJQkJCQkJCQkJCQkJCQVIgyUJCQkJCQkJCQkJCQkFSIOlgkhKgs+uRVi4/bIoKH6iH93GgN4z4BcrCiQk8qGo+hLq445lztvFLQnuB3cPL5yBIy9iREExEP0WSwb0xtrL90XB/xkR/nBeOBZdu3bF5IX7ECqKi8KLwwvRY8o6BIvbeZEUHYpdC/rhsuRQC0d6Ovxdt2H8vD1IShdl/xABHkewcM8lcUviWyY9NQmuG8Zjj1eEKJHgkHT82+JvGCzF4+rU1nxY6fJNhiMq+euGUE2I+YiLe37HiFGD0K5dV76x7ttzLAZO/xWHzxyGY8tx+KhUQ0AIvX0KvTpWQe0RC+D57J0oLz7SE8OwZUpnGNVvjkPHryMyVdwhIaGAIutL9CPMGtUKVrU7Ytu5Z6Lw/5lUPNu/HFVsysPBaSdeRXIBxXOzfnhzaGhXwK67b0VJwUSH/IW9Z07iwOGLouT/h5TQx+j303w0mrAFO5b0wLENg1HLYRciitgBv+a2Bad3r4dXXoOgjGRcOj4DVYxKYcSiP/DuX+RQQ2+4CD+toFIWzo+iRem/h0jfWxjX6ztU6fkLbtz1Rfo/Ffbp8w0M6/w9KrXoj6N3AkWhRHFA6al4euMqLl29geAYwRgzUlPxKaYYHxLl4OG1lfhOUwc9J2+Gb4j0Mw08/6COf/rwAqddN+HHduaY4fZRlMqTkPAZnrdOYv3M1mg0RfFD1Vd/HkH3rs3RqVMLtGk4GV6BinUoPSECa/rVwfrLfqLkG4aLhvc1iXy4nwwNTMnFZQtZq2nS2GMfxT1fgZBL1MzMmOr0/I1eRUZTWpogzkhPovDPntTDxpIMzbvSmzhBXhCJ0VH0/MYeMtYBdXLcKUqLj4z0FIoI+0hTbNnIDA3obri44/+cl/sWU2C8uPEvJj7Ql/a9jBa3Cs+7g4vpYaS4oQRF1peUOAp6foMsjHWobCdHUfj/TDrFhn2iS8vbs/I0JqfbYaJclnfUpWJZWusVTmkZokgZWF2FfwymiPhEUfD/w7FRBlR12BZxi+joph5k1uk3iilM+SkgOeYzBX+KoFRxOxcZ6RQe+Zn2TLHluvq081/kUKd3rUxtl16jIXWrUWVbB4pOEnf8S0iOj6UP/o+orhWoZpvpFJdnIX9lkqIp6O5+vv6qj3QRhRLFwcfj40hPXY1U1dTJ2KwTHX34hj4/2k7Hb/uLRxQ/MdHh9Oi3Hnx9Tj8dLEq/XUIu7aZLIeLGl/JP6fi7g+TQbwzVrs31H/Koj/hAGtR/Kv1kXzfv9LF+dgNdU5rm/oHS05NpWw8VMuixQtwpj+eeCeTg/DJvn/0N8dXfLLm7h+KYdxhGjfoFXm/uwOCGM7w/FP8v5ydFP8SPTQfhbcVeuHZgDKoYlYCa+LswKqpaMCnZCDuO/YbqaQ8QGy/IC0K7hCEsLcqw63ydH5hRUdWAsWkpWJpLv/OSSeKHKxgx7f4/92SzENw4uh5B4YrfRhREauQLjJh4FYX5rcoi64uGHizLl0NjDU1R8P+OKvRNzVDBykrczk3UtUNoOMcFUxqaQE1FFCoDqyuTUqVhrPuN/ljQl5Log13bY1GxbHaZ9nY8gU8XxsOgMOWnAE2DkihtZow8fxZZRRUmRiVhXa0K/k0aHnBsJSr0OYYrc1pj96P7WNnFGkdvF/9MhaKgqasPM3NL6OnoiJJ/CK0SsKxqjQbipkRxkYhr93TxJiESd/7Yju7Wf6FP/UpoOe0JGlYvJx5T/BiUMEHZerXxX/jVxYyUGCxe7Iqkok6O+qd0vKwDDh7eiktLJyJPK9cth32H1uDU1jWwFEXyZODGrnV4oGWB7nWNoKqqCfseAxDrugYHXomHiATfX4slp/ThMrJK3j77G+KrD5b6zJqK9hWF78bl6mOF8xLUtipuh5yGW0uG43zAJzQdMR7G2oqrxqRqD2xf0YyNl5XviWto6UD1Kw2WMjEwNBO//X+TnhyD7QuW4am4/a+FMhD9fD8mTj+OLxkqpafGw33nElz/HCdKCoekL8WLQYm8B59GbWbi1xGdxS2JAvkQiP+/iYf5U7H3TIwdUFfcMkDPqU4Y0ebrdVC/FFVVNWhq/p8N7v9v0IHD6lUw1zBA455DsevOK25WEZ5f3Sz9WLISZKQl4fXFxTjo4S9Kvl3UjE1QoJXr6OY5WIqJUjS9+TOev85emZoaFYjBY32x5ORS6Gv+N0Ij5J+LpGi471qA7Zf9kJoUgA3jh6Orw3DceC28mkkK8MD44Q5wcBgPj9dJvCwnscF+WDdlCr92yIGde9wjQNwjEPr2Nvr17oFhkxfiSWASnod+wVLgYA8MW+PNvtTD6D42giwPvuu3GhUMsh8NXNvnzKeN+wxfsQEBScrPc/e7tg9TxHM3bDuHVH4acDDWibKurFxexAjlcmOdKOvKyi9CuVdb3EL8ycOG8eeNHbsQXv7KLZAUFjjP48/r0aM39px5JO7Jh/RUeLluwLw9XkhHKPYtnIyu7NzDt8V1GqE+WDh5GLteP5y5nUcdicEwhnH57NEDY9ec4dbO5yAia+H3vmt++ODuDm4Gf+iL2+jevhFm/34d8dGeGNmb6cv4eYjhVxrHwuPIOqw57IWk0LdY1K83Ji88yV+N44vyK8IFS1jA9I8/d/YC3C5wPUEsDk+eiDrNR8MfcTg0YyB/7hJ3mTJhOryPlRUn7zp2LLa5+nNrp3mSYl5jdLf26DfjEFLZFaY7sPv2G4QXoYKeyNY5d66rFzuX3/PlBF87KeopS0s+18s+jpX9wg14HaCMLSTBfc8i/pwFu9wR8KcXy5U8Ef5eWMjywh0zbNhkuPsIZfXW6zB6i/cbtMSdXYmLi+CFAazuOdmAIXt43cifWBxZJ/iXDa5e+HDRXS4AgKxucDq5cA/TSXFfQTw6swe92Tncub3nLcCjUPnUZPrEcyzDoe57mN4Pw55MPcgnMMyXlTODs8FlznywhAj/cxjLX2MK7gcrWMMTy2yGlYsDd4yDA6Zs8uBESiDY/m4fdg8v7h4OWHfktbgv77rk9WDJIHQds4TfenR4iVDmU46wGspGtkznLdiF0GjZdiN/O88zsEmWvTGf45xP/eZjl/kR+ugM+s0+zlInpI8r02mZ/j42OFv/tnmJbUBuZNuZFRtckSR3oGKfWHiK0xbENoAr04WK/HgBdcmVy6Z5uPQilN2X1eWA3uw4Zh9Z+iKDGFgiU59P+ileSyF/HNO/Zfu4Ki0EBZdzgMdxDGf2wh0zZco6+CmyLYUw3TjOdIP58668zXjgIesfCO2CPxaKae46bGFWsJPDC0VZ18lg5iZHQf0mxeTvi4VACyvEe3bFZOc8Aq8UtZyZspxh5dyDOzef4C55+xIBv/sn+X1jFzrjOdOjJ8ynyiH2T7n+Btfun8nsq8gik5aurF1dtMuHc81y8P3YhXt4Wwj14fw48/cDFuFtlj6HYv6Anmjy0xpE4T2WDBbKJTOAjGw+uHvscmf34PfIUKw6nr+df13UUNJcS/wuixXq1rAQvwdjY58+GLL2V+TfG1cE127NwJ5LLwS/sYDzG4I+yzUVDFlb7cps5ZpfzlIQfNgeBW2Z0rYgizAbLycZFOJxklpaWfHzFoct3UWbZ7elzvbtqZw+CNYO5OF1nno2bUv2MrLXOdYChfnup+mjF5M3P8cznHZP7kGaaqD5hx/w+xND3KhVdTt6GptCMUEv6Ze6VWmBmze/rzA8Pz6HTyeqjySlZ8UmRdP+KT+QecOhxCUv/LUn2ZXTz5WPuDceZG6oKbdmKS0+nFb3bUL9nVz57fDXJ/gysJ1yiiJSuAMSaHn3egTjmnQ7TLxYpgzl6UCQ/EIVl5HVmVx+DYrniSXkOOUIBcVwS01e0Yg2lUm/nA3d8M9/MU9UwEWaPXQS/fmKWysRQ1dX/EJGOqABay5SSrpwTE4inv9J3ayt+TJsNnob7VtmTx3tO1I1I1amVh3ouq8XDW3bmdV1tuxhlHhyJlEBNPPnVjRi+QGKYWlOfPOKBrI0m1W1o1tvhDRnpMXR3LZNaPiJ18QtJ3N1GkMmljMolN8r4NiprMy6sjQKPLODmtUy5dPWccImmje6DTWtXYl0dGrQKVZxX5JfnvQUurh7MjVv2ov83rBzWaIP8uda0eTdBZzLCD49naUp9zqXt55HqEFZGzpy9SVLfhqrx61U1Uyf6cY6CpHRK0V1/vbm72Ska0orz72ktJRE2jCwDUG/HB18XrC+KCQtnrxW96WGbScINhgeTi7zfyYbLXX5NUucLazqTZ17TqAQ8bg1vK1a05qzgq3mxY0dY8lm7iVW8kSvru6jykbdSfaMN7c30WTHzfSaT2sIOfVvRuq6RvT7zbf8fgo5RTVYfZl33UFZxSPKcuqGIn6f2J1abvYmrvY9di8lfc3B9ErYxevkuA6VqNqQvXz6/K7spQoGGtR42G+UJFO/ueqS0401A8igQht6GpXI+6Yh1Yxk9D6eji4axOsk95m68RD16t6GrM0NybjacPK4coxaVhd8p9xaxy8u50Q6v3gy6airE8p2out3d5NDvw7UuW0r0lJXI+ufpovHiYT50tBOTWnmzkuUyAom5KEHta2pT9a2Q8lX0bIsnkS6tmky6euwe7B0j91+i4b2a0O1ypmRqtGP9JQVYIF1yfHKjT+/4wI3USCQnhJPu+f/Qiu2elIKM/4gL1d+fYxVh3EUEJW/nR97+5bmD+zE78up9+Hep6gJs7flrtn29lM9K1Jnx8quWVLWLmVJS/hETt3E+zZwotNHZlBb+y7UsDJLJ2+X/rRp8nDmF2Vl8rbKGnxaNXIA7eDSx/zZ67PcfUHWDqv4+yrjE5WlqLaQGhdGbWoaU7n63WjhoLasDbCnTi3qko4GqJzNAPKP5xo35eqylikrD01DWnlgP80e3YK6sGtVZPahZVSK7r2TWbCVEkFnp7WjH/quFPSKGcaKCT+RNStzufUScSG0jh3X13ElZzb8cdOY/mkZNKAjnjL6lwfKlPPZzTNomtMlYibPisuDOjCbMa1nn4/NiMQH0ozenaib027+3ESuLWxentebrjsChGMSP9DIasa8/YqSbBnq01VRxFFQvykv8vXFrPxWOVSlcnZO7Iqs+LwvUUNzHSrZfBp9kl0/V8RyTg55RH3rNaBxom68vOpKDrbWpM/KQnaNTEG+JD5wJzVtPzGrb9ajagO5flNiiC8Na2NLK64KGv700lwyYHo6fZ9v1trS+De3yI6lZcMJT379OpeWulbqVK//TKan/BG0Y6zox1nf8dy5FWTX3Y46Nm/Ey+pN2M9fJ5PbTg2YvDrJLvWJ979BNuVK0XCWX06vjswbSlDXJaeTMv3YYtbxfO1cCcJuO5FxjvrIRfhdapAzfZmEc33lUuRw8DnFxUXQIlvVLL3icGftSOfFrO0Rt5VDtg3QpIFO22n2gB7UpYs9Na9RhsnUqcO43ymz2/ng8HxS16tErj4hzN5CmL1VIpjWo+u8reZsy/6Ub8s+KmkLOcgzwAMX3ODGnimkw27WadxWik5KY0OoNHJf50AaTObo8ifFMxmXyaMzhAW1uz1lGgrWYNcsq0/HniWLAuZkPz6i0iY6pFG5K71j24+3dqcKTbpTlJjAmA8edOjPwg+W7u505O+PdvN5hVWG+IDbZJFjEHRqfjv+Om4ymqdosMQtWtOuM50+Zq1aS6P57biGXIPO8WslU+n0dNbRlR0sZcqUGSx576bvfuhMYQnZK6JT7qzl06bTajXJny0D64w52FamNbey1TQjMYLsGliRmllt8vyseKDFLe71f/QbWbHrc4t7g9ngNZ39e3t+GhkxWYdZJykqgWso0+n1NmGx5qyzvCcXSaLdDrZkVT9HmuOuky2XZuOx9IZtJ0UFU5MKmrT1sbCfUj/S8s75DZYyKJ55jZfnhbxrdZxD0YmplBQfzfzIZ0r7wvxyRH88RpU11eTPTU+g1Z3qkppmZTr2Mf/ADYoHS97Uw0CLemx7zUoqG8/Dgh2NWOkuShQPeHaOriUnS/PcyOd74IEgQSCi7GAp0HMPmWnXoWtBuW1QdrDke3EF6auqyNtqynsaV8qYNHSakYcoU8QiO00afFh0uhkpdHjisuwG+o07WZYpTfeDsq0y1fcEnyetuo58Q0is69CpbI7BkihTptM4qKEmzb4pbqRH07pOk7MajpCzs9i9ZOooMZK6NCpL5RvbU6SMU8xZl2ms09i2Vkm5he7v9vTj0+3MZy6NIsNC6PS02rys68bblJ6RStGfP9HH8DiKjY5UGBjmy8s5jaJDn9NYC9axUqtIM899poS0dNYB/EjjS5sQytvx/lQgjBbXLEs2vefI+cKk6BNkw9JatuZidoQi2D3CQslzTQc+TxWmnaPktFSKi+SCKsRQulJ1ychjsPTx2FjqMOeoXJre7BR8id2vFykmHztPYXb5WWFgkxCa0MCSpp9/K2dvJ+bkDPCgvF3KwgdU+XiJ92HQaE433sfy6U98dYjv6Oi0WkqB0YKPSby1hr9nk6X3+O1MLq7oQb1c5O+bmb7p+x8q5ROVpai2kDlYsqo/jt5+TuDTnJ4SQ/vGNWPnqlGr1Z78ccrU5f6pbFtFi+zmXmQDCGGQdWxOX34AtfN21nCBHh6cSSZmnehFZG69ku2oua8cwdqRHPqXyOqVHadl0IPVcP4UWM4ei6mxQw6bOT+eT0eF/gdZtzovmL3ZVKB2I53lzk17+RtZsnOzBkvMu+3oai4/WMqUyQ6WlOg35UV+vjjScze7jyaNdMn2Mr/2r0u6JpbkLaNsRSvnSFrT1oQGrnNXqBtZnXMlfMnN2eWp4aBFwk6G39WTdPqT2PNJiycn+/rUcuJhShG7G4mR76gRazOy+5NvaKyxDtnOkNfTkBdCP8fWYTfrtTA/HnKXzxvUa9PGW5HsehmUnuwryGqNzvZrDEWDpXtLm8jJ0v1O8fmQ9X/FreP52bkyFHmwxAhjg8S2nS3J3NyU2o9aQ/5hor6+O0g9+89lZSsQFnid+lerTJaWDWixR37aK/T17u6fyspFhWoNW09RsULfLDn2DU3jg1Jo0a9idI2JduXlgrWluU/hy3MGb0jybVnFaefl2rJwJW0hJ3lOw+OCG5SzrgZNTaBK3ToooaUGFajBwroKuBmuJUuXgi6Tca/lLCsLC2rTM7Knt30IeILgsDi4uiyHk5MT/1ns4obRE2Zi7qAfkcaO0dU3wlvvaxjmOBt3vCOgZ9YQP9QqK1ygEOjqiWug4uKRIHwrEN0y1bFhnhMmDO0IsHQH3z6Pq7eE17ifwvObqBOLP7ZtgkmrViiVtTRKDZN3PcDyRUdgo3iiZyHIwI2zR/Ax8C+sXbYoq+yWucdi4cKFmNm6EjtCMYnxH/Di5V+4tn9l1nmLVm5Coy4jMH/cEGjnMXeUW9xbqmw9GDILsqjfHGb6GlBl/wxr14Eh269lVRaGOlytq8Loe2GxZnp6diqSo95im4cnzEybQ09LRZRy8QRs0X+4NRIjt+DUtSCoqKpCXUMNS0b9iK3HfZCYWgojlvSFnnh8blSga2ICM2MuFYBtkyYooa0OLd0SsLAoiZQvzC+32NVt2kT8ldIQ9Wtnz95VUdWBw5hWSE/5CxNX3BKlypKBh86r4RprDNsWJnLzW2s26gaDEho4evaoKFFM+5HLsGj7GtQ2AdJCgnHm+J+8/OVfyoesluXi9iUIsx2GJpbZy91VDYzQUF12+TvT5/VrEJfREVUryRynYYWpTo2Rmngbk1Y+FqW50dUvgb1TO2H+RldERWvgx196oLS4z8fzCsIi4rBrw5Ks+ll69Cmvx7N/alTk6YUcWtra2DCiOVbtvoHY+BIYunQgSor7LFoOgfOKJRhapwSr8kQ8P7Mf74NiEMP8RFoa54EUo6ZTAjOnLcL0WcOhw2w8wvsOjrn58vsCg7jpE2owMrWAqQFnE0CHZj9AVUUdJUqaoZSJHvRLGCkIDFOUclZDCfPyqNuY3c+yGsbYlYSOmipU1AxQuyFLYGAoMifKffK5hfUBwahc8Xt2VjZaJXqgVcfSCA7ciCcvo0SpLOwepuYwNxTsoXdnO2iqqUPPiAuqYIBnRarLRBzbtQVv7pzEEvFc7rPvgw1/fvfvTKCTj51rMLssqSCwSfDpFdj0wQJDGpvL2ZtFedkAD19ul3xAlVLfo0p1tlG7Pb630ufLVLtKVVRmfxPLlke5ErrcodBmbSB3WFqabEnEwv2UK15d2obFMvl+qmnL57sJu17hfWLeFJctGBrqwtRQhy8rVQ0DDFq+ER1N03Fz/SEEKVmX1tXLsAZAGz91rgpDbcFOrCqZAympeB+eHWZ4z7590LQfgcpG2dqqbmGZY/F7FPb+cRTaWp1RykzmOG0bTFlog+RYV2zgVpdHPcJ6mTQJH1d+elX+5ZyKE79vxrund+TytMLLlM/TL/XNuJ6aQnh783+Pem1ayNmbmpa23LayKNNvyov8fLHR9+2wfZETRneqwbKbioBLh/DkWQjS0tOYrmQuC1CynPMg4u5RTLtNsGteXS7vBtXlAzwo0y5w63Lvn96K4TNWwdc/HhXrtkJNppccidFvcer+Q1RuUA8aYndD26gM9u3ag+ljZoPrqrw+cxhbIgn16lSQS0vJsn1RtaYhPO/vQlRsOowsqqI2p2xVGqF3cyN2PRWoaloIsmdv8YE/K2++H7QCK5xXojVX0FFRuOYqrNh8F5w9za5YdZyRn53/XZhWboUr54MQGhoGd5epqGyqifjQZ+g34jCmrJoLbqJerN9JdGzeF43XX4K/53Ica10NE3YKfZrcCH29qtacF9VA08YNYagvtEWa+hUxY/NC1hdNxrUjl/l14oPHL8G8jQtgxQw43t8Xh48+4I99+YbrK+VsyzrLtWUmStmCAsRBk0LeeLiQoSbIceddUULk7baAmMrSQpnXLx4uI4k1TnLTHjKPO+GbX9DAEJrazIy0VVT4EWDbsccoRHwKVRiEpyacP2tHnrKPEQoiLYle3T1PwzpakcPOM7RzQUf+OrL5yP1m6QGx4RWh3x65p4WZJCdyI+yivFlKImf7xmTVwI4iEgsXazcy6ACVZ2lbe6fwZRgXdptqGoPaTD+dFeYx83r2wuN0HkVPJTKPa9RlY65Xr2cX2RHzZ6IOpdGlxb3JWFeLl1na9CCvkGi5cpR/syQQfncnXy85n1Z/eX5f0UB2nkJ9ebyVn8LDTbvJ1oLc5H6zJNQbUJb2vMvx7u+TD5UvqSf3VFHh26GMdIoO/0jbpv9ElfsPousXV/H5buB0WzxAQLk3S3noadwb6mpuKPNmSTwO/cgvp0LfnE3Mbed46yNPoNd+sjbT54/T0DEmlyt+lFkbbgsHkI5JaXr0UZGlZFK0N0sPD88jMwMd7qkPGVnVpfMvQrL0lyMlIYY8j22kNnb1aOFVH2rbuDwZ12xDYTKxkRW+JUxLoffPPWlqt0rUadkWundgIF8XsnovPGnMfNskT55+4wvLOespdAFPpjP9bv9fT4mSbBYNasg/2Xfx4N7zKiZgR1chn7LzghjK1SVD4Zslwd5s55wQtxWTl51noshPomwjehcp73Xk26PC2WVugmlk9Zz+QKzLgQfEbUbwaWLNfA5bFY7rsTPv8lbGJypLUW0h882SotDhCzpyujuQ1aRydcnP9siha8IMEF2ZqfZXqT6X5ynuJNfS5XqqLRxnYjmFQnI0icGHB/P55dutgB1Uln3ndCj7w6WZI79yDqUZliZk03cev1UYFPWHeMS0FPbNknL9JsXk54s50lMSyOfSfurRuRqNd3tCEwfUJ01Dc/LIamyVLGdRlhPOR7AeL516Ivs+JnefQTlf8o7625jws5i4ehyy1J1i0oTjM9v9LhuFN52ypKekUWp6hpAWpmvzTz0R94gkRVH3JhVk+mbh5NSA3UNuCYcoQ0dmwdkoerPEvRGJiwqjoytGUiX7TnTUfR+f3py6W2w6zrYLsvOCKI43S7lIS6TDs4bLzMhJpWOTbEm1QhMKFqeOHRjIytR6GL3ntxQjtAHyb3044sLuUa2SoMb2zsJbq/RUCvvgT0uHN6GGk+bQswvCm6Vse8tuy4S3TfIUbAu5YeX9dTl+/Kz4LZvg+37iYioLrHT3x83zv6NXPWtc3dIPLQeszmfRqWKMajaHgzX37R6u3Vby7KRQLOn7I6bveIIFB/xwcHgXmIu7lOLictzNtZ7MHacvF0+0lA/Pn+L069zLfH32uKOgJadHNm9Gzl9gj34big/xuZYdFgtq6hbQ0Qc+R9xDSo7wcEYWZfg3kQZGJdj/augw7yie372EpY7dkOLjiubWLXD2RYFL6/Kl8Pk1gKWoL89e8oJsLCxRhftrVYodVRhUYWbFPckIwd0HOe6rq4/aamwIZmiQr469uLAejaoPhnn/tfA/tA+2pqzZLCoX7+K9+FUxJizd3N+LeJvzwHKV+Ig4aqwsst+/yVOu4UB4P/DC76snoXxiJEa3a47JfJAQgcToaLjeyrl8GfA/51VoO1dEvX6L8erBn9g0bwj0PzyGXfUG+C3zB/AivDC0hR2OJ1bF8aP3sKBZWShVoulJ2DNzGPo7HsDQ3x7iwuxfUPj33TkpWjkri46+CbNHsHvkVGzA0qgku4kqTHS+7C5FrcsbO7ZA0Y/4P2fn5zBf5Qn5jAdJ+cWkLLpdFhXXhbNyB6VgvGLtYHH6xK9iC7JYW2b5xOKsyxTmo/LXn1IwNGXHpVxEzkkfGsx2+NkP5iWhZt4Bv7u5wU3uM0WM6lVwOftcPAvZOD2ZPGFtbkEtZ2x0Qa1y4ci/36SYfH1xrB8mtm2DDZ6p2HL4CX6zVxTOW8lyFkSKYbb4IiRc3Mibgn1JWey94YuLRzeibTkz7Jn7E1o5HpTr+/x1aR/icsTG8bl9Bp9iklg+OE1NwtMXIcKOTJi9W+vqMdvXhjnzhUUlxvcw2tfpi5hmjnh16jx6VzAS98hTbDrO/uZr5/8I6fDaMR43THvjJ3Oun8dIS4aXTxgM9XShoS5ojAXX6fJ/At/8C0Ih6uplocf6mNpWZvwb78tbZ6NFy1loPsMVXuuXoqYm8+PKopQt5OarDZbKV20BPQM1HN60GHsveSEhWXChCZ/fYc+fN9gwCXi4eSGup5ZAo05DcOzGTSztUxqvXA/AI49AIXmiZ41N25bD1CAZu39djdjUvCaqpeLd48t4FxqN13f/wKrTV1HT7ieUK1SntD469TMDovywcuNOfE4QJv4lR3zEvpU7oFGV61apQFuXKUhqOhIypyZSBiKilfkFay107FeTeZP3GNpjHK48/kuUAx993LH4nXaenXg9g3YoV1UH90+vx29HLiMyXvAkXBQkV7ed0MnI1819Mdq6NqhU1gCfPrzBhwT5PH5844cUo2qwa1oDyVHhOHTLE6VtWmH2ppM4v386UuJe4uytLxtgfnl+S6Ft32psEBeH29cfyU1rTHrzCi80DDD3l278IE95NFCvXS3oMx27evwaZF/mpsdE4n5qCtq3tc2ngxKAZaOnwe+HnuhSl5vkU1Qq4vtmzLtEueDiZZkmNj0NUUwX34dleqyKaNKuHHMEUXjiI18PCc8e472OOeaN7pJnA3lq3UI2sKyOn6etx5OX7vi+bBxu7D+OpDRmKa0asPslYMmUmTjp8RTpGdyDHpakdz7Y5POBDR84dKCpxcwjKj67k5UQhlglf4rt2B8HYFS1AcYt3o1bV7fBUPcj3M94sD2pODpvBg6GJGJUl1Yw1lO+NmPDPbDS5QAMOvdFDSvFjV/hKVo5K4t5ORtY6KrjtfczfBZlmbwJ+YASZeqgbuXMyTnKo1xd5kUVDJjMRophVzFy5CK8/CBMA6SMdDx1W4Vj0WyAx0sKgzq+/4F1g1PfYNPq+xBNnyclKZG36Q9hXKetqHZZFMS24sNRTJ+7Ge8+C21FenICvPZNgVe8QbH6xK9hCzzRV3Dmkg76zB3IPGdx1mVNVKihg9j3znjgkz01j3vixl31xbvMp5E18H1dcyQlhOJVUJgoE4hithOpXw4jujWDim45tLO3h73cpy4/1S7/cjZneWI+N/oJ+v40EV6vsjsgf/25D6s/5/0Qo6RlNWjpqOK62/kClgCosc6eCmvXU7KPS09GaKR8X0WZflNe5OeL/9y3Ac4P/ND5x06wEKcn5UbJchZlOalYvSKQEYdje6/KRS7LSIhnGgi8fC/UpzK+5NrMAXimaYE2vSewPtAdjG6rj8dbN+E5a7Yy2/0Xf57BVve7zPbZ1YkQHfQUl67eY+MgTVjX+R5GzAs8uO4pF/GQmL0/i45C9dpNUEq/qD9hE4KlPw3A3XINMaD591BTVVQyxazjbDtvO/9niH11C0ueVMKyqR2hkTmiUFGBLhuYpqanI0Os39BgZmssH2XybywUkhx1H+Hh+syftmMe3RcrFq5BdKfBaFa18G2ZcragAPENk0IKOw1vkRDdQIBfeGbGvwZTUdUmi1KlydLSkixKGtG4LTf4Qx4425Pdr5cocybUp5u/kpH1YHqbKXjjTp0ty5PDGi9RkA8Z6XRt5TiCmiZZjDuuMAjCQ/cjdPWZ8Oo9Mx9Vus9kW2nkvXsONa6rxad3592/aN9BD35R5yefs1RST0VuofZ7z8P84m2oaVBJCws+X6VMjanujMtZr0Pfu05m11KjVmOPsbRE0pOt02hgxwq8zNiiIy1bk72oeJEdF7VDZlpVyhtysBZeP2vplOCvz32My9alyx+4WDd5wC/qbMmfxzoJZGpeSihzMxNqI7MYUhGFnYbXPWulLEcGvTo0Qcgby282ITS2tilNExdgJ0UGUctuMovB2T1ra5Qg5+uvRYEwDU/L0IruvI0n3zNn6Fl4vPhqVsH0nCLkNyXyLbWoZkSalW3pY9bP6afRhbkdqVqLCRSZ38kMYeqWKjVf4ckK6g0tHHKQ4tMSaZ0DF1VQh1a6Z08/eXtnFxlq1ZYLtCBMKdKgvfcjKfqJO133chWm9mgY0MGHkZQU/YQm9RYiKnFTex4+fJS1uDeXvuTBC/d1fIQgHb1aWYsrz2wfSY21NNl9dKh81z50xiuQIl+4k5mBBuk0G8EfIxBP+/pYUescC5dzsmiQTCCN1Fia3LoG2U46JuhQ6kdxYSZIXVOPSpcW9NjM3JJ+u+rHn8IxvoMlaemXpdO+YRQfeJ0GzRhHdS1BqmrG1NxybL6Liof0kVn0HOtPnc1L0Nhtt9iGOP1KVZ3a8v4jktwmd2S6wXSUn3r0hq4+FOqICzQjOw0vU+/N69tTeHwac0NbqEMrHT4f00/708GDN3n/kt80PEV+oyjlnDVlR60hZa7tVTSNhzLS6Mk6LoKbBtVcLDuV4R11qViW1j2Jl58OkoO8puEpW5eZ0/Bqjc7ON0fMB3chkiazGQNjM/5cy9KlSa/GYHojzhUqaBpeTr1PS3wl+kkdajd2Cy8L8d5NHerW4qfvGNSqQ4MKaZe5Kdw0PI3Bh0WBgN/VjbwNcr7RqKTQVpQuZUHadWfwAYIK9onvaEADS6o2aDEF5h1lgKeotqB4Gl4aXfrVjqo1G0+fk4VpUMrUJT/lTkWPFp31EQSM3NPwiK45j2QyFTIw+oF2C+HfaMsiB6rNla+WAdXoOpKesDYg6JqzcFyPFfwxApG0orkeOeQIKKCIAss56Rm1Zj6Hu4eugbGQJ/YpUbkTPctsHhSQkRZE40tzgVe0+DoKY3UUHx9G++b/lGMaHtHrrZ3Z9TWoD7PLeJaSM+un0JAf9HhZacsetNPdV6l+U17k54v5aWkqKtRgwh62FU8eiwdRtcoa4tSjN3TqkjdfhkUp5/TkoKyF+HU6z+GDgkWyPtyPrZrwgaK0y1tT566/UaQSvuTqDEs+AEomf24ZRhq151Aop4Ksr3d9tRilkrVj5qWEdt/MWI8mHn4j+Lf0ZDrPB+DRIofd2foW99mTbEyr0iE+ei6HOOVO3Y6yezT5TcNTp7kXmBa986Cjh/8QpvNz0e/4wAPvaNnPXJAmYfpaYOBzehmfVOw6nredK4fiPlwOxGl46nbZQTYUEvmQfqpYiTzf51wKkUFvDk8klKxF9/jpjm9oOOszWw/Ov50T2gAVqj12lygRODbKgKo6rKNE/mRhyqK2mTV5MqcY5nuG+v/IRZXk7O01Xbp0l7fzvKbhKWsLOclzsBTkdYjsbYVw0taNu9Iad3966b6H7Otlyw4/DCOvQzuYTAj5+n3j/iTTFjEiafu8/kyROcUDGZrXoTHOR7ManQfOk2jo/HE0c+V8WjjDkUb07E6H7waKe1nB3XEhS9bIWA/fK0oK5vn1/TRlcFdqVN+OJk6cSAsXLqSVvx+gs6zjfdsve7ZkSkQgzendkkqwdGlVbkqLD98l33POpK+hRt+3H0Osv8qXwRh7W2HebOnvafrKNWKY2RR6eHg1tW9ems8XTK1p6PR1FJ+Y1cKwFuUlze9djzTUQKWtm9Ocw550fHobqtPQjuZtO0HhCQmUmhhDOxaN4iMrcddp3N8xq/wiAh/QzGHNqEQJbh8rg3qdaJ27V9ZAJm9i6PjKMVSFVT53TQ2tyjRw8TaSj6cmT7jfdRrWw4Y/3rxiM5pzzJvePzpPw1pny5yvvSO/6yeYzJKXlaloR0cfyw/cHhxfSV2bVqZeLB8LnRbQvEkjaOUedxLbWNZgfaIZswbS5F8n0AKnhayeutOoOYeFcOsitw/M56MIcWU6z9md/C6uof6Nv+fvCWtbWrhiM72Ll+3cFD6/mcS8dKeJAztRs/q9aQbTkwXLp9OUWSvpZT7j0SxY/Y5l9qHG7pmpLxycXq2eOYxa129OE9k1Fy6fQzMdJ9K1d/I9Hf+bO+g7HZbmEqWzyuDu3vlURUuQdR81hwLfPaVe1sy2LG1o44lH+eqLYuLI/fBsam4t6KmpdT1at+MI2ZkbUnvWcdh/8SHFiWUf+fAwjejWnFo1G0xzWLp/XTCRJs7fQu8ThP15sWNCexo/ezTNW7qQ5o/rTz+PXCxXfsnx72jlRDsyNRXSzNnC7MPuLGXZPDqxgmx4H2FK7YfOo7fxftSnZmkaPGUpXX+ePZBWxIqp3WjinF9o/uKFNGtkbxo4zjkrzVz99mb+iqsj6+bd6PD9UNo7rhtBx5B6jNzEH+d9bB7ZVeRCk7L72/SgDSeus3Y2npwn9CRTTsbKfsrGExT96jxZG+pQmYY96QobyJ/Y4MhHl+POq2o3ihZuv0GZRZW33/jycr6+bSJV0xEe5jQbNpMeBL4jt3VMpicrixCPJjq/fR51rF+Zfh4znRYunk9zf/mZtp9/JO5VzPXfp1MzPWFQqP/DYFro7MaHIc4k/7oUfOKI9qKtmtajUVMX0gnvzCuk8+1H706sPphPBEpQ0+4jyD1Q6Dy8cc/bzvPT+5BAdxrRvSnvx9U0tKj3mE101GUkVWB1uXTDfnpTSLuUhbvvuul2QppgSSM2nBDKYGi2bMr285QY402L+nMR4ziZDS0/cF28AkeOtoLX8en0OF7orBXkEyOvTqfSrA2wtCxPw13+FIR5UFRboNRkct+xmQZ2akf12/XjfaLLytX066bf+Z+wyKbguuz6vdhPsLWnPe5P6T4rg66NZWUv+QdoXMf0qPMYqsN8ErfP0qY1HTixlxqzTnDvgdPppMdLShXbj3fXtlD/9nWoM7O3X1na5s/6hWaulm8/8kKZtodr80b2tiEd7kEoG1jbtO5NBx7JPAjIC9ZhnMJsmq9fU1PqyfoCQS+25RoscceNac+VgdCeO7s/JJeu5tS8fX9aefAi88WZicm/35QX+fnihPePaCRrz7noj+Z12pPzlbd0ecMU/oGvbe/5cj67KOWcGP+Ypg9tL/hO9mnffz55sc55VWbT8xZtpmcfBZsuqF24OqMTjZg3lmavZLY6dRQN6z+U97vZyLf7fB9um3xUS86P71k5kdrVZ+U3ax4tXDqP5owZRscfZPcxTywfIfQ32Mdu4krmc0Jp/9KcMiHNsW8uUssyTE9lbObt5U3UkNNdJmvdeww9evWKxtuwPpLYfxH6PsWr4/nZef5E0v51M6iHTB9u3q8LyU9OsQR/5TiiPX8MYJ3Dj8uzccYA2pLZ+clFDB1ePJC69x9DM0YMYj5iFN2VaaMUIQyW1KiefW8aM2EOXwbzxgymYTNZf0imEE6sGJPVTxw6z5niQ+9T89IlSKdKS34MIduWGbC2VrYtK4wtyKLC/ccuKCEhISEhIfEvJOr9PszdZ4rNc+1EicS/mrc7Ua7iSNTdEYDTIyqIQgkJifyIuLcLJZuOxUiXa9g+qpko/Xfw1QM8SEhISEhISHwpsTi/wgV29g3FbQkJCQmJvxNpsCQhISEhIfEvJOHzC5zetA1vGm7FjzZmolTiWyEqXtlffpSQkEhJKSju5D+HNFiSkJCQkJD4F6JlUAatRzhi3hAbUSLxLXD71mVwcc6ebzgCMQiihIREATw5e5/9n4qDF/7MN0z+P4G0ZklCQkJCQkJCohh4deMADt/M/skPVG6FBQNtxQ0JCYncxOPy2s24E5f9myHaZhXgOGIQdDX/He90pMGShISEhISEhISEhISEAqRpeBISEhISEhISEhISEgqQBksSEhISEhISEhISEhIKkAZLEhISEhISEhISEhISCpAGS/8ivK8cwJFHUeLWf4vEiA84vW8N3kWmihIJCQmJHKQl4fLODdh5+T7SRFFRiQ32w4mje5GQkiFKGMH3sXnlBvgk/HtD1SpLpL8nVixbDCen9bj0KACSh5WQ+Hr4e57BHo/34pbE/wtfabDkgwFlLGFqrAMVFRWoqKqihEkpNOoyBDHJ4iESWUQEnkQ7Ez3UaT8Ih4swWEqOCUWXRmVgXEJbKHd1TRiblkKZMmVQrXJ5NHboj7P3XiM5XTzh7yAjBg/cJsC6ZFn0mbAa76NSxB3FTHIM7jkvRttSZfj8VrXpj+1XApEk0+Oi9BTcP7EWP3xvgXKWZbB0++M8OxbpCREY2KcX/n9d4mcsqVcLFmaGgi6xj5Z+SViysm3YsCHMzU2grqYC4++a469wRXX6HgMbloGZiS47VwNG5kwPHV3FfYSY8GdYNqkLypTn6qs0enR1xBkvH1y9cRSRUfJOIiXhI46vcUTN2qX5um3xw0/YceAi3gcfg+uZ1+JRX4f0hDOoLeZf+KjDdo2XuJftT4rBoWVDUa68JWpW7YwTD2Ig0yWX493dI6jUbR3+m49Diofk+EgsXjYNc2YvRHRCER1VWgguuPRHuTLfYeSifUhIza4Zn3OrMGnONEzY6iNKvkWYHV1fhZETz2PCzPlI/nACnZrXx/YHXNBqCQmJ4iQl+jaGNiiHKk26YvO1nD2DDMS4jufbiBLmnfEqJq9WQOKbhYuG93VIo7BAN6pnCtIytKCLvvGi/NvkwQMv8VvxE/LmIbkt68VFJaSuOwJE6ZfjedKJdNVB1p3GUGCYUO7xn97Qyt6mBB1D6tB7N0Xx0r+BpGhyv3eb+ttak6ahOXm8iRN3FCOJIbS4sw31nrGDxOxSdLAn9TYtS2PWuQsCho+rE+mpV6Xjr+Mo7v1dqmVmRlPPvhb3ysCuN6dlJdp2PUQU/P8SF/GYHKxZr4zp5qyTIZSeIcijIwNpm6MNL7eq+wu9jBHkOQl+fpDKVe9JD6MSRQm75ucr1NTUgCbv9KHoNO6CKRQZdJ+cueuVb0xBkUnCgTyvydGmHLWZcoreR6Sw7QxKjPKnk7+PIwMt0EK3V8JhX4Uo2tzams9j1sesDnl/FpUsLZG2Dm9D5RoPo+CkdLr3+0Sm43XoVoAC6wr3pCHtfyS/GC4PEnmSnkK+t67QLd8AShdFX0xcCLldvUCNqpqRcc02FBaXKu5gRAXQtYtX6H3y16mPtxd2U0i2yn8VUmJDya66Af3yxxt+Oy7kOtlW16eVF3z5bQkJieIjMegJuTk78u1AA6fbolQgMeQx1TfRpaFTFpC1miaN3nZL3CPxX+ErDpY4AqhTWZCheVf6Gn3kv4v4wJ003nGnuPWVCNhBZZkRFsdgKdTbjUx0QfUHLBQlmXhTK0PW4dMxpmMPg0XZ38NOx05fbbAU/eoamRmok/PNj6JE4K5TDUL9AeJWIs1syfLewInCuc2kSLJvXJ6+a/UL5ey/Xtw6ikbvfSpu/b8TTk4NuIFCdTqdU2UeOGcNImyHbSJFj0OSIoOo8agF4hZHCrl0Y+fUcxTqQY5wmje0i8xgKYM8VndmA5Ta9ChzgJJFIl2aVP+rDpY+eZ8kmyH7KY9xICVEvKb6ZUBtpp8mvhv+yo2VhToN3HiN359JekoMzfqxPW31zJ1jia9MahxNb1Mz92DpK5IScY9++hvavIjXLlSG2Z7zA1EgISHxdQk+TdUVDJZuOC+g9dei+e+J0b40/Oep9PBrPy2R+FuR1iwVRMI7jGk7G/7i5reNDb5vbAkkpeDFx8+i7NsnKTEO6elpuO/xRJQIpCTFw7KksbgViYgw8asMYeGvkJySPd0n1H0Jll2ojNUDa4oSifyoVvdHNDc2wI2909F0yW1Rmh/vcOcc+/PcAw9y/US3CXqMGwEdcYvVIJ7eiQQignH1r+wfqxPQRocVi/G9uPU1OLdzEfxP78fi5cdEiTwZ6Z+QlOvX+dPwxPeN+F3g4W+DgIFOGNnIRJRI/Jc5tnIlbojfvyZJD+7go/hdQkLin6PJ4OmY2LoE/127RHW4uDihmqEGvy3x30BtIUP8nicR3ndwwOV3nL15E54folDJ3BoG+sqMs6JwcP1GfEivhjET+8NYUxQnRuDm+WMI1y0Hw4wgHN24DSfvv0D56vVhrC0sWN24bTfuP3iPUtVteJksaUnBcHM+CpWa9aAefBlb9xzAlev3oF26JqxMsrtaPLGx8Dy2E7tPXsCNx48RHFMK35U3hpqauJ+Rwq7n4rwF1+75wLhCbaRGfUSJEvrwu3wBY3/pj6OPPoBUWLqCXuF5rAEaVWMDDo7ERDw/swe7j57FVU9PvA43Ro3y5tBQxkZkzr3ty8q0fCx2Op9F6a6T0L+ekXiQEBjhzIE/cPTsWXh6ssGAcQWUM9cX9yomPvQVNu86DOPqthjVQ+aXw6MeYfmCtfhIhpgyYy6qmMmXFbcQ+ti+P3DywgU8fvwKWqUqo7RM4X/wvoLtN6LQsFZp+N04gG17T8IvQhP1q5cVj8gmLYTV0c4t+OPSbbxWMUbSC3e4e3/E4DETUU5UBNm83WTlFwFjVCjHyo/fqzx6+np4eno39p+9iaTy1VH/u8oIu78P/Zc+xyKX32BTWnBiNw4sx92M1pg5qhV00pNweM82xOvVwdih3aHF9CEp+iEmLriMeZtXoWIJVuFKw+rSdR98EkxR1jAJfxzdBNeT1/AhuQQqly8NTRldC2GDhJ27D+PS1au4+fo1jC0qolQJ2XqIwpUD+/CXQX2Yf7qPnZsP4INKJVSvYICMtBTccTuB3X8cx01mi69i01C5WiU2bCiY7PoQ7qupXhFlS+WwFYUk4uaOVbgRbIb+U8ehmoEo5vh4H9s8NHHTbTaunnOF99l90KjZFS2qm4sHcGt6YrHnykOMsM/UQx3E+e3Gycevcf3EM5S1qYlKFbPrXFvHCHp6+sw+Of+iCpWwP7H93D1c3nkR2mWqoFZ9mfyqm8FAT4fZasH58L5yBi77j/Dl9ilKA1WsraCmmncdx/rtw8CftyI06S/cuXoMy1YdQrDpd2jVoDK0xGO4vO112QKd2v0xqH01qEa8gtNvR2Hbfzx6/1CJP+bVhU2Yfl4fK6f/DINM/6cUTA+2H0RU5XrQj2B6sG8nLly4iTRja1QqJehzJrJ5e/IpChWqWEOfLz+B+Eh/3sdq12iBZC9XbNl7DVqlq6OMqVaRbPDL2oVUPLr8B7YfcOXtwzwpBjHmpshSq4wMBN+5gP3X36K2TWWocVWUkQa/O24456cCm8qmuOu6Hb8fPY8PMINNBTPhPBni/X1xdBtrU649QrC+Cd5fPQ7veH04jpT5NXjWLtw4dgCBxt+hgmynJjUej64cxZGDJ3Hl1h1om1WFlVm2v83PBiPf+cJpSi8sdL4EbtVdemo4vP0CUa+2DTS4jIh527f7EC6wcx+HpKG6FTtXGQOWIwoH1q/EyYvXcecF98RBBf6PbiLR0BpVRF/n73kF23YfxLUbN3Dn3QeULlcZJjo5FDA2GFeO7cNB1jY+Yv6+lNj+ZlI43UjD/cO/Y6frGb5cMtMSfP8w1u105WURsGR+rKRwuFjOT2JNULFkAtxcduKPa/dgUqkOLAzUkRLyHC47d+PaTdYmV6oNcwMZJ5onytpM3j6WR4k+A4fQXm5m7SWry1exKFW5Wu6+SkoIn7fYMk2g95r1Vba7IY51piuX1mZFEIkrR4+x8j+Fm7du4UOqNipWssryL/J6r46rLM37T18CmE5W4HQyKgAH9u3B6fM3mZ6yvk+O9pxDKT1QCCuDK8ewm9nBjRuPkaxviqSAW/BOLIPKpsHY7rSJt/ubz2NRv1E1Ps2u252YrjDZzQ+oamuTbdOMgvoWiviy/kbe7duHV3ew3vl3PP8QCwtjc4TrqMEkZ6XmJDUVAVf+wJ6Drrhyj3mc8mk4uuUENFsPx6hW2ekgps+ZdXmL+Y00/fL4roKpuJdVZUoC9rmsw4MoLVaXZaTIat8i4hsmxaSn0P3j46hVy9707h3bDgmhKb0bk6pKbTr0iBMURM5peBkU/8SN6lpaEjQNyfnSJVrY24IsLS2IdVbJrNNaCn55nBqZycrWUXTW5PU0urplojj1pzptPnmRqpQrR5alzMlAg5NZ00HfOHYXgeTItzSkYVWaufkSpaURPTy6hYx1NMh2igvFiVOv0pOfUS/90rTneRjFhwXSIOvSNGChm7CTEffGg8wNNalTzml4SdE0r3dD6r/wIMXHEwVeP0MVzLTJpsc8ipZdcqGItHjawM6tNuggv8aGO/endo2JDcHkpuElRd+nmf0mkgdf1CG0ii970KYr+Zd9rml4LPNxke9pTQdT0tAqQXUXewhyGSIDL9LIXk7kzS/TeUdjbKuRhoEpXXgWTmns3EltbflyN+uyhc5vsiMLVocWRvq8bPx5+QzHPz5CdQ3K0uozgWwjng4uHEQtylvKT8Nj5TesdVmyZmXATbByWzmBtFVUaMyWG8L+QuNBbWrosfSw+nXoRs0adaAn8fLp8tzD3aM2XfuYSrEhr6m+lTrZOzHdYPvSk+Nps0Np2uvF0qw0gj63q8v0GZo0bON5mt+1EdNdSzItocOnxWHVBcqc5ffuyiZS0TajPZ6BvK71r2BGsGxNz/hkptHTY8uohK4GX6aOh/2ofT1zMtTVIhWN5nQ/LJFOT6tNug0mME1g1/I4SFW01HLYh2LePTpEjYzLktv17PrQ0bCkccfvU0qBC0Pyn4ZXs8104mY3vXFfLdogaOW16CwbzD0Nj6v6EOpsI+gO92k9fgN9/BxNaZkLonKwuq8p03sV/liDVqPo7vP3lJjC1VrBpKeE0/FJ3WjJlodsK428d8/h1zrVnnaaEguYlRXPyirg5j4a0Kke7ze4+3dafT1r3RZnx0729alay4kUmZJBPkfnZNWvsDucBvTuyaypMMjqQVla7/GK2tpUJcvSpchIW5XJLGnt/WhhPQ/nn9d2JK0q3fl7hHhfoga66oTa04ipOGWkxNIRp758urnPijWLqXRpM9JVVyObjnMpLv4LbbAI7cL9o7PIfNQximTfnxxfSxaadpQ5i4xbE9CvQW0+rZl6lRzkQ/1qCzLbyfvIdVYVKsXZlwFnX6C1d2Tn0GZQ9LWVVNOqKR1/wnIUGUm/TfqRfihpJDMNL5UCr+yissZG7HxjcrodJpzKSEuMpukdmjO7eMJvex0bReqqMvqcqpwNOnYqm3vqOTv3/G+9qF2vyVxxsZPfUV/mY3WM29KtN182PTPowEC+DOSm4WWkk+/B8aRuXp+8wuMp8s1DamvAdMnagd7IFFXMh5fU5LsOtFtw+DRzWFOWllJ0JzCZ3/5S/3xn11jSYm2U4867oiRbltmuJr76k9pZC2sBx24+Qb+PsqDSrL3n1tlyuhsQ+Ce1Kin0ATJlnD7njbI2U4CPZUqpTJ+Bgyu/uhUsaeYlb3bVdzSqZRV2TRUyMDGjGq17Uzhre7L7KqA5213pu0rmpK+lQYZWfehtVBytcqhKBm3XiLawhszVVanlxMPEXEkuvXebW53pfSnBx7K69Pv0gnpVqcTKKFsmW7/K6oEi0hNCaFyrutR5zm5KYmUQ+cZdOJelZXpmIxB5n5pz960+krKahUwZOmbZNEd+fQtFFLa/oUz7lhbvRg2bDsvyk40NqtKBIK7k8yEtkc5Oa0elO66lN+zQ+GdPaMhPzcmapUF2Gl5KnC+tHDiI3Difw2rz+LgOpMn6ruMP+mav8f14jCqx+jWrb0ef45VruyT+XeQ7WAq4tY0MNdXo93sRooTzoX7Uz8yADMvYkbcoy5ucg6U0CvTypGX9mSGo6tDIZfvIPyqR63LS4t71SE3XiFYdukkh/GLweJrYyZq0jCzoXmDm3M948va4TFNsOYPUJ8cd7hQZzRQvJY68z66icvqgsg0HUGQip4xBtLSuFdUbuYNkZ476XZlCZkzZe049y3di315aQfqmNej5Z2E/hV2ntc4FDZaiaPePdci600S+IckkzHcNb0h1fswvgEIiXZrTkpr1Xix/7hEH3hFkDZaiAujHOobyZf/uHpUy0iLDOv35xjovMgdLhmWqkr29Pdm3b0+1atSkaes20p/3/MWjZAjyoiY1LOjGm+wUxT3aLzirtvPofXgw3Tm7jM+bfoXBdMzrDV+m8YFHeJmFwyGZMg6hoQ1r0FQ2UJJ1CdN/kg/wEHKIy29ZysxuWvBDKm2so2CdlfJEPD/Op4dLt2nTnnQtWra3wjnMcNq3shc1tGtDrZvUpbFOh7MWYZ9bOZT6rfElwQ0nkvelnTSUlV0vBycKkAlOII+gz3uX9Wf3VKV6A+eTj38IZTAHGeF/UwyMYEbrxbUqU7tay3Wi4s+M5dM64yq3lUi+Htdo14TGvKz2lMOswY2jN9736OyffhT+kKsPTRrpkj3QndO7FumaWJJ3qChQiDfZlTGk/jvl62PbGFtS0zSkbbeyB+eKUW6wxK1FenRKsC0D06Z05bOQSUWDJY7EEF/aNLM/aXGdIXaOulklGjxrA71W0H5y9XZpD9M/U+FY6JtRm57DWSczr3rJ5ta20dRh6d2sASvH/gn1+OssOvlSlBRECgXeOUs25fRJp2xD8onMvi+Xj5kT2lCrLnbUslUnWrnPi/i2MFeQkHBy+20BdWc6NWmNqyhThKAHy3qZsDTqUK/Vpyj4E7PLtCQK9NzLB8zRNalPj5niJgbeYx0ILTnfdGxmSz5v3FKutORIeuBxkcZ1sOJlk/d5UnpaND2+foXu+IbQxy+0waK0C8u7GdNoV3FtYXoS/TZsQVbHKiTQl65e2ENVzbIHSxGB/nRhj6BXlZrPoCsvgvi6fH93HS9rv0B42MGRGPWU2lSoThs8mA2KsvT4z9ShjmyAhzh64vEnOTs2YnmXGSyJwToaD/uNksQOVuaatEo/9KdoNoaIUdIGFQ2WvHZM5wMdyflYLiADy4NZ1dGkIMxMgSgaLKWx/LavbSZjl0SvXbrJHxfzkobUtCSnk9k19fz4HHaMKnVbfpHf/lL//MbDhemG/GApUyYMljIoxNeHfp/PbJ+lqdPINfQ8LJ7VYSIdntmB1Jls3KbzYmCiRNoxUrDV/Q/zWjnIoazNROXrY1OU7DNwfYu51YzIqufKrOPeXV7HrqlG/dZfESVCX2WVgzAo7LbqIiWnxZHvvT/pklcgfbq0gMmz9S8jIYI61y9D5RvbE7dkU1bva7adQV4fItm9U+i+iwPpM5n9r8fpVRC3RiaF7i4SBhYLLmU7T6X0QCFBtLxZTeoy87BcGQScGsvfN2uwlNkuyA6WstoKmcFSAX0LRcOl+EL1N5Rr37j1y02HruC/c3if3E2uofkNltLIc+twqlF/MAUnZF856jJXbzKDJdb3nNrze5rrltvnyLYVGWnJdOf6xeIJXCPxj5DPYCmRVvbkGllbyumnvFc35BWm5YbnoiQvFAd4uLvTkX+z5OIhRPHhcFs4gKBrQm4yrU5eQQFuOzVg98/ReUuJoWEtqrKO1Hd0OTRGdF5a5Lj3nniAQEpMCLWoqkP637Wi0JgUfrAEdS3qP3MT6+hG8R1dv5fZnShFg6Vw3wtkqq9OXafuFyXZjGplSOoGZnTtlbDYLyeZA56p+7kn3TLkCPAQ/PAYGeuAGrVhgx1uwCP3mZRvh0TuzZLYCeDqy3bKFdZVyA3XUKppalOrDorutUBsyIW6NO+6Q+YagszEcgZl1ho/6LPummswl6suQy7R0KELhOMSE+nNxd/J1ECLynZy5HcXlvhAL5o04Ge68P4NbR33I+/YOd09+yC/YaVAmO9+GjNjpbhF5Hl4JumaViOPlzHks7sP6dTrT775LNYMv7uT3Uu+E8URcmEy6bB0tPrlD76RdXdZQAMXX+IdfdKnYLq3IncExIAdXXmZMICSgXVwJnfvSxdZJ5d75Bn23JOGFRhhMI28lrRg17OmQzmKIej6ev4+VgM3ipK8UHawxGC6tpuVPXdd7gnmg5C4PAdLmYR476Y+3eqQEXcO+5hV7UuPQsSn2zmIYQ3vxAktqaz4VoHL1yb3/N4ECkE9rOq2V6DX9rTmUOEiXL4+O5V1XvRpxuV8R6c8Nw/MorEHhSAhGWkJtGFwfareZjjFJqbRov51yLTvatZRk23e5RH0ILuzmsn6Ua2YvzKgjdfYaIiLAjmwL7m4M3/FHFeUvw+t7C90Lnfeze6GuIyszstyxcL4IhssWruwvJs+0w1b2nvuEf9GPtzTU26gkBz9kX6opCGnV3Fht6mmMbIDacjIGts7iw842P3XsU5jzsAhqYoDPDzbxT3gyO6sZg6M+u96xm8LsA7T7rk0bu5Z4p+/KWmDuQdL8TSsmSkZWThQ1nM/kQuThYFsZkS7wqDwzRJng3PH0dzdnnznMe69P52aInSmMzu6nL9X1Teli1lPCDli6PDkXvTbRVHhvtA/FzxYElB0nLfbAtJl6ZQN2uLhMpI0mUxWn/NCKZth5OVjle0zMIdPDdj51Ue6iEcwFMkYQl9FwQAl3JN+6T+OfKOZQqSwYZrnBWqWI2qjIr2PDDpA5dn17GUuGHbbiYyZLHsgw1BCDxTBl4GWEe29J+9Xc99DucGScn0LRSjT31C+feODPZla07LdF9lAOom5zhB6zPQ6LzIHPLIPY3hyBHjI9Bvft1CUv2F0PTyvtlniWyOfqZMvcfP0B/bXCgayk08ZNvVa83/9/vRCrvXN/xQaOujSoAwQl4jQtHQ8vfuYCdVgwkYcsmhoasHI2BxxYeEISE5BWdtBmFYzGYdXTkDTelVgN8EV5tWqiUcrJujNfSTGp7FyMRQl2VhaWSONXfdNWIQokef10yuIjU6GgWGOQs3B548vkJIEzNvmBje3nJ/1sBGPKxA1bYx03gYHa+DGOntsvhwg7sjmre97aOmbYNN+RfdaCHaqknzGprmXAJY3C1GSJxYd8PvvC/H5zHo06tUex2P1oKL+hTN5P79A01YdkdRsGDpZVcSYjcdx9tQU6GjcQO+J88SD8oCda9vxMkYvmCQKQrF3xVoktJuNptUMUOWnFaj56TAm/3YDhf3VF7363VCRjQKSPoTxv73TftRC7JneHL9PboNmv65Gcllx/r4yGFTDOtcjqJPqjQHda2Hu43iosRFx/kTg5A5f9tcQFjkqxLJMZf7vhye+LMfFBNO1Iev/wCpO2fwPYcC4peKOvLGwGYKDf9zGsxfnUdfKCGGvjqHVr27iXnkMLBti/YYr8PH3xBRbTiv9MX2Bk7BTIS/x9A7r1k/do0Cv3TC1f0PxOOWw/nE5RtrGITi0gJ9L9dmD+UeNsaKfECQkIeopfj/3GJV/GgV9bTX06tUF4aeW4JQ3518LR6MG3wPMv0UwPwdtC8zbfwR9rOPh2K0iRp71gYa4ZkUpvsgGi9YudBu7CAaBNzCsWzNUq1kLdwwqyfkXVTV1aOvoi1uFIYD5nhuAmQmUCaNhYmolfhNISXqA8I9c7BvZX15TQ6MhS+C85EewavtCG+R4gKf3PrO8WeVan2RTX1jL9+qxb6H9i0I4G1zijDldSmGJw3fo5uIKzYryJcL5e9b2MzWS/S0YA/RbdwzjO1YQNovTP//DyNlMPijbZ4CRCa+zr4Nye84ypQps+QRMGmHLIWfoP3VF5x5N8NsHbajqZa1WKjpK6IEi+DJQU4WxTqEX0imk+PoWilC+fWs47RBaa/pj7jA71KxeAYsvhOL7fBYLxkZfY321MGiblWQakTeZfmP0ekX52wVbEz3xSIlvnXy8ny70+TgD1/A+iBdkU6kKuKVtKkYGhV6M//VQR7nKrJHV0YSRmhq09TnHk4wXrz4JuzNR08B3euw4DQ0YqKpCVdMSK70ScW7zIrSwNsRl555o+dOvyO+HIzW0dKHCSu7dh9wx8qxMzFipqkJXQ12UyJORnsoaKmbE/vn/3CllpPPHuZ2/IkqyiXj1Id/05URNuwrWHT0CE500LB07Gjl/9zY9IwMJsTFwf/BClGQTfN8PseL3gslAciJL9Ot34JqdfIl6hF86dMKmFxa49Mc1TG/5HTRUVMSdhePlk/N48z4SrZo1EgSsoWj10yKcHt0Oibc9cCLPworF76vnY+7JTaijKy56/eiJ695paFC9Cm8cquq6rPOmg08PHiGlkL8zp6FhzQbF7K+pIbicPXbdhGa1O8PkJ2c82LoOLUvlHmznSeIH/DaqH0Zv9MCv27zgMqA1yugUZH0aMDTj7vwa93NWSEkzNOD+6usxSy9GNPQwdt1J9K2lB78Ty9Fm3BGE5/gh6gsrZuCTTJ9UXVMXZb7rjJtXfkc90wzEbt8FH7Ff8/CAMx7KKKDwA7ffY4XrRfS3KYHku3fyqd90pLNxzYFVy/FBQT8piNlR4dCAhlE5dGyQd4mlxP2FUatvYc3WGcy/CPqc6HcR7z9noHoFYUFwCdbZouRkPH+bwzcpgVkpU74zY8At0k6NxJG5o9Fv0g4M3fAERycOgLVBITpcX2SDRWsXvms/Ge/uuWP24I7IePsc9jWaYsVlvzx/yFd50pjvYX8evsArQVAoiJi/ZYkIuH4KCTnGwi9uX8O7KHbxL7JBDgNosz5TSso1ROTQVc2KVcDF61Q3YIMRQVQ0MlJwefN82HWbguazruHy4umobSyvr5y/p6Q4XHksH7WRO3ffhpOCvy9G//xPI2cz+aBsnwGqVbHs4gZY3N6B6X/4IY3pzdUDx/C8RBvMH9xSPKkAYv3wa59umH46HDv2emD5j3VgJBsJqKgooQeK4HQDGYQ4blBYDBRf30IRyrdvarq1cc7TD5tnj0J5tUQsG9oSfdZdQl7DZ6IU1lcDIpk/ya8kMv3Gkd37cvUP4kMj8TnpK/0Iv8TfTj6Dpaqo05wNChAMP/8QUSaQ/voF3qtpYcywnv+iwVIaAvxjYVqlEpro66Jijcosbel49MgXss8KkZaKF3ExrF2vCis9Hbw+44pLpA27sfNx4dZdLOxTFk/d9uD4W/F4BZha1mSOVwV//fWKj3oky7vPodA3NkftivJPLjMxNC3HBlsq8PK4jGTZR4lpafyTxQevhQbMsmIj6OipYOeqZbgfEsGcDvdWmZV9cgKO3LiC7Hh5ymFRty/c5lRFov9ldOy3DhEyv2Zfq3EN1vGKw/SJS/DsczQ/SONIjQ3F2mtP5aLa5I8+ajGdQcwt7DoRw/ncLDKYR0lJTUNEbDzbisM2h87Y9tkEW2Y4wFivaFqUysqEc1g62rIdRT20/2026qslM2ctimRhJ9xYMwhnDEahT32ZQYuqGv8kKZXrZTMoPR2pKYnQ0jXhxsCFIjXJDzHR6mjVpz004Y9ZjhPx/sd56GvLyruQ3DmwEhMOXsbQCeNQzVLZGjFC8y7ck7EY3LjxXK5DmsH09AHr/HTr2r4Q9asceha1cOTpJbTU08KdQ1ORw30g9t0ePAuIEbeyMajWHfb12RedMsy+BBmi3bH/XAA/R08WDePKGNGJ68AYolSexlAfLeyZTvg4Y8HWC0gQDY57EBFxfx0uv5HzDAWSFHMdL97Xhl3ZPEosLQk7R7dA8wkL0NBSlHGoqfOONo3pEkdCPMu7ihqMShT+6W1o8CdosdHKD1XK4a97RzB69XY0HjYZ9bhXmIXiS22waO3Cud/WQbtueyzecRIvHh9DZbMAHFixC4kFvKwrGDPme9hdPx+F2/V4GX0hpDGHFhkXz/yPrMOVR0evDfO5anjifgRX/gpiHWDBWlITo+F52w16mppfaIMcdVGlphaSkwMR/Ele7xNZmUWq66J3F9tiiZAVF34Pk+YtgUGfGWhrI6uE2fD+Pj0ZGxZvwvPoOKGsWH5jw97igTo3tPty/6zC9JqDxPLjSE8VHhD+U8jaTH4o22fgKN9yIGY07wKvLazzXbYMZl0whV/0VbSsnPlTFfmRhpMLfsHiex+xes7I3BF8iwFl9EARpStaMEcXh7MeLwp406kKde55MLOprOMy0pCcw6UWX99CEcq3b9dmOuJtqar4ZelWPPb5Ez3qJsF16jx4K54AxPpoVVhfTRVvnxxEZKzMlbn+APvz4LUwQyfTb3gcXIaLvoFI4UbOjPTUJNy6dZCNvf9BxZcoVvL1z0Nm74KRrjqWrlonSjiScPbYOdTrMQ/Tm4miPAlB9GemOBn+SEwSRYWEmyoQp/Dk9/B9na3pqXER2H3pIX4cNp+lWQ0V24yGs4M1/A8twexz2W+AEhNZg/VeAxOWb4TwEPYp5s9yZ7li6Jpi3oKpMGUDmtrZ0Y953gWz0VN6Ks5tc4dqtZbYPvoHBF8/jJ57fMQjOELx3PszRm93R7XsqJFyWNXujBENjODjuhWdei3C2+gkJEW/xaL1F/knGBGnF2LsjD1QrdIQQ+uagN0EP5Svjo6df0TXrl3RsfUPeBKV//StpMRIcE9FctJs3g3Msq+Hz1dmY+TMfaKUNRIt+vDT9LipUz9UqYMfu9jz92rbtjNMq1UVDhLJ8A8Wykohuui5eivqsbzvGNAIcw8Iv7sT6rMH5zzYIDA5DktWzca2PTfg7816Ry+v4ld37iV5BM7sWIWYJGHomZT0AS9CoxH64hL69eiKhSfv8/K8qFyjJfRLaOH0qYuiRCDU/QzQvit6Zkf4zCLG9yC2vOmCPfM6yL9mt2iO3h2s4P3nff6pV0qyDyI/ATZdW7EBT36kMX18J34XuOP8C5IbTYWjLTdH4B3Cg1nf/xRrNEKTEP32NhYcOS0cyJobL6/nrBTyJjw4kuutY/vpO2wrCT57FuHy80y9jsSfXv4KG7dm093Rg1XINaeBuPM2WpQCvk8eQNfoB8weUtCT0FgE87d5j8/5JTAXzbD/5GrxuzypsRH4ZbZz7vxGeMHjkRmmnJmBiqKIY+88R/jG5NC6pFCcuZoE2+FD2Z3yxn7YHDAXht+n9sQPrTvyev1j546oPsQHzVvI3kUWZud7NmDDNlfWFxBKNeD1dfRquQJd9u+AMfMvirj822TcqncVfRvKd8oMqnWDdTl9PPMWploF/RUMddbpalipjHBAnnyGl7f8VJ/jJ46jwYitqG2li/ioUK4fhwunT7E96fA/tw17PB4JB7J6u+juk4+tJiBACRtURFHahWc+R/Ca+TyOEjU7okONKjCyrgENsUgz0tP4301TRNKHz/m8gTLCz+udwYoZS/u0x9rrr3np6zsueOwfBnzyw5D5M3Hysh8vj/gs/1ZRy8AUjn2bA1F++KlJE3S0s0NXe3u0bV4Ht3R/5uu8MDaYkuqHiKgkvL19GwFMd6eyjhmv9+sOi0dwxLIyu4IOU3dhgDiv2u/ydnTt0RvOt/N5WpeDsPBsS0pLfc/0gpXz6e2ITkpH8P2TWOKW+atPSXB3fwLTFsMxhZv9x/x98zqN0IXlsyvLb9vOndGmJSuDIuiGiVklaGqpw+PUKdYapjOTdsWmE1eQyvqMNw5tw4Ihe6D4zPz5HKPsO4j8bSY/lO8zBGNV+9bw6zqAD4keFBSE+xdm829VlYPVi38C6x69wK9u3H1i4bF1PnzZoE7gEx76scaikHyQcdDK6IGiEq1t3we2zP8d+nUEJm47x42FEBsbDPfzXuIRmRihUUvWafA/g4OsrNJZbZ/csx2+3LNQPMKvXRfCIyK+UH0LReTf3yhM++aK42cF24eFDcYP6Q1160Yok8doTdfoewz7sS4+PL6Jzp0n4n5wLOv+xWPbrlNCem6sxbAZzogyMIFD6waC3/i+Dtp2ZH6D5a9z25ZYc4H5fvFNf2p8DKYNd8C0PaxMeYnEN4ewdClvQi4tpuZ1rKldjyV0zM2NDmyYQZ3tJ9LL/ILTUBTdcztGSxyFxY1Q16X+M3fQlVue9PGpO9nbchFi1KnDuJXkGfCZAr0ukX29bJlvSDT5ul9kMlMm06L+4zZRgEx4OWHRpD41sXegTcdOkpvbIVrRpyMN23BOPEKACwU7d7gd1alZj9YfPkFurntpfs8WtOGir3gE96P766nJTx1otvMOcju2n+Z1a0DTnN3FvQwuqlVnG36hvqZ5NVpzLvtclzl96PvKZWn+pv3kduoIrRhkS3NcZM7NE28aKbOovcL3P9K1hxuoqmEZ6mjXl9weZq5WZPfu04iMjITjdAzKUssJqylI3JuT9JREunXFjcaJi7xhWo+W7HSje37Zqx9jXp6jauL1yrUdQs4nTlFIHMsm96vTdt+Tvr6wz9DcmrotFqL6caGeL65wJDYGIi0DI9p00pPCw9/ShV3ysszlkl7uy6l+NSvSYPs0dAyoRaeVtNixE5lXakqj5v7GRzzj9KqGuSFBVY3K1WpMu2/60qT6lQg6htS252I+St3ROc1ITZXlW6cWHcmO8KsQLlBAtzpNaNiSnUwf3OjIjg1k28Ge3BUoalzIAxrZoSX55BG0IcT3HLVlaVnmcojWDv6BGg9eozBqTyZCgAdVKmdTn36Zv4NOsfvvXTaJWtj3lAsM4TzBTqhzLprbwKkU/fYC1THUydIrvxv7qYeRAV/+Jsze3K55Z5VpzEt3aiGWqUHZ6jTh4HM6uWgoX35V6w8gMeCeQrhzO7esT42a/Ux7WdrcjjnT8G596FKORbHyJPE26LKa3YNLM/tUtZtHJ065UUhoCNP3EzTPrirBrCqtYrZ176niQAvP9v1CRt3lAzz8MbwydbBvT927jqKDhzn7daOTx51plJ09jdt6lmSjgj9wHsbKsTO1bdqD1m/dyx/r5raXfh0+gNpNXENB+fohjkS6tHgg1bBmusbnQ5+qt8kdKVGOlDiaO6KNYAvW1lTWsBy1YGnzCMi7wHIGCZGHCxQwlVq3b0d/MHsb2KkJ9RQDfeSFsAhdh2p3sKMlO46wPB8j52HdqM8cZ/EIzjX5Us+m1XjfxEcTXHOOHh91Il01VSpTw44ufGD+4Oh6qifWX//5LnwkrszizdcGewg2mBdf1i4Qbfi5OrUeNIz2urrR8Y0zya7t4CzdjQvxo8OrhAhgmXr1119+dGCKEAHMrKoNHb76gkIDn9KBVfIyIUpZCp3dPY5qlTPjFuOSjqE5dRvA9KpNTapQvQVNWnOY15f390/QaBumu9x9bKfQuUd+/NncAvUNw1qRuZkav0+I0LhP3Ke8DZ5bNybLzgdO3S0Eh2D4HppIDauXpb6j1/M+YseCEWQ/UL6cFw2sQaqqqqSh0Zgu5xlSNZ7uubqI0TZl7JKpNNfmTe3VVAhwY2RF3aY5U6TPXiqro0FGFZrSwedC4KGc/t7cug4t3p0dNkgZ/6wQLuhIz6ZkqANSUzfjfecDDxcqZ27FfN4k8g4JoagAz6w2qp69I7n7fmI+9w6N65At8wqMpQDPW1mRHG3t55NvAW2AMjaTn4/lUKbPwAX6GF6f2Z34UwmyH6t6HeicrxAZ7dE5Fz7aISdvxOrcjY+4JxDuuZvqi3rKl/2Ft7R+QBuChg7VbTGeHr72o1ViQIZyNj3o6P33FMH0fpVDtsz9RTiF+D3KirhX1WY0eYoRRJTVA0VEPz9IbZiecteEkRHZjVxOzxQEkYh+foCaVuDKUoOsqtUnZ/c7tLiRGtWq34qmbj3B/Lig+Pn1LRRR2P6GMu3b1RkNqXmfXuR8jO3fu56Gd2iTbxkIvKZZgxuTmbrgD8wrN6J9pzaSjY4RtWhpR3uvZgYCk/cbgt7PkgteERNyiaqysi/bJjNas8S3hgr3H6vgfElJiEF0VBw/IlbT0YWJkWEB85dTER4clmuKmpqmNgw1UhERn/0MXNvQFNrJEYhKyn5mqM+t+4kOR5zMAlRDM0tkzga4s6ghmi2Ih2vgQzTViAJzTNDS1oexsQFUc6YrPRUxUZGIT05jWqwGfQMjGOhqZc0PT0tKQrqWGpKiIxCfkM58lQGMDQ0gu5Y1PTkGn8PjQOwe5sYl2D3EHRlpiIuORFxiKjJUVaGjbwhDfR2lplOkpSQg8nMUX6Z6hiYw1M7A54hkGJvI//hdRloSwiMjuN9Gg5o6K3uzvMuem14UHhaKlOzi5dEyMEFJg8wpP9x0ixDEyjzeMDG3hLY6V1Tx7F7R3IxAaGjpw6RkCf6tS0ZqEj59jsieVsfSYWqkiYhwruyzZRbmRuJbmgwkxkYjOjaRn4JU0syMf6qapMLqyICVvZj8uPAwxKSkQbeECYz0tJAcE4HwxHSUNDXjfyQ2NTEKn6MScHX9JDztdBQr2wjn5YWsnqqq6cDQxAg6GrnLKi0pFp8T1GBhwk0nUgQhOSEWUexaGaparMyNWXryrtWIe7tQsulYjHS5jFU9v0MC0zU1NQ0YmZqw87IrMyOF1SUrx1R1dk1jI2hrqCGS1VcySyunV/ERwYiVNRq5MuXeyEQinJWpqm4JmBnq81MyP7H6MjAyhUEBaycoNRFREdFI5GxKg6XN0Bi6morX1QlkICb0k5wNZmJS0oTVvfx7IS09I5Q0zP3kljJScN3fD22qfi9KwOo5Bhol9JCWEI9Y9klOIaYTKtBjeqDH9CC7xLgncvHMQHShyvIaGx+HhCRBuXVYGRiwMlBXXIG5iIthuhbHaYY6SjAb09fOv7xkbUFNQxdGJgZydZmT5JhQJKkbwzBz7Vsu0hEfFYWYhGSoy9hWXrzd+RMqjnyM7X/9hZ/0wvk37BoaOjAuach8U7YupjOd/8z0lNg1zZj/U2H+7tPncGbzxjDS1cjlD1S1jeT0viAbzI/CtwusnFgdqqlnIJyzrQxVVhdm0BNvxNnlpwj5592GzBdHR8vINAxQUo87n3+ELcBkpcyY7+c3sstZVUMLpmYmiGd5JC1WN/pCnSdGBiNSZrEC5/O5suOgjFRERn5GUjIbJ4hlKvvjxcrYIO+zPwl2blayZNZbM86vJMVFIyYmAUytoKHL9MBIXg+S4sIRGRuLvUN7wWDpA4zjpqXmgvn5UOY3cvj5LD+exHSX2Xoa0xdTY1YnrGDCwz6xxpaVnWH22ihex1/fw6B1b3FoXX+ULCFvv1+sG+kJCGNtWxoJvlM9PQlRMcnMH7PvLC2p8REIE98ucqjpl4Qh4hARl+38tI3MoZUUhWiZNR/6JS1RQnamdQ6UsZnY8Px9LE8BfQaO8HuuuBJmiRb1Zd4ip6cj9IELlrgA+84tQQrz56xrkI2cnjI9jApHFNNTTX3mO1nZc28fwphuGZc0g0Z6vLwt6BjDVCuF2Xq23msYcD/mHI8Irp0V0TG2gLGOkBtl9SA3gp5GMD3l2goT45KI81qCqs0WYMTpYKzqWjrruPjoMETHZ0DHgPV9WNue8DkUKnqm0MvRHuXVt1BE4fsbLCUFtG9cm6Oiq47oSNbnYnXC6bShvnY+ZSCQkZ7M2ugIJLMba7N6MtZTZW14HNNlZtcyfQtZv6GioM/ATUvly575mpKs7SvovhL/Qvgh0zeGwtDhEv9RIsnpl2lU+MC6fx95hQ6XkPhS8gqDLPHfJznWn0YOXJbnDILi5N7eSaRV1oY2ns98u/bt8nfZTLjfCbKtN51CM18TyRFDW6cNpRjFv37wzaIwPLmExP8R2UPfb4j0dNnHNRL/VZLC/8Lv/cagSvexcmtY/m1kyCxmlpAoDtIkH/d/SXzQEzgPmI+Rs0dC+WX5X06j7uPQJuktLl+5J0q+XdK4BXx/Ayedd+DhOx+8C43JWtPIkZaaiGdHFuNTzUkwyH+B6zdLZpAaCYn/N769wVJsME7+7s2+vIfbXcWL2iX+G0QmxKPT9v3o3/7fPFQCnl19wP5Pw6W7T/IN0iAhoRRJ0Ti1g9Opz9h/Pr8gDRL/NUKSVfHz4UNoWMNUlHw9/M8txo/dh+Bd7a6YO9FelH6jcDaz8++xmfb2drD4fBmt69Xng2JwC/r5Rf1dOuK0SmfMGKL0ryB+Mzzy9gIXduXBiT/5oA8SEv9vKLVm6d+DDyZ3nYe/xC0Oa4eVWNevurglIfF3Eo09Q8bCVWZuuX45G2xb44QS/K9YSkgUFn8s7DoFmTHtOKw6jMOW8R3FLQkJCXn+fptJTQrA5g17ce2OcFfTJh0wafh42Cj5m7TfEofXTsbhmzK9LtspcOPDKUpI/P/wjQ2WJCQkJCQkJCQkJCQk/h6+yTVLEhISEhISEhISEhISXxtpsCQhISEhISEhISEhIaEAabAkISEhISEhISEhISGhAGmwJCEhISEhISEhISEhoQBpsCQhISEhISEhISEhIaEAabBUnEQF4MDGZehZuyJGbb8tCuV59/AMFjs5wfXGK1FSMGnxYehbywhVuo9HTEoRfwA1MQI3j7tgdIdGqNV2BuLTRLmEhISEhISEhISEhBzSYKnYSMChSb9i7c7lcPUJFmU5ycCZ36Zh9W93UKFOVVFWMOrqWvi+fFVUrV8fWppFq7JHp/7A8h2/Yve1+6Lk7yE5OVn8JiEhISEhISEhIfFtIA2Wig1dOOzZj6PLponbCojwwJWnZrj5/AzqGYkyZdAqgXnnvHBu3lBoiaIvpV7/X3D6j8eoZyUK/hZ8sHn1MfG7hISEhISEhISExLeBNFgqZkqa5T0KifCPxYg/3FDXQlOU/DOoaWhCT99Y3PrKpCfg7LSxuPxJerMkISEhISEhISHxbfGvHixtXd4ZZcqUQZlWrbDHJ1SUfruYNPoRP1qbiFv/H5xdPwwO6++IWxISEhISEhISEhLfDv/KwVJq5DuMa1sTY+dcRHBwMIL//BNjW9bHxksB4hFfh9BXl9Fr7CzMdHLCqjXrMaXXfDwU93EEXt2MDu0HYRrbP2nIT6hevwXmHnmEVHF/XiR+eIxf+nfBoPGzMXfGJFS1roTuUzchStwf6e+JFcumokUVS0y9EIv1v/wIMxVd1G6zEB8iIuDqojggQ2zwffw2fjxWTfgVTjNnon3XlugzaBXuB8eKRxREKh4dmcvfV0VFHWZVOmPV5svgY0hwgSBc2X0dOqBBk654cnYtOrDjNLWrYNTw2RjetT7UVVQwYdc9/krB9w9nyQY6nWGSDPhdPo+7H/SQoaEKfy83OLFy23wmu0TvHNyIuWN+wZK5rDxHDUalxv2x8aA0sJKQkJCQkJCQkPiXQP9CHp2YQzosaVzy5D89yDdVPOgrsGVYA/r15idhIyma+rYYSw+ELUr3O8Xur0kjXTxECdFEu/Kka2JJ3qGigBF+d2eu437tX5cMzbvSmzhh+93uHnx+ZlzltkJoSdeWZGWmzcscxs0hr8AA2jnNgcp3XkdHDy+jTh0tSFMNVLPNdIoT85+eEEKd6lqR3a+XKE0QsSR/JNvKmmRVtxOFJKSL0tykxoVRm5rGpGZmReN+c6NIJot+cpxsrLRYGqxo2+swenh4C3XqVIq01FXJqnxF+mnLU3rz8Ch1Ll+N9nsF0hsPFzLUBDnuvCtclJEpG7DQTZQQxb3xIHNDTerkuFOUcKRT9IlxpFG5K70TJRwei2uSBiuDcSei2RESEhISEhISEhIS/yz/yjdLH3weIlH8Lo8r/L/iy6XQoAf4ffMO8C9mtAywYFgzYQcjXUcP1uqasC6XPY3O2NgU6RnpSExKEiWKMdLRhUa1RjDUFrbLlrPm/34I5aYWWmDu6Zu4tawDL0OLyWhYrgKGrz6It+cno3e/2Th15BHq5lgK9fyPCbj5GBg8pAPURJlWCXPMHWiLD49vYsIfz0Vp3lSp0R/LR9uDizVRonYPuB9ZCSt8wKxJx1Cl3y84c/wpmlUzRLJxFewaXAMV6/XG+bcvMbBhOeECX0hSqA/ajNyNFu07oKwo42g27wbsWNHsHtkGPqH5l6mEhISEhISEhITE1+ZfOVjSNTLOGgDIYwUDPfHrV6D2D3YIOT4Xteu1xu973GHUoyfqi/s0yrbD69RYTGhqAs+rp7F3yRScu+HPvZlDWnq6eJRiJu/ywKcbsxD59AZO/L4Nk51O8fK4+NxDQiszU/FbNrkDMoTgwNKjbEBZE5UriiIeVbSz78r+JuLo6bsFTg9UY4WsqiJuQAUWzQahez0g6twddodsdLW02LHFpyrvff/Eq5gElC6Vc9BlirqN6yMh8Q38gyJFmYSEhISEhISEhMQ/w79ysNTQbiRMDDTErWxqT/sdzS3Fja9A11nHcGfVWGj638CIYXaoaT0EPuI+jhhvVzRv0BUBKhXQdepKdLYV3hAVSFQAJvxYCWtOBKB5j/5YteAncceXEotgf+5vEEJyxr2wsASfqg8h7KjCYgITM/HrVyQxLgLpaUBkZLgoycbSuCSQnoGIROnNkoSEhISEhISExD/Lv3KwVKJqG3ie2If2zUsLAlNT9Jy+DncWt4a6IPkqvPF+jrpTN+Pp+yfYOKIbMuKOYNQgZyRnsLHHnR2o3nAoRv1+GP3a1IaxjoaShReFqX064CjmYs3iobAwMoQGsl7nfCFWaNSJ+/sM3i9yDIkS4vnAETZd2rKhT2EJxoe/2IBlQEd2h6+HSalq0NJm5f3uhSjJJi4pERraWqhe2lyUSEhISEhISEhISPwz/CsHSxwV2/eD+61gfpobhYXh+KrJ0NX+mkMl4OapBYhKJJhY1Ybjb7+jTe0KSAwLQRoBjy/fZEMJQnxSCjuSkBIbgYSUzIluGUhMEr5nZHCh5GR5hJuX/bkzkZpOyEhLQkRcvLiPkMSul/OMXHBlwD7Z6GCA0xqYq6vi+EoXJGZk73v39CGizOtjh2NdUaI8SR6HsfddNWxc05XdIX/0S5SBuoYKQvzfg5uEmJEUh1ePPZHIiiExNgYRn2Ll8pXGvUpi+U2IToBlzWb4sYwZXp68CNdYrjwzSYf//9i7D/Aa0i4O4P/0XqUQ0YPFCtG76DXqsgSrW6u36L2sbvVuRbc6UaNFJxEkaoiESCIhvffzzcydSHFDLPZj9/ye5+bOnHmnvTN37pzMzHtfvEDRdn+gakn5fsuUWLx5/QY5ijHGGGOMMfYP+GaTpf+HwPtX0cFpsdTAQ9LL24gO0UG/acOhqwaUq2ILpMZi+oCf0a5dGwxYIjaPrY60+GhMGDgMp/0ThFQAeHD+tvA3DWdu3EOEOFHYCuOaIfzcJLRt0QZd+g2BZ4IKxCeTbq0ejHl/uSMlKRondzySSl+8k/3GP4VEf08E+Uch4PVD+MtJmUnV4dg6rwvuXpqHsYsvSrfcJT27iLFz3DBv6w5UNdGVyimjpqoJG+0CCPB2xZr9V6Vx44Vxf1roivWHD6OjpaFULsn/Dl4HxOFNZBSS3yWGCqaFS6K8jh6OrxuNFu0c0LLHNLw2KQYtDeDQtgU46OopPTOlbWSKshqauHZgIdo5dMT0TVeQolsUGy6cgEOVYPSu7YBrL6KFmUXDdfZP8DPpjgsbHJG59N4rm6C4VXE0Wfl+vTDGGGOMMfY1qYhN4snd/3meJw7Bskgkpi8/iqhYXfSdtEI4obeUhwLP9i7DjN1uMG3cB0uGtkfEvQsYPH8juo9djO51i8PbuQ+mHlKkSCLzMtWxcv40ZPh5YIbTHPhaV8HUMSNQw8YUS0f3wx2TBlg7vg9OLmiHPXfkkUTWzeG8dph0G534+0WD5+xRxGXT1h9DdfnZrdA7Llg1fyu8k9OgZWuHScPHoIqlkWLgR9xxccb8rceQnJYGW7v2GD6mByzlJvuUzbft8MUY1Kys3CcIdcXoSasRmCDMd8UYFI64iVVbH2LItDGwMpDLCEK9nTFp6iEkV+skrW9mq4CIDcaBTUtwyM0Xcfr6sO80BAN/qodsowrZkjP6Tb2MBnP/RB8hX2WMMcYYY+yfwskSY4wxxhhjjCnBt+ExxhhjjDHGmBKcLDHGGGOMMcaYEpwsMcYYY4wxxpgSnCwxxhhjjDHGmBKcLDHGGGOMMcaYEpwsMcYYY4wxxpgSnCwxxhhjjDHGmBKcLDHGGGOMMcaYEpwsMcYYY4wxxpgSnCwxxhhjjDHGmBIqJJC7GWMf5I+Ns9bjzKWdOHQxGNCxQKeeA1CvnBmioiJw49RWnPUIglWjfrh4YAvKmMqjyQLvnsKmQ5exY+s6RKAMfuvbCi16jYS9WDDWB4umLcXNWE2ULmoOPQpHZFg01MwtcTO0Fq6u7SRPRZAaib0rFuKQRwisypeACWJBMVGI0CuEsAR97F4yQS7IGGOMMcY+BydL35GYpx7YlVwav1U0liPs/yE+7DpqlqmL+LIdcc/tEIy05AEIxbx2xTDVJRmN+q3EqS3D8W7QO+k4MakF/sBonJnfBmpChDISsbRNXayLL4O7Z/fCMNv0FnX5ARO1VyNjRw85BrjvHQv7XzbhsE8MWpSQg0jAtbk10MSlMpJu7ZRjjDHGGGPsc/BteN+RMzsWISI2Te5j/296ujZQF7OddyxhW8Ve6rr45zR0nOuKJKkvOzUUtNaFrnVBKVESJUY+wU7PuyjbbjgMcmRXlhi26AgssrInQQR2Ll6GxDZL0PhdoiTSRd2p7hjczEbuZ4wxxhhjn+ubTpaeP74CFxcXuFy8iBfR7592/ldQRiruH/sdY+aeR7ocY98qU8w6tAt1CwOn5v6ElUe95Xje0lJfIDYKeLhjHfzCUuWogm6JHzHEUl/uE73Gq6fC25HFOHgzVBF6RxetG9SXuxljjDHG2Of6ZpOla3P7okqNJmjXrh3aNW8Oe/tOiIhJlod+Xf539qN168IoXLgwajQejYc+FzB+4TphSDKc+7SV4uJr2t47Unlv5z7vYsOXnpVimV5d241W1asrhjdsiLWu3jkTnlBvOA0dhNsRCYjyP4vW0nQawtk780Q4CsvbOKB2l+kIRDSWtK8oTavv7lfycMGrV5jfKmseU9YK88hHVhX2+DgcbdrjjnCi7uUyHBUqFEaFGo3h8jBBLqGQEBaAWY4/K6ZfvDh6zNuC3KfpIrctTrApLi5/dTjO2o2wnJN5J8xNnG9xaXrFOzviuFuYPAQ4u3S4Yj7Cq+tcV6mu/M8ufRdr28dZ2AofFurtih5CPUjjCHU/a/c1vLcoQgV5r52ChvJ0q/efL1bjl2HZHHu2zRF2l1hMcRS3pRzPg65+bRS1MUaA915UL+eA/Xf85SEiU4wb10juFv2App3Fq0e+6Ne06XvrZm/PyRJjjDHG2BcjPrP0rXl1cxsZa6mJz1LleFk1Wk7hcpmvIiWC9kzuQs16TSO/SEXo7qHfyVBYliIthysCAq9DM0hXDTR88w05khXrMfOYHCG6L4yrp1WENl57RempybR3XAeCjgUtvxEmDE2gszNGUkEdHYJJBdqxezGNnTacpk+eSCUsjMioQmN6E5eqmJAg+KiTUAcmNOvaWzmicP/4Eipdqjmdu/eKKD2dnlw9QfY2OmTbaSD55FFZybEvaU6/WnK9VqNJc2bRyJEzaebYQVTFTIxZ0YqTPorCQe7kUKUINZp6UlhiYdvcPknlLXSoctcZFC8vXnpyPM3v04TKdxhHr5JTKdznHDWyEqdjQ4NmzqSNbgGKgqmJtGFWd2rQegS9ep0sVEECndu9lAobmVH3WRsoUZ5e5JMdVFQH1NjpKGXWQGaspsNqSpJjykTd3iHUXxGafOgJpQv951aMIahp0ahtNxUFROE+NLBLdRry+zaKiRH6IyNpxdh2pKFTmpYcv68o8wFxb69RBRNQhcZOlG0TSY7N6P5uG93e0Y8shGU2KlyJTvvFSzHR7dUO5LD6ttynEOS+W6hnM8U2MSxE7fo50bGbz+ShOcWF+NCkzmUVZdU0qErLnrTm8FVKThXXmDHGGGOMfSnfZLJ0bEYLxYmgktexp3Khr+D2/gmko1GPPORESRLnR+2E5CV7suR3dQMZaeZMljJj2ZOlLUNsSSX79G6vltahm7OcPAin/es6CkmLqhkN2icmUNlixuXp8ptYOaY8WUpPvEL2UKXee4LliML9E3NJTwXUZfIBOaLc7NbqwjQ1aFu2FX55Y6uQqKqQVdMhlCb0h5yaQurC8i24KS9fUiQ51CxGRWq0pchERSgywJmKCOvldDRrOW4uqEeqQmzFrawT+LfPNpA11GndHTkgSaINP9UWlsOaNjxTrFtmMpI9WcqMfSxZkuarbkunQuTA02NSnTeddkQOEB0QEmK9AsXI+40ckPhRfyGxAezpSuKHk478Jkviuv3ZswmpC/MHOtO9+BQpqixZksS/pTk9y5Ohvoa0zOKr69TtFBKrfHlc1w4lMxMdUlVVlK3U2Ync/bOSMsYYY4wx9nm4gYd3IrB3+RoktumFSl+osbkO43fA5fwWaXqp/s+wfP4uKe77MvN+LzVY2egCRpbo3Ug7ZywqHgGpH2rMIR1Xly+DGwqhTrXMcRVKV2wKAyMtHL94Qo4oZ1m4tPC3EsqUzFrhonZN0NrECMHX7sJD6Le0Hw7Xk/sx0E4oExuLq6um4ZHPG8TFJyAtXbF8aa9eIk7qylKqfjMYCe+BIZk37MVi/6gJCEQdVCwnhyRa+PnX5sJ7ICYsuaIIfQa7gVtw0nUH7C2FntBQbF+8XooHvVuOUOw5chyamm1glqNp7xIYMU9snMENa3c/VoQ+mxb6btqFed2rCN0H0fGX2YpwXnTNMHXHQ9xxP4LxjvYQn1TaN7c/qjUYAZ9YRZHsmv22Gs8eXMbKGX1gLfR7HVyMZvXawVXZPZKMMcYYY+yTfZPJUnl7Bxiqv79oxmWnoKp4fv9V+OP+NeGUX18PGnLkc5lal0VJLX8sGdULjs570GBIZ3nIl5CG+9eD5e6ctHQNYKqugcTA13ghx/JNyxxtG2sBiSmKZ2G0LVHV1grHls5E34lD4NNwOEqWtZCKZtK2qYWCBhrCSf5tpIvXOARxb0ORql8UtcoXUgQQgusnouTunIwKFZUSgyjP+0LK+nk0TWxQ1iwG6yb8ik6LF8C6Z095SKaHePEoUe7OyaJ4WWnbhz55LtTuFyLU34g/dqKVrT78D85F3bE7kfvRu4z0dMQkZD15VKpcayzcdQ53j6+DbVEtBN5dgy1H78pDgXAhCZSrGcZW1TB0+lY88L+KDjWsER10Hr3H/PXR57oYY4wxxtjHfZPJUsn6A/Hnr83kPgVjazvcPD8BVnL/V+P7EspP6T+dx+7JqNtwM5rPWIf9s6ajilHOK0CfR74Chde4fjtXS4HaOrBRVQPMTFBEDuWfNiythXGtCqCo2BvqilYV2iO+ZR9sWLEN/W0thBI56Zs3xZqpg3Bp0ywc8RYbqriDAb12YdDsvWj/riVrE5SsJL5fx/0nUiCLqZliOW2K4XMv6kXcXg772nNg67QIBxf/gcaFsrckJyqKAsJOlJJyAmG5MjN1SyspaROb9VZXhL4IbctyOHzlIhoJ872xfCDG73SXhyikxkXhyA0vuS+TGmzaDMZfm2dDyEPx8HbW8Eu7ViEhVwMeRsXr4sDF49I8Es/vw+s8GtdgjDHGGGP5900mSypqmui8+jSund2AmTNnYubq1XC9dQllCxvIJb6GMqjVwgy4uQb7rwfKMeU0NA2gKtRcYkzWGWnsm2Ck5jiBfYolY5Yh0r4BypvkPmH/EtRRs20DmCEDZzfuy3FFJjUyDO6pyejQpvW73/LJt9Q3OH0uCVUaNYQNUrBz0hxc19JBo2JW0FRytU9CaUjTK41Zg37Do2NLsWL7JfQ7eBcLRtfONn8ztOrbCDpIw8UjF3JcuYn1eYDHOhZYPrKttEOqqhpDU0tIaMJihLVTSA33Q+xHW48PwuwOY/Gy4o+oYWYEFRU5nIMNatSwQVJcNO765dzObzxvINKsCkb/VEOOfDlahtWwfvMKFMpIwu27ue6To2TsW7MPyq4TmlraQENIlkqVLytHgGf3TuB+1PvZkJpuJVgVEuZl1wLmYh7NGGOMMcY+yzeZLGWq03QQZsyYgRlDh6K61ddMlEQG+HmME0xUX2NQlzbYfysYwcHBOHfxBBIScp6lm1oUh56WFk46r8Gt4Fe4u/N3zDnpJSR5wK45w/FTpVkIQxJSEtSB0yOw7vgjvHh6BkMWLJWuWKTGhgnTvYZXJF7hENKByGg8js26NSwlVUwR0pGUnJVSqGpqCuNG4tDh6wh+dBMTftkN48YzsWx0LYS4jcaCPXcVTZKnp+Kx1yWoajfEtLG5b0FT5jZuefjLzZmnw//WWWwLVIXTmCFCPyE5Qcg4Qu7Ccf5ZoT4eYdvILrjrHyTkR8kIeX0Xp2/7IypoD/oPWw2rTq3Qv39/DBz4M+wraOGtUH/R8Vl1V33gAbSubY19W8bhycsoKRGi1FgcO+CK2q2HY2D1AlI5TS1LWFiY4cHZZTj/xB+PTm1A73VXhHUCbp2YgRYWI5C9ce0sKUiMFTKLm8swwfmusLy3MG3mZOnWutT4aCFJuYkn8ckYO20OTDTj0XviH8LyKX7XKCXOH9u2XsPoZevR+IOXLzMQF3Uf0ZFAdPQDxCVl3hAnEOo+KTERscI8MpO87Mq0GgHPA0OgpSTpDLuzHF2HbEeYsB9kyCOnJsXBw/UA1PWGYvSg2oqgIPHNPdRuMgPPwmPeNRGfkZ6McI9luPnMHodODYKeIozkU8NRWKUwhp/iG/MYY4wxxj6Z3NADE6XFk/v2hVTFxoygrk5VBk4g7wd3yCFXa3iKcqPJxgykpWtHs/ZcokdXN1DV8va04dBlehuvaJHM58yfVE1Xi2BmQyMWbqfw8EAaWMWaYGNPh268pIuLW1EpYwPxbJus7erSBtfbtGeUEDPLHnsiTYsSQ2hO9ypSy2r2fX+nl3KjZ2nx4XTG+XdqX7UyNXFwIIe+jjR9wWp6HJ6sKPABGwaWE+ZjQ8NnTlWM69CMfuszjM4/zmpxLzHkEU1orphvlZ9GkfuLGDo2pTdB35zGLDtFESlECSFeNLBJUWmZc7+K1/6JHkbLzeYJxOltmjWQGpSqTi2EeXYc1p+WOR+mkKwiRBlp9OiEsB2sxWnY0KjVh+jN22vU0rYK/bH7HL2KjJYLvu+t1ylqXdRcWj7H8SvoZWgozba3IVhXoc0nHlFahqJc+OPzNLVPE6pXsT61FZajz6iR5HzGneLFJgDz5EWjHFqQXVljxfppGJBd/VY0asluCr+4lBya1aei+kLc2k5Yt750JrNFvmwy0pJpu1PdHK3hJUWG0fJNK2n/jj/o93H9qGdPcVu0JcdOPWjW6n30MlLRil6m3dN+pYPHNtOySUPp11/Fsg7Uqb0DjZuymi755pzp272OZAYzctybtU0ZY4wxxlj+qIh/hBM/lpd4f7QvaYe7VX5BwKmVcvDfYeOg8vh1kx5uhHugVo6W4T5NasJLrJlzE7/M/xk5JhMRgQv75+NKGSfMaJSzUYj/tgj4RghpoOlnVDpjjDHGGPvqvunb8Nj34ejkBtBuUTVnoiQSkoGSFWvCQFfpw0P/YaacKDHGGGOMfQc4Wcqn6HjlzU1/z2Kj38pdnyHiJhauCMKmZZtw5NoDpMkP3GRkpOHBtSNYd+o5BlUykWKMMcYYY4x9TzhZ+pDUBNx/cB9XEhMQc8UdBzxCkZym7NH970tGeiLe3DuD4/vChL7b2Hz8OiJzt0WdX6a1cObAYMRcXYcu9nbQUFODiro6dA3NMHj1NYyZMwH62l+yIW7GGGOMMcb+GfzM0odEv4DL5ftyj0BNEzXq2cPSUEsOfJ9SkwJx+exdxY/OygpWaoLqRf9ue9OE6FA/3HkUgLi4OEBHBxZWZVC5bFFofXLb5YwxxhhjjH0bOFlijDHGGGOMMSX4NjzGGGOMMcYYU4KTJcYYY4wxxhhTgpMlxhhjjDHGGFOCkyXGGGOMMcYYU4KTJca+pOQYeJw5ibsBoXLg8yWEBcDD+4HcJwt7jHPnrkBs/J0xxhhjjH0dnCwx9gWFPbuK9p3bosuopXLkc4Ti+NIeKPtDJXSbvFGOKVxb6YCWLZtgxO5XcoQxxhhjjH1pnCx9R1IjQ3H7TZLcx75FZiWqYtn0uVg0bYAc+QzBAfBML4XohHik5vrN4Lp912Hx4tWY51hEjnxZrx54IOX7//1lxhhjjLHPwr+z9B3xPLAQF636Y1wdMznC/vXi/dG+pB3uVvkFAadWysGvKyPpKka2OYYFZxZBT10OMsYYY4z9B/GVpe9FhDumj12LBLmXsa8iPQkbh83ARbmXMcYYY+y/TG2mQO7+poQ99sCwIfbo8PNIzNqyBRF6NmhSqTTU1FTkEl9PfGQgbt2+BG/vpwh8nQizAqrw8Q+BpZkxXrhfw5U7Xnj69ClSdSxgYaSD6BfuOHvljhRLUDFGoQL68pQUD+ffvO4B74cP8TQ4GOq6pjDR18a7tUiKFubzEBoFLKGe9BbXz1yE99NgaBUsBGNt8d/6qXhy4Sx6d+yCk36xsPqhHDQjXiJGpwgKG2koppGQgMc3L+GmMB1xHikZprAwEebxkapKjnkNz/Pe0CteFMmhd3Hp+m08f/kaumZFYKCVlUenJyfgiedt3Lx7D099fRGVrgEzcxPkvujw1t9bmIY7nvi8Esqow9zUCOpK0vHkt8J8L13G3Sc+8A2PgoG2OQzkSxihT+/iorAcYl1GZBjD2lwfCaFPcebidSn2NloL1oWNs+pPiaToUHje8MDdBw/w9NUrpKsbwtRIN+d/BogQ7fcAN66544Ew3VcxGShoYg4NuUrzloqnd6/j+m1vJKobQz82AqnGRtCUhyI9HWFPbuN+aDqsLYzkWDICnnjiVaIezA3U8eCaG9y9niFBzwyFDLUVZbKJD3yOW5euSftBii5wfss2hBSqhNE9W8klBMI2v3vTHanmRZG5G0hS4+HrfQsewvI9fxGo2JbaavLAD2/LyIDnWD/3Z0xeexFqBgVRwloXr6NTUdLaQh5ZsW7Xb97BQ2Hc4DgNFDIRxuWrT4wxxhj7txJvw/vWxL90p7KFDMTbA9+9VNU0qcVSd7nEVxSwiyrbNqDDnkEUFBREmye0JitzU7JxGCUMzKC48Ld0ZJEjCeenNHzzDWmUlLjwd7EeM49JMZG4HhWKm9Pg5ScpwO8Z9alegQxL1iP38HhpePS9Y1S9rA3pFqpE194+piFNTaVpAOpUoXlPik4SS6VTzJs3dGfrb0LcmMYdvS8tV3h8mjSN+LePqFfZ4rRwzUkKCgigrTMGkJ6hDQ07cE8arlRaEp1ZM4oKmpuQlkp12rN3D5mb6JCqqljP6mRi3pI8I+Wygu1j6pJ+jSn0UJjvyVVOZKlvRJ3nnCHFEih4bZ1DJWvUpVO+fnTVeQZp6RtTwUJWZGVlRa2WeciliEK8tlJb21p0/qwvBT18SE7da5BJgXq01StEGp4YE0H3j44jY6EeGjsdpVQhlpoY8y5W02E1SdWSh7T4cOpcryQ1Hr6DAoTlndqlKembF6ft7i/lEgr3DgyjVu0G0v07wna+eZOa1ihDxcv2okdvFdsmL65LhlCJsYfpmTDtHTOHUWGjfvRUHiasHDnWr08F9LWp5fDN2WL1yFhfS9hfTtGBoQVJT1NN2JaqpGNiTq5+imLvXJ1Dlcu3p8M3heW6c5+c+jajetpaVKTlcLkA0SOXzVTK2pp0NIrTJn85KBvWvDVNcPGk18LyLR7XRNiWBXPM40PbMjk+lgKe3ae6ZY2pbN3f6FlAEIWERSlGFLgs7k4tfplKTx4G0bOzp6hC6aJUtdVkYT/NvicwxhhjjP17fJPJ0uUN/eWkIffLlq6Hy4W+gpD7h+hHvRK08dorOSIkQqFeVMVUN8fJqt/VDWSkmZUsiTJj2ZOl3WNqCctcjW7IyxxzcZ60Hj13Bgl9CXRl41rqXKYwQacojZyzjq69Cqf05DgaWq8CoaAdPQxPUIwoCD7qJIxrQrOuvZUjoiCaZm9DtsNchKll2TvNXqq/+Qd95EhOyfFB9NfmBWRvI9apFY1f9xdFislRTBBtG+9AWmqgegOWS2UVy5w13/SEcGphV5CK1XSgSDlriQ+7QZUtdKjnqttCaidKoB09rITxbOiIuKqyxIhbVKOwEQ3d9kQuJyZCETSwRmEyKlyDbkUkSrG4t9eogklWspQ99rFk6eHKlsJ8y9HRYEV/gtceoR/UYkbWdvE5OJ809M3oxKMIOUIU7nOQbIVyNvbThFrN24D6RWjBHbkn7hX1qDxMTpZSyd31MC2c1l1IYiAnS+n0xPUETeuu2B71u8yiXZ5+lCIMObFYsY+P3+MljS2K8D1LtoY597+455fJwlAj2/4XRAc2r6Z+DcR/JhTJSpZSImhtd1vqMHWHHCB65b6bTLSF+Q5YJvXnZ1umxr2lxhVMqEJjJ4rLrHxx3ZYMJCObevQ0OlmOCUvivoRshHWw7eRMX/FjyRhjjDH2f/NNPrMUFRyIVLk7J2+EhcudX1w6DiwZjwcVB6BLHWs5BmjoGcBaXTit/Rts7OqhWCtH/GAqnFGmpiI9VVHdT56/EP7qoN7AgfilfVlA2wBdB/dCHWtTqGpqoXltSyAkAneTkqXyeXl5YDHmuEXi5561hKlladLVCYZ6Kli1YZUcyUlT1wpd+09A90blhD4rdOzaFcbGQqeBFX5x+h3Wxnq4evIkfMVQuWpoUL4yWv+gC2RkIDkmUoiqIyYuHmlpaUI3kODjipdvElGoqJV8q5sOWg75FSbCFK7dfi1FhJFxY8kguAcVQasWZd/dEqeubYJhA2ojOsgdg5a7y9G/r2Dt5ijfoA1qFhJ60tORmqRYxoDgzOVIx4p1q6Cr1wDli5nIMcC0TCdM7a8DX7c5WHI4UI6+LzkpGAudhuJRYCzSta0x36m2fDuiOqo364C+XXpAVzPzJkFVlG3WGn2HdhdiQOUWzeFYpQTEvalc7RpSLMjnpaKo4OKf8+BdPuf+p2dpjVraQt2/Y4XO/Yeid11hp8om9NFlTD3qjSq1a8sRwLp6e6zuZouiBX+U+vOzLZVJiwvD+C37UaRYPVjpvbvhEFbVx6KPgxa8D/XBwev8i0+MMcYY+/f5JpMlC5uy0JK7c7KHtZXc+cU9wbmDQnpgUwxi3vAlVO+5GC9Ojsad7TPx0/gJOHTHTx7yJaTg/CExudBHsSI5Hxoxs7CGlpYOgv0C8Mk/jWpWFMMrCCfTweEIEPstm+PSwwsoEngVo8f2xlKXqwiLz5nEqVkUhHg6HxgWoQhkY1EgMyF5hb/WegnvhVFQyAWzs61iL717XfZArNT195lWG42HlxYjyGU1uowaih3XH8lDMnng7rVgqKnZQDd7DiKo26iz9P7A65GQUinXvl0nRJ5fi5pVqqFL73FIat8FJeRhIl19Y6j9reTaF/s3ueV7/ytaspLcpRAe8hgpSUIinOMBIl04bvXCzjnNFL352JbKJMTdQIBvFPR0raGe9fiTJHPb+Qj7GmOMMcbYv803mSxVajYYjW2z/rsu0tAxxtDtq2GnJwe+uCQkxglvcfF5XNX6dBFPL6NL9XI49bYSDv6xDP2a5jzB/TLC4f0oRe6W6Rmg2t+8GgYYomItYVwdTSkBQlIotk7sjw4TXTDYaS2m9moPK5OcWYahdTd0aFMJ19YuxvOIdKTGR+LQmj0wbz0P/ermbsDgIZ77y52ZrIpAvMb1JaSEPcSINvXxxyV17Fi2BkPbZF1pyS419SaiY+QemWaJ0si61qRc56n78HTPEjQoroazu5aijH5znA0Qr9B8rmhEvhXebnojRBH4JGlCppSRISR697zlSJZbhy4okuZ8bMsPiY55iJRcHw5Tq6JZjVswxhhjjP3LfJPJkrZlORy+4oWpw2wVARsbzD56FSt7lFf0fxWWKGwjvJ3YAa8oReTzhGJWj1Y4WHQc5o/tKMe+JE38WEu8FSsOl91zZR8JcfBKT4NtVVthrT5VAgJ802FV1w7VkQ7XRQMxaJc3du9ajLJWBnKZnNS0DfHHqtWo4vcUdSqWRNGS9jhsPAeX9zsh62axIqjdUnwPxN1Hua53hQbjmfDWqWcnKJ9DfkVhVbfaWJPQAH8uGQxtjVyXQSTVUfwHIDnFB28jcjbEnhrgJ6QsQMsWjaBsTNGFs2dRuttYHLnsjuMbxkBHww0rV7jIQz+HvP/5rsK93MmkIDj8wzulhbUttHWAvzZuxis5lulq0D1h6vnblspoaleDWUHgbfhTod5yXnOLCg2S/rlQR9jXGGOMMcb+bb7JZEmkZWiKOau8xAYoQM+eYWKzClBV/Uhb2J/FGp1//QkaqVcxbMR0+Mvnpq8CfJCS69/pJgVKQkNTDXfPuwmn5xmI9bmGPSfOI1k4j/R2O4mdS88iXkgKfG4ngG7ugntgItKSgnHkQtav1wQGBgnjypJSEJmeIfd8SBKe+oUDiRE4s/cO7PouQd8qZrg5ZRAOPc26Be7Na1/EJpoK6/GrHPmQYOEkOFHuFputvo8VF6LQrWsPIWFIw7Pbb5AWHoA/bwYJQxPxUEgmA96duEfhWWAEkqI90aHJFPR9eB2hQS/xOtQLp9b8BEvd7Fe3VNF57kmUt9DBjtnTECk/SyQ+y+R59RpMy3fAop8LSxENrVIwMdNBwKXjCBbKJQZ6YdvefQhPEurN5yL+nHUU79/wJ3qLe+djkfHgNI77iDf0ReHc2ZOKQYLIyBC8SSEM+20MUqIjMOXP7ElOIs4fv4DKfVdjYO28r8qdOrFP2m4a2vpo2HUgKhjpw+jdrYZCwpWciIx05TfxJcZ86FeyrNF9VF9oqSVifPffcFbeAR/dOgXfhGSkB97DnC3b8Ui+ihUZHiy9ZypYpi4c65oi9fkxlC1TB+OnTMEs4dXHoQyiTJoIJfK3LTPFxr9GqrBPPr3ujSRDS0zs1QHhD27j1wOecglRLDyu3Yf91JNoVU6+/S/YA2tmLcQhb/5FMMYYY4z9CyjaeWCS+JfUp0Jx0tJQI6iokJaRCU1efYTaWBjlaA1PUa4IaaiBVFS0qEDdMXTj6gYy09Mhiyot6WpAgFRs++g6pC1MB2oaZF68Arm7HyE7LXWChg79PHkPJYQ8o9/sykqttXVadZSi4pMo5rUQq5s9Jrc+FnKGahhokZAuko7hj7RLMQupeXJbm0JkU7UL3QwKoqD7Z2lwDRta5vHx9sk2DCwnzEeDyjXooxg36A5NbVOFWi7LaqI95MwcMtFVzFdsDrzP9ic0vXVVgqoamZi3kJoYD3dfSkV1hfUSyuR+9Zm/kxLSM+SpKaZnWcCIanReJTVf7Xt+I9UpU4/OKFoOV0iLpzmda5OWujgNDTK2/Zkev71GlSy0yLxsdTp474Fc8H3uS1uQnrqw/YTlMzAxpz3nz1NDHQ2CuhbV6zyH5BbXyWNZSzI11KUB805JTYyfnv8L2dj2oZcfbjmcBtgbU+mfxtL950F0a/MEKmqV1cy62IT8uUVjSEdcd9tOdOt1CMXHhNORMYpm5W079aPX4XGUEB32rql5RSyeFDX0lub0KUv6WsLyCsPUtXSp1U/TqIWw/xkaW1D3mbtIbNk85pUXDTEzkcqYDdlHr2IUrQgSBVD3yqakoaGoe3VdQ2o59IA8LH/bUqz7WR1qkJD6vNtPM+0Yq2gCfYbzVQoK8Kc9w+ypQZesOhV5bfxJGFeVdPrvlyOMMcYYY98vFfGPcGLFMiWE4ZbnPbyJSYZF+SqoaZGE9iXtcLfKLwg4tVIuJEgIwJXrXohNs0D1BpWhlxQCr8cRsK1hBz35wkR6Qgw8L19FqLoBKlWuiqJmunh66yJ8UozRuJYdIh+44G62htdKVKoJzZe34PPukpMYq4cfiyquXLx+egt3fN7AqnwN2JXKdoOdsMzewjK/jEoE9PVRXljukpZGH/zhVtHGQeXx6yY9nHq0F6m+ioYQihQvD9sfS0I12y/avvYW5vvyDcxs7FCznDWiXzzGZZ9g2NVsAGtj4cw8NRGrhs+FcZtaOZ/5iYzEtfP7UGrMDgyslDUk4a0/vDweISw9A2pmQv1Vqgxz3VxNeiSF4tYNd7yJM4ZdvSoopJeMex7PYFO1Joze/x3Xdyg9FQ+uXMaLZKBsxeooY2WIwLtXcDdKEw1qZxuXMhDq541Hj15BfFTNuJgNqtqWUzyn9QFvQgOhmf4Wt+4LG07YrhWr14eVoeKmPfHHiS/fz7rFUE1TGxWLG+He06yYVkFbVNAPxh3frNbjtApWQpPqReVb/xLw+JYnfN9EQd+iGGpXs8H985dhWr4+SlkrHth7essFwm7wjkXZGqhZRrE/pMaH4uYdd0QJ+5BBkfKob1sSatmuyH5sW4qSol/gxuX7iDO2lvbTzP1Z+nFdn3t4+vwNElVVYVGyPCqVK4Ecm0MY9+JlHxjbNYKdNT/NxBhjjLHvGydLHxPvrzxZ+hfITJZuhHtAevzpb3p6cSqOhnSEU/eqciTL6ztHsfJNTcxvWVCOMMYYY4wx9n34Zp9ZYt+JqDsY1HYJXiTmapFP5n7+FIZUN5L7GGOMMcYY+37wlaWPiH/jjXrlauOeVn34PTqNEl/qR5j+32KDMaBKYWzxtcLGe/cxsNLfvLSUGIgVPdtg0qFglG3WEG1rV4C6qioyMtLw5k0wfuw0Hr81y/oRWsYYY4wxxr4XnCx9iLczCreaIvcIdEzg7OKGZuXM5MD3KSb0EJpWGQ6xTbRMzRffxFbHInLfp0qHt+sGDJ/3F3x9fQErKzRsOxornRxhlv+f8WGMMcYYY+ybwskSY4wxxhhjjCnBd0cxxhhjjDHGmBKcLDHGGGOMMcaYEpwsMcYYY4wxxpgSnCwxxhhjjDHGmBKcLDHGGGOMMcaYEpwsfSsSwnDr5GGMbVQBgzZek4M5Rbz0xgkXF9x9GipHPi4jIRz97SxQsc9UxKd/fsOH6THBcNu/B45VK2H29TA5qvB3lu9TJb+6hfom2mg1d6scUSYJr5/ewp/zRqBxrxFyjDHGGGOMsU/DydI3IQG7Bw9F9yFdsMzNV46978iiX+DQbhoidIzkyMepqKrCQF0LWkYmUFVVkaN/VxTWduuBLr/1xJ47r+RYFsXyOQOfsHyfSkNDE/riOpkYyBElvHehQrcBGDB1FXxz5nOMMcYYY4zlGydL3wRdOG7/C2dWTZP7lYj1xJnrwCm/62hSRFsOfpyKtgmWe7zC7RVjofO5uRKMMfzkRZye1Ubuz0ZYvoseZnB9sQN2n7B8n0q1oB1OhSdg39Cf5IgStv0RcWE/qprpywHGGGOMMcY+HSdL35AC5tZy1/tCb9xHq21n0KKErhz5/7Eq8oPclcX74Cn0cjmHpsX+/8sn0dCClaqa3MMYY4wxxtin+6aTpcPbR6Ndu3ZoN2QITvhGyNH/JsvmfdDH1lLu+/bY9pmK5t/u4jHGGGOMMfbJvslkKT0hAku61Uan3svh4uICl3Xr0K1ObZy4+/UaDsiUEPYY+2dNwOCmQpLWvDkqtOyAP1ZeQGh8qlxCuZhQb4weOQgtheRu5OzVWO+0Ep7yMFHYw7Po28ERzYXhTetURsWWXbDDIwDp8vC8pEYGYOWkAWgmLEfrFk1hWaE8Rq85jAR5eMJbf5w++Se6VC2Nca5JOPb7YBRRMUCjHn8iMj4ed93csLxvG/zYZDzi0+SRBEnRL3Bi8TyMbCGsZ8uW+LFlY0ycfQQvopPkEp+AMvDi/j3snD0RVbRr42b2vDY9AR6u2zBqtKOU+DZv0BrDnWZiaMcq2CIUjI9wQ//mNWCgogKV6rMhjpoaH4FxPeWYSi88U0xJXGjcOn0a8zpWR6sRW+SgTNhu2ydPwC/SduuHkZv2IzH1/dr9u9uXMcYYY4z9B9E36OGp30lfRUVsui3HS8NgEPnJZb6Kt4/I1sacBq88S2lpQr/wx/fKTjLR0SD7wYsVZfKwdXgjcnINpHShOyUykFrY9afbikFEfq5kZqBHjstcSZpsUjwNbGRF+oXK0sO3iiKi8BubhfXUpIEbrsoRosWDGpCBeUt6HJlGGelpdG9pS4KaFs2UioTQrBZVSUtTUVf9R0+nE+7XaLajPWlUmkw7d8ymWtU0pGEVGjtRXKo0SaKkaOrZvAI1GraTElIyiNLTKezFfbKzVqcKzXtSdJJcLg/BR52EaZrQrGuKhY8OP0rtGxaS5gNUoxvhUljivn00GdiNJ7/YRKk/LSWOljnaSGU3ZxZMe0G9bYRxq82id6NmxtCTnkqBJNo6awj9WE5dGrfl8M1SVBL/kvqULUQDl5+lJHm7Pb+2myx0VahIy+GKMqLP2L6MMcYYY+y/55u8svT85iXEkXhOnFNq7EY8eHeZ4cs76Twdj3010KVTU6iJj7sIf0rV64AFDU3gtn4Z5t+JUhRU4sXTizhz7ByiEgEN40KY16+OPARITEuCZgKhdHFLSJPV0kVhq0JIS4pGfNKHr2ikxMdBo0hFmOqpQUVVDZUq2wLpyQgIEZfFEtNP38aTNQ5S2aAf+qB19TqYtusiUu7NQ4+e0+B29gVqFpMGv/Ps7BS4uIai3/Ae0NFQAVRVUaDYD5jxUwM8dHXBlLOfVsmGpu1wxC0YM1rIAVmsz3Y4/noQa/dMQgl9RaMPahp6qNGwETSlPpmaJjQ15O5M78W00Gf6GpzfewimuR6LunXgD+xJaAynQU2hJW+3kuXtUFRXT1FA9jnblzHGGGOM/fd8k8mSmoYmlDfcpgMNdbnziwvEwQ0HkIrGKFJYDkn0MMipj/D+Gqt3eUiXuJQpUbYa7q/pg4q1OsPd/Q3K/9oHVeVhOqUdEJQWj2ltyyA8wA/HJ3XDrkPeyMjIQEpqilxKuck7PRF+eyF049/g4ZFd6NJ7kxQPi3z/xN7WpoTclUWsSz19E7lPFIadU1cjWli6cmXkkEQd7Xt2Et6jhfW8jgxF8JNYFS0nd4nScG6DM3wtCqGxpY4c+3x6BqZQF9YpSyqObV2O5IatUDr7bN5r4OHzti9jjDHGGPvv+SaTpeoO/WCq+35WZOO4GfXfzwe+kFAEST9xFIjYWCmQpaAVzIS3NN+X754Vyq3LjAPYOrwTUrwPoXadYqjfbAqy/2JS/DM39O7QA7su3kLh4evRpZOtPOQjYoOxdHR7TJu/CSHFbbFla395wN8VCT8v8f0twnO3mWFqDqk9PmE9P/8aSzqCffOqrS/JG55uwltgCHJvtpw+b/syxhhjjLH/nm8yWTK37YALa2agvI3846b6+qjdeSg8N3ZBzhurvqQSKFNFfHeD/yvlt8YVq18jz/nHxRB6rTgIryfnMaROBTy6vgB9fnVGCgnpyaODqFyuHaqN+R0jeneHnZVxztvQ8pSAuf0dsPB6A8xcOAVNKleEoernbrKCqGwvvt+B92PljTlYC+tpKnf/fSrQ0VcDwsPhEZUsx74GbWE+wpvbcfjGKyLZJaZkbsvP276MMcYYY+y/55tMlkRiU9S3PJ8hKCgIQc+f4+yeFTDUy/1gy5dkig69HSHO4eSxC4qQ7JX7ZYRZNcLW4XlfDTq1zQmxQk5gVbYxVpw8hYa21ojyfQSxQbYbB4/CV00VBjpacun8uo1jh+5AtYiZtFxfhgG6TR4HY6Hr2KpdyJ7GhD66i0DjsvhzbF058jk00aRTDSGL9EOvAZs+cqXKAgXFW+O8/BCpCAgL4wX3fD069QOadrYR3t2wdt5ZRUiUEAev9DSERWdeRvq87csYY4wxxv57vtlkSaRvaA4rKytYWVhATyP78ydfR/1e8+HUpTz+XOmE3Wf9IV5/iHx0FmMX38eCVUtR4QO5jv+9yxiz/i9EJAJpUYHQTjRE+2H9oaMOFC5RDEiJxsThIzBr1hRMnroQz99EIz0pHn+uWIaDnsHSM0I+t8T749Lh+fi5fEtZEWFcQ4SdGIbho6Zg+owJ2HjbB4ZiWZcVWLL7CmJT4+FxIUAq7e3rL71nlxzsg9DASLyNeImQFEXb4YUazsLcEU1w5fQMrNlzF8IiIyX4Hn7/4zxGzF2FhoUMpHJKZaTB3VVsFD0Jbh6+0riS2GC4X3wsdATj/ivF/X3FfnLC7w6VkXB+HBo0dxTWfRYWrN+D248Vy5tFDXZ1W0AtdRt+cxyBGdNHYY6LH8qWFoftRL/mk5C5ZqGPHyIpIQW+r17ICZgaHGdvQePyOtg8/yfU6zNKms+YGatRIpUAz10o+/MoeDyPzPf2jfe7AjsjTVi1nKYIMMYYY4yx/ya5VTyWjee+36mVlRUJiRpVHziKHsR/pC1twfmta+jZ1ZlUrZoVFStVljZffCkPUbi3bBiVF6bXaNQaik9KIz/XPWRVrBQtcXkkDb86x06aX+arepveUhPekZ6uimVp4EhnvEKkssNaVqMKvebQ23iiJY5Z40ivBuNIUUpssXxJzmHCyzVb2+svL26mrqWKSfFSXbvTxZfZ2jHPw8FhOafXctgSSooOoTbVc8bnZLZ+Hv+Wds3sLsVKde9Fj4SFvrphIGlmbzpcFP+S5vQqK5SrRjN3XaV4YS3mtqtOx+5FywWIvLb2zjGPUhXshOnJAymAfu/RUoo3cBTqQGxO3LYsrd33fmPzH92+bx9RnwqlhHXbIwcYY4wxxth/kYr4R86bGPtHXNs4CI1/3YS1N8LRv9bnPx3FGGOMMcbY1/BN34bHGGOMMcYYY/8vnCyx/5vgiHfNOTDGGGOMMfbN4WSJ/XPSkrBn83JM3XAY4k/x7p89DUvPvt8oBWOMMcYYY98CfmaJMcYYY4wxxpTgK0uMMcYYY4wxpgQnS4wxxhhjjDGmBCdLjDHGGGOMMaYEJ0uMMcYYY4wxpgQnS4wxxhhjjDGmBCdLX0N6OnwPrcewqc5ISpdjX1iq/zOM6z8e7hFy4Dtyx2U1Jh14LPexf72ICOyZOR57H8fIgS8g+gXm9uiCpWc95MAXEBqKpaPHwzVU7v8nBXtgTKcu2PP4hRzIm//VvZjpfEbu+5dJT4X7oeVo166d8BqDCz7B8gD2UbGxcFs2HqvPfJlja/CFw+jWay5Ck+TA1/QljxGp8XAe1x/jnE8gVQ4xxtjn4GTpC4t8dAVDf/oBpTv/Brcbj5D+xRtmT8D+Ob9As2QZLP3zOEKS5fB3IOHlYbSpaI2q7Ybj3CP+Qdp/v1Q82DEfpW2LwXHWZjyNFH9d631/9K8HDe3i2HLj44lCpuiQ59jmchg795yWI58jCRdXjYFBCWuMW74XAYlyWCYun5b2j3D+hOX7VMFPr2Hr0cPYsv8DyV+YG/q1qoiS9btj3/WXcvBfJDUSJyZ1wMV0e+zbsRJpr/5Ek7b94ZEgD2d5SEfA8c2oV6ckGo1dAe+Xn/cftITXjzG7XzUUbtIJp109kPCV/uGnkL9jxKdITYrDfpc9wj60B/Ff67+VjLH/FE6WvjC94naYvGQf7KzlwBenhWa/LcaqTnLvd0TLohE2LR0m9/07vNo9F3ei5B6WixqKtxqANcNqy/3KvMKFiwFYeOUO+tQqLsc+zqh0A9x6Koy72kmOfA4NVO0+EVv7FpD7s1Ms3/wr1/HLJyzfp7KqNxhPA1/h8MQOckQJgyqYO2OC3PPv439hA37ecBt1qthA26g4Dl/6E7bGaTDUkgv8h4S6On/CFU5VmNXphCUTesv9n0erQHEMXeSCTrZy4KvKzzHi02jom2PPNX/cObwBRtpqcpQxxv4+Tpa+ME1dfZhbWEFPR0eOfGlqMDazRIkiVnL/90NNxxhWFcujnNz/vUuNfIwBI88jJUMOsFxUoW9mjuLWef/nIOrCblSfvAFjqptCTUUO5oeqBkwLFoKJrrYc+BxqMDSzQKmiReT+LP77V6H1kqPC8hlC9VOW71Opa8O8UCEYaGrIASW0DGFVxgbV5N5/m1sX3EHq6jAy0Jf6tQw7wcvjLMr+x853M1JiMGfOISTl+7iiAl1TUxSxKiz3fx41TR0UMCsEUyNDOfI1ffwY8clUVIXPsyXMDPWEmmGMsc/3TSdLcTFvERwcjOA3bxCf+v1cTldVVYOm5pc4icubien3lyz9m6SnxsN181xcDIuTIywvBoZmctf7jBtPwPQBreS+/y+TAu9/pkp0WYTfOtnJfexr8gkKkLv+uzLSkvDs9BzsuuorR/JPR/fLJjc6ekZy19f3oWMEY4z9v32zyZK381zUrFoahQsXRuFSpdCs+0jExP8zj2v6XNiOMdIDxu2wfP0J5M7T7rg4o0unTtLwLlNn4E5otDzk40LvuGBqF8W4M2Y7I1p6eDYazn16KB5q7tQNZx4r7r/wdu6jiLXrgj3u+XteIsLXHTOHDJHG69dvNFy983cvh9hgxPL+jor5jRmDwxfef7Dax+OwNHzIzNV4KCzjvaR8PPkrlPHeMhv9hPE6dZuBayHK6yopOhRbZkyVpt+pUxc4u9yRh2RKh/uJ9dLwMcv24qmnD7zlIe/EBuPAsjFwFMo4OvbH1Wfx8oBsQkOxfXQ/xXoK9bT+kK/YHkcO4jbqNukAYoXuZ27LpOn1H7f+XcKeFPMMv3Zohm7jdyMVvnByFNetFx5nexJafDg6cx9ynLkcz/xz77tJcHWeLQ2fscUV/pfdhSl93NfcvsrFYq9Qp+J4yw+5I/C0K7KPmX27tRM+EzOdXZDfJyY+9jlKTfLH8mH9cUKoGPG2pH7t+sE5894keb+aufGsoj+bj9f9pxGnN1XJg+7S8i3or1h3sTECT08cWD9b2g9euO9BF3kZes11Fba22CaFO3p0UcR69BE++4rJKOT1cL7cWMwQeR6HfV7LA3LJUU7YN37fLu7qf1+GoqGFzOltP6zkWSphma/Kn7d2jo4Ys/KqGMop1Bszf18NcVEifE+8Ww+P4KyCoY/PoFundtjt5ovkuAiM6CVObxgex2Sr8IgIuMwcgk7i+P36YfYWb3EXyOFD+0vWZ1pY5r2Kz/S4zGO7cNx4t4+vd3/veJ/pwvbVUhnxtWD5ISTl4x94n/ZdEYppPTqjVvsliMIrzO2tmNdZH0VdZf/si3WwxVWoA2nI+6JD72BGty5CWeV1lZ6ahEPLFyimJbxWb78gD/mw2GAfLBOOH9J4wjZfdkDY5vKwDwn1dsVoYZml8YR1OOQuHHflYbkF+1yQP7/Kj88frdNcDSx57FmqmK/8WuYWgWCPPe/6HYdNRUyuZ5ui71zDDPl7utMk4XvrzvvbLcLdWaiD/nCLUfI9wxj7d6Fv0Buvw1RAV11sGiHHy8ZxF8XJZb6GtPhwWvxzLeo+65DUH/7sIBXVB9mPOUIRKUIgPYVOL+lBBsUb0/2oRIoJekJ9yhoTrJuTZ5Q0iiQ17i01rmBCFRo7UVyqIpaRlkzbnX6mxgPWUVxKmjDuVSprDKrSfSGFJCrK/DW1M0HTiDZc9VMEBFIMujTjmJccUbg2q5oQL0dHg+WAwO/aSho9fA09Cxf7QmhW97qkrmtMf156IQ3Py+3jS6hSsdp0yTOEKDGRzmyeRYWNzKjLoh0UnaQoE/9yM9VuNlKYqlgvt6hTmWq0MyhSMTAviSG05peG1HDoTgqKEXr9ntLEX+zJWtiW1WZdkwsRRfmfpkl9R9Hlp2JFxND5Bb+RsQ6ox5LTlJKuKPPqxlyq1mc1iasW4nWG6hZuTOcVgyTxL92pfcP2tNVLXEKiQ6v7kLoqaKXrS6lf9OLWXqpWxJb2nn8ibOw0unVwHZUx1xe27zIKEXastIQ3NKtDS8X+Vm0W7d8+mpo4OFCz6hWlmP2ynNtgw8ByQrwa3ZDqW5YUTTsWdaFWnUdQiFRZ4bRkdCfSVLOhJcdvK8oI3DYNIdspZ4S1JXp6fjuVMu5IWUOV+5rbNy9/juxIDdZ4kbhlrm6dR/qavempYpC44Who85JUts82aT18zm2j4gYaVLPfKkqSt5so+KiTUE8mNOvaW0Xgo5+jeNo3u5diOwivsSt2008dG5ONhRGZlO1PV8/tpwblrKVhLYdvliYpyWfd58V/UzthmkVok7+iPzr4Dg1sVlWaj5FFO/LLdvB5eWMbVbCuQduvKgqHeG2l6hY6pGlkQVczC4YcofLCfmzRblPWcUuOmVqNp1ApkESPXDbSj0XMhPlo0sANV6WoJCWCjo9rSnV+XqjY5sJKLRjRnmyE5Sk3cIOijCguhJYJ5X4evlBcZancOGHf0DKoRntvfXjfUCYl4iWNb16ZRm9VLEuI1xqyEJb558XuFJ8mhYjePqK+LWvThM1nxF2KQjyvUpMK+mRj35ceSZs5kU7OGU066sJxvEhLunhjKzl2a06tmjQkLXU1smnvJE0mu5k9qpKuqRV5KSrmnXi/K9S6SjVafvCW+LGlJ+cPkZ21unDsnED+H9lfDIq2p0Etsz7TR/eOFz7Tbal6KaG+9YvSroe+tHJ0f3LIEct5XEuKfkGLBvagTYeE4wal0bPj4nFD/D5aJB03lMrnd4Uyyo7t8b5uZFu0IPVfJ9SB0L93al+Cui7NOpx1TAq/sVkYT52aT5hDozrVp7bCsatG+cKK2NA/KXO2cSG3aVrPXnT4qvghSSSvreLxAFRnTM7jwfCWRXLu98I2d6hShBpMFra50HtJOI7oqatSz4XHFMPz8OLSn2Ssa0YLTzyhtJREWt6z8Xv1rDhG6JPjhi3Uv0NjcmjbmioWF+pLjC1yU3x+8lGnIQ/PU4dqNsJ4yPH9+/T8AuEYq0PmZRqST4z4ZR5Hu3qWI9ufneTjqUycx9bRVK/2T+TjJ6xlTAztkr6PrIXPQ9b3kfApoYNDWxM0dKjrNm85xhj7t/omk6UTcx1IRf7iy/nSoVNZecQXd8t5BGlXdqLX8gFW/GKc1lScrwad8BX6hCSoyY8FchyEA5y7Scu2Otu5mLJkKdx9CVmU60l+4nFakk7O3cRpq9O6u4rIjc3D30uWpFh+kiU/V7IqXIg8gjLPZoTleHRQWjYtu+FSkqPcVaqro0HDjsVThhwR7ZvYiVRU9WnB6UdS/6VJxah6r9lSt8jn/GE6+uZDyVIanZnlQBXqj6DIlKwpp1xfKi3Tu2RJOMF1tC9FS66IX78KGYkR1LqaNamZV6JbYfFSbE9vTWo9+7jULXJbuykrWYp/Sb1szGnwWjc5IHxp3jtCprrItsxe1MlAizqtfybUfJZbe8aQjrA8Axa6UobwRRnx+gzZi/uaRj3a7xUtnZikJV5XxGrNo+xrrCxZenR6AemrqtD+B8lyRPz+fUVDC5qQhk5dobYVZrfWpN575I2XkUJ7Rv7+4WTpK2/fvPSqrkmTLsk96dG0rOXod8lSyPGJwvyzJUGJkdS2RhEqVtOBIrOddOVOlj7+OUqjyLchdHRcJSnWbsU1Ss9IpeiwN/Q6PI5ioyPpoZszmQgn8NmTpfzWfV5yJ0spyXH09m0wdbLNnSxdpQZ6JWjZvZx1un5I05zJEvlTyyK5kiU5lpUspVN0eBjd2DFWmHfOZMlz1wQyNW9JjyPf3+bZkyXXhQNIxyTXvpEo7O/ivmHQSdjzP82uCR3JrMUyin73QUmj7nYgvQLFyPuN2P+W5lQoQrZdJkufj0xJ0QfJVphnkQpzhBJpFB36kIZYmhDUStCEE2GUkJZOGWmvaVghU0Kx1hQgj5dJebLkR0NMdMh+/L4c8wp5vEr6p4u941Yh3cx7fwl+G0lh2T7Tbq9ipekkPt0tJZ06DefRy2jFMSbxyhJp/Frzbkr9mU4v6EQ/bch53Dg42V4q67TDU47klN/vCmWUJUs359XKEUv3OSJNq8WMrERFkSxpCHV1nGITFV80ibF+NK6S+D2jRdPPKI4SCwfUfe94MPVnW1LRMqatN7P+uZQ7WQrY2kmYTtbnIyPkHlmZ6lLVHjMVgTxs/vVHYbys42TarRXSsvfcGaQICBTHCGPh+PyE4pPFCsuguKgH5GgjLrsO7fCMzFedJsZHU6DvHSGZzpksCQd3urhYTJrVyGTIfuFwupCKtFhKb5Oz71VE0a/3UylNtZzfR+kJtLilHalplqL9r6PlqLAeidEU9DqEEtKz7xmMsX+jb/I2vPTUFPEIqUQiUtPkzi8uFn+tXwnThg1RUF0OQQ2jt9zG/Nl7YWslNlBgiAnjZsNpYn/oCGUivK5j/7FHUsmXQXncHiNJxK7p45BRsTJKvHt+WxXdtwRgzYKtaFRKDn0G71vn8DYiDluWz8WsWbOk17x99zFz5kxMal8jj1seUnFh/AhcSywF+/q6OR6GbdKuBSgjDkv+PCn1GxiZw+PoOvQfvwiPfONRwq4hKhjpSsOUSYuPwMJ9l2HdsiMMNbKmrFHcJkcDD4nxgXj85Dku7Fj4brlnL1yJGm0HYNrQPtDWVOyiBsZmOLlyFEbN2YzgkDTUcGiJEtIQIPDhNRwPfIsyZYXTH5llpdY4u2UxRnT/WejLgOfqxTgUayKsp2mOe08r1OgAA0MN7Du+DyqqGjApWBGlxQWs1AyNbQ2FPUDY7trFFbGbj/FWHClPwj70xxLEZbRAmZKackzY0hrWGDurJlITr2HUwrtSTFffENvGtsS0FYcQFa2BNr91QiFpiHJfe/vmRUtbG8sH1MOirW6IjTdE33k9kdlmnGWDPli9YC76VjYUNmQiHrrswKugGMTExSMtLe8P6sc/R4pGTMwMFB+W5nXrQFVFHYYFzFHQVA/6hsawsiwMNbXsT/7nv+7zS0NTD2bvPeiuqNPLRSqjb6Wcdaqu9u7A8QlUYWhaQOnD+c7bt0PTYQBKGWetp7qlVa4GHqKw7a990NZqhYLm2cpp22LMTFskxx7C8p1P5Wh+ROHA0cMo1sgehu8+KGpYtOUkpk7cBGtj4I33FfzhH4xSJSpKn49MYoMMDVsUQvDLFbj3JBaGFsVgV1PYhlZlMbh1AeioqUJFzQCVqgv19DIUz+TxPuSZyx6sjSRUqVw8x7wKFPkZZSoY4ZbHFkTFpue5vxQyM0aBbJ/pitb60nS0S5eBeNhNLFIMRQ0VxzHtUqWlY1NaWvZPUyxcjxzC0zPrMUf+3Imv+5r20mevljA9Zf7+d4VyFXstwILVC9FIPEhEReHCIUWT+QHBuaelgtKljKGvragLbf0SmPLXDhTVScaFvWeRImzfm1ev4e7BxZidbX3Uy3XCjElOKG6Sd9ODRTpMwbJlv+MnsVHI2Fi4HzmIhMRUvAkPVxTIQ7OBv2P2xiWoZCrUbUgwXA5cluJPnue+tVwFlSoWgK6m+DlSgZ5RBUxYNAO6aom4dOlOvupUW9dQeQNLKqqwH7cPm4bXR9zaLuiy9A0unR4DM83se1Uijo0biecp1VG1UtYzxyqqOnAc3BDpKc8xcsEVOSp+LxjCqqAldFS/2acZGGNfyDf5KS9VqyH0VbKfhihoGAzCj6Xlni/uKR7eBIJDw4RT6ywmRati4rROsFBJEWpLE816DkSTwtEY37EUepz0Qt18ta8aCHfhuy0sIjrHSa2mbhEMmdATJVTzuvM8/176BEFdRx+DxkzDjBkzcr16QnlzEJE4s0v8wtKBoYEiksnUwhri123YfR+IX0N2Ew6he/Fk7Fg8ARVKC/NZdxsWHzg5jIt2xfOH0dDQ1/3gTpacdBcRIcLJe5/JSpZ7FGwNFF9ajaYfRQPDt1gzfSAKF9LA7+eD361TRIiPMB3hHCI2+73jGqjSbRy6NSou1HkqbrqKp2YawnrmXBo9A2PoaGgi5kUgPv9XdJ7i5pkw4d1YOHlVRDKV+MFOOkkLuO4JcSm7jPsDNql+mD+qMyysTLEnUAXmUknlvvb2zctvQ0ZAP+QOJvVrhKLlq+CGbmG8Sx0MymLQiF54fXI9mvxUDwcK2MNMPJv+mL/9OcqioaUD1RzJUv7r/lPlfNBdrlM9XWFOX877D+dfwPUzr6FqbIi8P2WiO3hyJ0Y4oTOGRq6CJcvaSZ+9l95PkP//Md1BwBPFcTD7P6ys7Vphwpim0Bc+TSEvvZCUkA5t7fdb/DQX9qv0lFT4hX+Z31F7ckc8GVYVqjsrARapq2vCyMAEiWGReJ78NZ9lVXwv2LQequRzNwOd7MvI5XL5Avt4drpFGmBYz9o4vXAQSv3SHZFV68hDPk7HsjEKWQhpfli0sE0V29fu54lK1mcy7MtYymMpYVwFvw1sA89N01DVUXgvVR9aOoqk7EOKVmmDkZ3LYvv4DvhhzEQYN6kpD/m4gqWqSp/nRPG5oHzWad4NLBmg/5TlMDfVhedrfxR47zcKA4XPtvhEpj50c/0f0KpYWelzGHzNM9/PZDLG/j2+yWSpbINfMaNrzgOqvnkZHL40+93VhK/m9HzcyP3se6grjp71BdKT4DyhH7oP34m+qzxxatJveL+x4Q+4uQ1Hcz/FH+GOVc6eeVxJ+zSJ0dE4dOW9Zg/ge8I9jwO8NqxsxNPIJ7iR+/ltE1NUEt/NTWEiBYpgm9sjnN63Ak2KmsN5Sns0HL7row/3Rtx8gPz8zODeNWuQ+/cDo1+EIjBekUjqmlbDmev3sH/TLNjpamFun+boKD84n+nGxXNyV5bjh08gWdjNza3FL88Q3LidKzHV1UclMekzMoBwPvGZTIX5iO+n8eKVFMhStKSU0KhZFxRqXeit3hNet93x5+JRKJYYiV+b1sNoZ/c8rhApfN3tq1yVbnPw9PZlrJzaB/qBd9G6XDWsOuujGCjsu33rt8aBxDI4sO8mZtQtgryvNWbzuZ8jpfJf919EdKzUaMHXlnL6xkdOzgrCyEwol3Ia4bkKagjrLaZ5WhYFclyVyY84l9/hl+uZ9mhfF3g+fgMdfVOIH5kXr4Sz7lysjAsIFa0KU50vU9NGZmKWn4T7j0MUgUzCAtjo6gmfX21YCPP72g7NnAi5nYUcnnrIn4XcvvA+HvNoD5pV/hkxdYfj6ZGT6FL801N1bWvzd1/4u6dNfL/BEuFY6y8cc/MkfA92rtkRnkUdcOXARQyxtczXfvX41B+oUa43LLovhe/u7bA3y9dRIgcDM2FP/gJ1+uD6ebSZOg9Vgg+hfsfcjbYYCMdL8f0mHuTetS2tIP2fVjiG5Pq/E2PsP+CbTJbUdE0xbu8NHNo2Cg4ODnD47TfsvX4Dbew+8F+vz1YVLbuZA1E+WLhiM8ISFD8bnxzxGtsXboJGmSKIDb+KhRt2wqDVzyifn/+gv1MaPUYLZ3JxAZg19XcERMVI0YzYKBzbvBNq1ctJt/NoamkKwQwkpWT9Hzguny3tVG1YTfgyScDcMRNw+Op9pGco0q+oAG+s9A4UTiWVMUSjn3+EDhJx9qCbkFRkSQ0Jwm1VdfTp2lI6wbwwoQceaFqicZcROHf3On5too+761biYR5nclo6P6JAIQ0889yOF6HZ/vOblCQlWLef+Uu9egZNUbSMDjyO/oFVe88iUm7xUGxl7dCxzdDJUHwdnxjXA2+Ni6PDgOm44+eO1pWB66vW4LVQPcXK1Bemo4azu7Zgu/sjJIvNJwmvsJfu8AwKFU7gNVCl6Y/QRyrOH7iQ4+pCekwkPFJT0KyJff5O9D+oBGo1LSp8qKJwzztnVpzw4C5e6Vhg6q9tpROMI8tmCl+85fDLuD9w74krKhaJg9uOA0jK4xLA196+edn/104Yl6mGoXO24sr59TDSfQ1Xl6vCkFTsmzoeu0ISMahtQ5joffw/zJn+/ufoQ/Jf95/HEHXaCMcJ3+tYfDzgg8mteEVPUwugqPiscglvEZsod39QBRQvr4PYV6tx21txvJCkiDdSCSegAZn/0SmPinYWSEoIxdOgnDeJRgnrHalfFAM61M1xu+CHNRb2NSPEvnDHH7uOIlpuRi3+zXPsXLUb2pYmsChqC0tddTzzegDxWl52fiGBMCxcGXalPnRTaf7ZVK4IY2Tg9sVbOVoPJOEz+yA6CuUq1UJB/a/1m3Yi+XshcB+cpqxBQJjieyE9OQHu28fAPV75qfOX3cdDMK99D9woWh096lUUctH8b01RXMBf8Htpjg59mgpHQsX2jfDaiDkr9yJU0RyrkChF4vz2iXiTnNfRIAYruvbESVULDGtRA7pa+f0k+eP3X8fBp05ntLX79PvN/b3PIT7BGi2a2n12nUa/2IMlu4Lxx7BR+K1va3ifnY8/jrjLQ0UF0eTnskIdxeHaxTs57jBJ8nuKxxoGmPJbB+mKPGPsP0Z+dokJXt3aIz00DjUNKmBpSVZWVlTQzITsxp8l8TnRyKCdVEyoMouqDhQen0Z+rmupeUMd8ayVnI760q5dl6QGAJKigqlWcdUcD5gmhDyWHjqFqhqZmJtL0y4kvJfvvYoy23x4e22jMC0Vsuu0gEIongJ2zaRunatLMQPTOjSqt/gws8Ke3hpCPNtDwKmv5Qd5QeqaelSokJU0D3MLK1p13kcupERaPA1sZEWq+kXotKIZK4nHtjFkkO3h8vPjrXI8zHx5bT/SqDSZQvN6tjUjhXaPqC8sj7C+Zi3I1S+S0pKiafIQRWte0DGhau2cKEBq3KCBtNyABplZFJSW29LclBqP3EOZbUPs6p/z4eONw5qTectVFCMOTxdbJiooTUNVW58KFipEVsKrgJE2rXV7rRghLZGWOYqtJOnQQtesBjReXN9CRlqV6EJQZqMAwTSwnLAsGr3JV468i6FnVktwAkUDDxq0zSOSou+50kX3lxT52JXMDTRIp+4AuZQonrZ3taZGA1e/e0h9dq+sxisoNZZGNypP9qP2S/uZUl95++alT9d2WQ/ix/pSKwtDGrL+itCTRKsdagr7szo1WeIu9EfSsdEthO0mbO8KjeltnB+d91TU8911HYXlzmrgIb+fI8WD7sofiH/jfZwK6KnkaOAhv3WfF7ERk+wPsGfqVV0tx4PuafHHpIYMVA0K0WIXRQMZAQFXaWjtErkaeCAa1tyKtIS6PyrUffzLi9Rr/FCysxLGVTOhelZD3jW+4HtitjDvnA08XFg9UIgJn33jOu9aeVw725EqCfOGlgGVbzeQ7oXHU9CF1YpywnEjSyQtqKdHjstc3623556pZFWsFI2TlzkvXvvEhjuEeahrkbl8HLQwNaSWyx4oGjnISKN7y8SH5TWowpzszWYEUNsSRbI1fBFHm9pZCMfT6pTZRsi7GKrmaM1SJDbwoGlkSdf85c+FKD2ZTkoNN2iR49aspiriwm6RrVkZ2i21oKmQ9/4if36rzZJa01S4TS3Edey5U+4XBB+lckJMo/ceOaDgc34FGWiInz01Mi6gqI9CBS1J2258tsaAcsrvPq6MYj3UacopYZsL+9W+PX9RT3FZxdbvpEYaAuj3X8RGExQNfbx8+ZCexCfJDTzkalFRmMvihkbkuOjUu+8Zt7WDpXHFeZiay99zFmZk1TJ7ox659/tQGm9lKmxLLeq1SzwihNDmX+uQtpYKFWk5nOLjn5H7y6zjSxa5njUMaJdnJCVF36NRXcTPmaKRH0/PO9Lx5b0WMyUhNNzOksYJ9fW5379iS7cdHMfQozhFLaQmBkjHU7E10Wy7FaVEvqD6ZY1Js5Q9vX7XNGAanZrSgsrmaqzIa+scsipfnQ6GZzX6wBj7d+JkKYcU4YRiMTWrV0jxZWJmQ32dllF8ouKIm54cT6tHdCYzcZiVLY1ZcZCin54kGyMdKly9M517EU/hPhdpYr9OZCSWMSpM/SZOJR/pGzqdnrg6U5eWNqSmJgwzLEQdB0yil9nbnk14RSsHNiIjIWEzsqhMg1efowubh1Op0nXJadkOCooRG2gmOrh8uHSyJi5jidaDaL+XIp4cH0ALR7YmMzPFsEI29WjSHtdsLXEpl/DqDk0e3IUaVG1JY2fOpJkLJ9G4MVNJ+G575/z4ljRg6hCatFAYPnYQ9eveV1rfDwui9XN6UiktMbEDla7bmVwvbiQ7oV4GDp5KZ++9ksvF0IGFg6l0KUU5Da1S1HPOemHsLAd/q02DJw+myfOF+Y/sTX16j8mxfOJJwcap3YUvfsW6W1RuRqv3yc0MysQmkRdP6EeNqtajkeJ6zp9ME4aPpAsBivVITYyhTU7dFdtXeHWfupFChTpdI0w3eyxztr6XNtEPOsIyC9ty0OQ9iublBZGee2hAh3rUsG5vmizMZ/qMkTRy2lp6laAYLto0ohkNm/QrTZ03k6YN7U6/DJxDTxSbMU9fc/vmZcHYDjRy8m80bc5MmjiwC/UcuvrdesQ8caUuVYT9WVgWm3odaI9HKG0b2kFIhI2o08CVUjmv/VOpdQmx+WJhmW070fKDF/P1Ocq+j5cR9vGZG90os/qC3HfTYAd70hCHF6pITguXvGvCOT91r8zFP52orp7ixEtPGPfPiz4UF+JDC516UyFxPho65DDYidzlnfLOwRXUyNZKKm9UuTqtFPa1VcNbvpcs3Tm4gGylfdKMmvWdSi/ifahrhULUe8w8uvjwmVTGz3UJda+paJ4eNvY0e9NuUhxywmnf6sFU2cJIGmZl24h2HtxGNYVl6dLTiQ5ffUKp8sltwIW11L1ZZWol1NV0Yb2nTfyNJizO2idFy3+rIhx71EhH50c6kv3D9Z4Eurh2IlWvrJivtI3mZ0sqZCc3TqUWVUvRL0K9zJwzjab89gttPHlHHirU6fqRVFZHS5pG3X4T6PbLADq2TIjpZY9FUMTL2zR/TG+yMRTmJZyM23cZSX+8qwPFcdd54UhqWlU4JgrH05nzpgr7cz86cDvrnyd57S/iZ3qZU2vFesCKBiw/qPgc9c2Kjdl4khJjvGh297pyzJbm77yomLAk1/eCtC2d6G58VqKWW3728bzE+p2mBoWFus/2OXpxdiVVF/cDIdaoy2C68/QpDRP3P+E7aupqV0oW94PwV7R+6mRqVrkBNeuu2A+WzJpOC3cJx4hs+4G4fS9k375CHXQYM58y/4WU134vfraa2Qh1oKZBVVr2JNf7QtLW3Pa9419uN7ZNo9Lid4D4nTdoMr0MuE8/2ZhJ9bLioLy/BD0RttNIql2qLnUYMJxmz5pF86ZPoE0n3N/t43/3+/ee1x3q10lYTrMqtNBZUVd3Tm6UWrkU19+ocHWauPbCu+OLeFwb2bMl1a3ahcYLdThjvhONmbgw1/E5lY6M6iptj2Ens/8LjTH2b6Qi/hEOGIwxxj7DlhGtMGT7HVy464e6JfTk6LcmCSsdmkNn3mUMfP/ZeMYYY4zl8k0+s8QYY+zLS4r2hadVR3TlRIkxxhjLF06WGGPsC8nIIKTk+J2eb8dzr9PYNmM/Jk7qJ7WSxxhjjLGP42SJMca+gOv+PkiLS8D1awFy5NtiaVMLfZbOQrninCoxxhhj+cXPLDHG2OeID8XSNVsQl5jVRH6Z1gPRvbrynwpmjDHG2PeDkyXGGGOMMcYYU4Jvw2OMMcYYY4wxJThZYowxxhhjjDElOFlijDHGGGOMMSU4WWKMMcYYY4wxJThZYowxxhhjjDElOFlijDHGGGOMMSU4WWKMMcYYY4wxJThZYowxxhhjjDElOFlijDHGGGOMMSU4WWKMMcYYY4wxJThZYowxxhhjjDElOFlijDHGGGOMMSU4WWKMMcYYY4wxJThZYowxxhhjjDElOFlijDHGGGOMMSU4WWKMMcYYY4wxJThZYowxxhhjjDElOFlijDHGGGOMMSU4WWKMMcYYY4wxJThZYowxxhhjjDElOFlijDHGGGOMMSVUSCB3v5OUlISzZ8/KfYwxxhhjjDH279asWTNoa2vLfQpKk6Xg4GApWRJHYIwxxhhjjLF/s8zcx8rKSo4o5JkseXp6wsHBQY4wxhhjjDHG2L+Ti4sLqlat+l6yxM8sMcYYY4wxxpgSnCwxxhhjjDHGmBKcLDHGGGOMMcaYEpwsMcYYY4wxxpgSnCyxb05KQjBuPgqQ+xhjjDHGGPv/+IeTJUJyQgxCQ4OlFvfevAlHYlKqEE9GUlKaoki+EJLiouC9eyNMdevgZoQczi4jBW+FeQQHh0OcQ34lnxqOwoUrwSUhXY78XemIeqNYT2Wv0NAwRMcnIOO9tgi/b8kxoUrXV3yFhYUhJiFZLqlcQlwMXvt5wfXqXYSEhCMuMRUZ8jDGGGOMMcb+Sf9osvT4zEo0q9MVKw5cgqenB64eW4huPZrAoV0jrD/rL5f6uKTop5jUuw4q9fgVkcLJtDKxj46gTOFi6Pv7MSTIsfyIjYlASkoC3oR9+KT+41IR8NATp7aKyVdhlCxdAZtPXpeaZPf0PIUVTt1hV6cOBk5bDWW53vcqNsgbl46vl9ZZfNX+ZQqu3fSA56XjmDW4LarWbYhx608g9b1cNAmuzrPR4bexuOL1BIF+Pri0dRt+bdoSrUcvRahcijHGGGOMsX+M+DtLuQUFBdGxY8fkPuV6DOohd+VPlP9uqqJhQFPOhMoRhSj/E1SvmBbNPPZUjuTfjBYgoBrdCJcD2Zxd1o9sW82hkEQ58H8TQu1sQLqmVuSVc9Xp3Pw+ZKABqtp7OSWkZcjRL+fZsW20yV/u+UfF0BJ7cduAVt+WQ4KUuLfUuaKxEDenMed85KiCn9smMtIypr/ux1DcWw9avv+qYkDIGapetSP9X1aDMcYYY4z9J4i5j5gD5fYPXVlKx9UNW3CnYDn8WsNQjikYFW+FM6sGyn2fxrKwjdz1viDjGrhyeCosteXA/40lDIzkzlwaj1yMerbWuHviT9yP+pTrX/mzcfNWueufZoCC1nJnNhp6BTC2Tx2h6y2WTT2AKEVY8ujyYcQk26ColYEckVk2R/+f6so9jDHGGGOM/XP+sWQpMjQZeHUfvcceQESiHJaoQNehH+rryb2fQE1NQ+56X+++v8JQS+75RqmoqkNdXQ0ZYdF4lvwpT1Z9WGp8KHZP/gkbjj2XI98KFRSwsFR0BrxBvKJLYmhZCOq4jW07T8mRLI1aNIOx3M0YY4wxxtg/5R9KljTRrFsLGGgl4uKfvdCozXB4hMcg/V3rBnZo3Li03A1Qego8Di5FnQqVUNjKCvoVymPq9vNIzEdrCGHPb+PX5q1RqHBhWFgWQJOhc/AoJkkxMCMNsZEhOO08FU1rtcObt6GY1rgSdA2b4saTKKQmxuO1uzs6V6qFzS8Uo2SK83+Gbb3tUc6qMAqWKgk7x4145h8nD/17EmPDEBz0Euoli6KJvo4Uo9REvAn1wpwejdBvVzD8z2xDZRVNNOoxEp0tC0JHTRUqRVshc/GWOsoxlWq4IEVCMbl1V4xZdwIxCIZTLcWzQ3NdFU/9ZKQlIejcGQyuVFaqW5O6NTFtxU3EJH+8QYuQS+ugoqmLCWdvy5FPQ6lRWLPxupDlamLIiokoLMdFVVv+ijJFDLB+ZGu0/OMOsueOZexsOVlijDHGGGP/uH+sgQfL5lNx9a+FMNZVh/fF1ahTzg4tBk6Du+/7zRvcdB6H+t02Yux+NwQGvsLJfjUwb0BHzDv3Vi6RB98TaNLYAXE/zUZAUBCeXD+D6OOL8FP3cYgTTr59Tu9F907l0KrvPPhGvsCEDUdRpHVjFE68hSsvrmDOoJ9Qon5tHPIOlico83ZGzU6DYTphOx68CoLfzWvonjYF1evXhLO3XOajxGRETtoEwZ4X4NShLbwDrTF65gaYG4iXwWKxb3hfVK5YHdN3uyHV0xn7XyWjhWNd3L4chLl+jzC1bgHFBGRjd+SOWWLxpUu4ubi50G2FxTeDECTUxdTmiis6O37vh/ozzmDCubsIevUKXptW4erqxqjTrjteREtF8hQXEytkPBmIDM9+TSh/xPUd5dAWW2/G49fZ+7G0vYU8REG3aHW4Xz2PvvY2uPr7b1gycwLWn/CVao0xxhhjjLH/C/nZpRxyN/Cwe8kocnBwyPEqXKzwe7G+MzbIY3xAiBcN7VqDjI0VDQDomxel8StcKSROHi7YPa4uqRq3ofsxcuD2aqlshw3P5IDChoHlhHhWAw/hl+aTvkYhWnsvQhFIiiSHmsWocNVWFJGgaEAhNe4tNa5gQjpl6lNITIoUy+78eCthmkXeNYyQFu9H3S2NqHbfBYrAO17U0AhkZNmd/OLT5JhyPaqC1DS1qWHzrLqqWdmGjNV1qfuETXTXN4TSs7XvEHzUSVpf69Gn5EimONrUzoJQpGW2Bg/kGKrSeTki8t/ULsd6iOJfbiYb6NCsG3JAdvGPQUJZLRq4yU2OfL6dPRXbt2J9YX2bVCIdodu4zs8UEP2xFjdiaKfc8AX0zWnMslPCvvH+dmKMMcYYY+xL+awGHrqP/QPCBHK87FvYvxf7c+YgeYwPsLTFyl2X8OCeK7qWtUbc2wAsGtkGQ+ftlQsAnWcdR+DTPShvACQ/9MLoAYuleGDIG+k9L6Z1R+F5wD30r2gMREXBZWw3uN8NREJSMtIzcl6jsDAxhpbm+888FS1RSe5SCPS6iJNRMShe5Ac5kskW9VvaIibOFY+ef7zxby19U6zckVVXl6554t6xhbizYSDqVmmOw6Excsks9lVt5a4vIQEHnWbCFz+gdnU5JKvXooXwNxlbD19WBL6gX/8Q1vfMdfRsZIXomyew+8bHmog3QIcBQzBp7QaMqWaEZWPaoWn/mfIwxhhjjDHG/jn/2G14wT4+iJW7VdW1UbhYM/z15BFcV46HnlYGDjo7I/M0WlNDAw/OrsOEIUOw9O5DDF0xSh7yEWraoIhHmDpwCKZvWgvNYetR2U5Js2wfoK6eM4GKDgtAajIhKSlHqxQSUwMjUGoagmI+/dklLV1DFGsxCJN71ENCjDd+avHHV/69pTg8uCq2uJcI8W667NQNjWElvKf5v8JrRejLUtPF9KWLUDEjDhOHDcFZn1wL8B4V6BpXwILjVzH557J48NdqjL+Qve08xhhjjDHGvr5/LFl6fW4DXAMy5L5MBmg2fAZWtzETCjzBpVdiLANnV/+KNgOeYsjatZjc0xE2enm3epddku8e1Lfth+pzF2C202S0KGEMTXnY32VYoAg0hIm8ePVYjmTR19aBioY6rI1yNXedX6qaaNxUvszjfRq+XzUf0Ee5WmI9PsF1j1xPAmlpw1x8symGQorIF2dt1wNn9v8GDX83DB84FVGp4l16WbxOrkZU1iNdEg09S8xbPBbFEIN95/L9cBhjjDHGGGNfxD+WLAG++HPREbzfQLYuitqoATaV0baI2P8Ya6fvQmrNchBSqE+Qgt3TV+OZqSFslNxe93cVKl0dFQ108eT8DeQ+XfcJ8IOpXV9UL/1pS5olFZdd5Jbl7LuiwkebfNNGQWuhrsKiESJHkBQFd5/8NDuui7bDe0l1emz+BmRvyyFWWA8vdV1M7ucgR74Oi/YLMbZeGfjc3Iq2SxVt92UKeewHd2VX6CLDECUs9cCO1eQAY4wxxhhj/4y/nSzZ2drJXfl3cttoLN91FoFvMltTS4K/+1FM+Usfs6ZOkZMjLRib6gNu4zBlyR4cObgGM7btgxBBlM81bD94DlIj2EnReOgpXu2JQlCEOD0VYTwh23jrha4j1sDFZQ/+mOyEgNAIpMaG4czJQzj3IBjpMW8QH5uKhORkpKfnutKVnoxbF9yFjkQ8eREmtcSmZW6LA7snoSCuoknXxXgdkyyVC3Dfjoevi2H3gcUw/8DvOSWEueHxS4gNaSAuPuuKTmr8G7ifXo5ZLldgXLwxzh8YBOmnpigDr/3DpTKBb8Kk9yxqqN68LXQSb2B453k44LIdSxasgYG1OF1POFi2x4Ebit9W0jG3hA5eYfOyLXDZvhlr17vDxH4xZo5oAt/rE7HhL3dF23wJYTj81zHUbj8Jv7b88DNSd3cugoqGNgbtvSRHlEuN98XJm4ruwFehyGzxXVXDAPMP7UDrQoRrk5pixPy/8DIsQarnlNhHaPHzDNx6HIjMn+d9638ZXX+djWojZmJKdV05yhhjjDHG2D9E0c5DTrlbw/sSbq9eSqeCntHNfctoqGNlsrKyEl6W5NhnNl0MfEup6XJBwVsvN2pioEOwsqUlB9wpOTmBxtvbECp1otsv4ikpOoTaVDUnIUeRWlzTM7WgOVeJ0hKjaYOjPWkIsUbDllN4XCpdWTKCYGxNq076ks/pJVTQzITUxPHUNMmyYCGausdTnivRku4FSV9VVZqmqn4B6r7EVR5CFOV7gyZ3tqMS5gXJ6oey1G/WRvKNipeHKhNC4xpYkWUBfWl6KiqqZGJWSF5vKypoYUr169ej2buO0NuoOMpsDO/gsEJkpKUpjQMdE7Kq1oMC5GGStHjaMbWRMFyD7B1n08PoMKk1vGFTnel1eKXwZl4AAF5QSURBVDSlZ8hTEsrN6GRL0NChMRvcKFFusC89OZ6eua6n9qWKkKW4LM0a0/qTN+gjDfpJHh1cK01vvKuHHHnf1Tl20rpJyy+8NPVMqZAwH1c/uYDgsesyRWt3ahpkVMBSqufEmFfCvrGA2v9UnswLmpORiRnZOvahsxf9KD45287BGGOMMcbYFybmPspaw1MR/wgntTkEBwfD09MTDg5f97YsxpSJD7uNzW7JGPlTXTnCGGOMMcbY1+Pi4oKqVavCykps9izLP/jMEmP5o2dWjRMlxhhjjDH2f8fJEmOMMcYYY4wpwckSY4wxxhhjjCnByRJjjDHGGGOMKcHJEmOMMcYYY4wpwckSY4wxxhhjjCnByRJjjDHGGGOMKcHJ0n9aOgI83BGZKvcyxhhjjDHG3uFk6T8tCa5zZ8EnVu5ljDHGGGOMvfMVkqU0eOzZjPGjukJXWx0qKirQLdMe46fMgtvdp1j0+yzUsrWS4irmpeH46zjMmjULY/u0QcladTBq0VYEf/LJeyLuHdqIeb/vQLAcEb0JeYi1y6eha6vSqDXvuhzNKTExApcObcC4X5ujbKMmCItPk4dkibqzFx27dsKoGVPQoUYrzN7oIaylcrum/4ahe+8g62KNP+YOccLus/7ZYp8vLSkWm5fPQrtGpRV1aWSF9n1GSXU5aVAnlK5ZHQOnrYB/lDxCNilJwVg0ZxT6j5iF4z7PsGXm75jQ6ScMGz8F2zyCkSGXY4wxxhhj7D+NlAgKCqJjx47JfX9XHG1qZ0GAGk26JIdkt7aOFOKgFjNyzmP/EBNSE+J2LRdTQnqGHP2YJNq9sjtV6LOL4uWIJNKTOnUaT45dKkjzqjbrmjwgpz1rF9CY0UPJ0lyNTCo0prdxqfIQhfRoH2ppbkBtx2yT+r02/kSwrkrP3iZI/VnSKdpjKXUbtFjuzy6SlraxIqcjVyhFjnwp/tc2k5EmqGqPmXJE4eqcCqQhrLdJwaH0KiVdjgrSk2l9JxWqNGSL0CNuo9Z0I1zoTIunWQ5VqbHTUcpZA4wxxhhjjP27ibmPmAPl9g/chmeFkkXlTplJARO5K6fWs91Q0Ry467kTTyIT5eiHiLeRdcTm2+XhvtURunJUYlwFBw8uxK6F02Eth5Tp9tsELF04H53Kl5YjOQU+vombMbEoUb6M1G9bxV4IemPJlWipP1P0i+toOPg+pi0YKUeyM8bwfZcRPH00Rju7I12Ofgm6+hZQU5d7sqk71Q2tbYDIyF24cCdQjgpeuWHiIQ3UqFRWDsjUdDF+4bAP1hVjjDHGGGP/Jd/UM0samgVhVEAfiIrFi9S8bnTL8tb7NBznn4VD3345E6XstLVhIHfmSUUV+mpqck9O6WlJIPHaVA6p8PF7LXcLkkKxfOLvWHR6NcqbaMjBnDR0S2HmBFtsmzECPlHJcvRrMkOhombCoqYhOCpOjgk0NKGPFJw6uAcvcuZ70C5XD+3LF4SK3M8YY4wxxth/2TeVLMU83o5Hz+JgbVsW9Y0+muLgxObZiEhohxb1rOTIl6erb6nkyo0xGlTPvAaTDOeBPRDdbimaFNCTY8rZdBmAagG3MWSzlxzJ206nhijcejj85f5P9mo3zl4Jg45Qj00rZruKZFUPf46rhEDXNbBv21Wov+zXuWzQqU8NKE8bGWOMMcYY+2/5NpKlqCic27kCXTpOhFGlLli0bjPMdD5yfSPWE3v33EWhkf1QTsltaF+KZfkGmNveFqeOn0BEWgo2b9gLi/L2+KWKkTTc/8xGnCvRDbMcy0H1Y5dkNGqjbVcTXPpjJZ598C7DYHheeIRgr8t4Hpif2xGziY3FLZet6NRsEBKKNcOcv66hmlX29EcdTeZdx+qpnRF/9SQmnLuPbRsPQUk7EIwxxhhjjP2n/V+TJbelvWFVyBI6BUzRbMKfcLrkj2ee+9C9+sevFAWe34UzYUBRCzM58pVomOC33V4YU90DPxYtju1xtXD2wmGU0tdEarAb+g3ehMkjBsAAhITI2xjTqo6wTkXQcuIWRCa83/5dmXJVhVxoF9zuCgufJyv84fkWFOSFptY6cuzDvA8tgZVVIeibmaLWL9PRxvk6gp+5YmyzEnKJLKqauhg65wA8Hx6DtUk41k/qjJJNh+HpmyS5BGOMMcYYYyxfydLZjTPRrl27HK+lezzkoX+f/dhtCA70x/7RdYQEwhuTR51Hrsdo8hQa5Cu92xQrIr1/bb9NPo3g4GBc3r0YtpaK2OzZqzH20k2UF/K1pNAHaFXNHm/rjkVQ4BNUu70c1buORkyS8uYcgsMj5a4vw7bTOAQHBeLMoh5AVCBmDjmeoxl1ZYqWb4wZ9athzKi+iDy/DvXq14Oze4Q8lDHGGGOMsf+2fCVLAQ9uwcXFJcfr7tMQeehnUtNF2yUHMbhuYdw7NwIbjnrLA75h6QnwWNINydUmoG1RRdMS/ndP4U5APH6sUQ0qanro2LEEnl86D/eYBGl4JlOrotAU3mOjv8Ivwaqooe7IZZjXqQxe352CaavOygM+xAhdpv2Jh+fmgV57Y96YSYhJea9FC8YYY4wxxv5z8pUsdZ+zE0FBQTleq8Y0k4d+CZb4Y+0fQHIspjj2h2uoHP5GBXjux+ToHpjdp7ocASICfJGSBpgZKhqmsLSyAeLewt0/Z8t3UaFB0o/TGuSjAYu/xxROK3bA3EQH25yGYvcrOZzJ/yzmXpO7synfcBh6VrWBX5A34hNT5ChjjDHGGGP/XflKlnSNCsDKyirHy8RAWx76ZWjbdsEt507QS7iNwf2cEJ304abDy9RqDvFppQsedxWBf0qwByYvcsPGSS2gna1hCU0DA6kyYxIUDTKEBvsCOqaoVFxL6s8UExUB8bpN2WJf7xeNNKxr4Ppf/WGR/AyDWnfDg9B4eYggLQkH1+1HtohMRdgbVGFtaQMdbeXNnzPGGGOMMfZfkq9k6e/ISI/EPQ/xGsor3LufgIxsd3YFBipu4UtOTEJqtkd6avTcgTEOVeF/cgka9liP8JiEPH/A1aBqF3StpI5gN3d8qKmE1JRk6UrOba/HSMtQxHIjpCElIwOR0TGITcw7SaPUKIztNwxNp29FCV3xZrosFer+DGtzbTz1eSoUTITbiWBYlP8BtQ2y/wJUKh7cuQkNg0GoafuhhhtSMaVRaahU7oyHKXkstCwizB+pwgqmpqQgOVtllWi2CksmdET8g7/Qsdt0vImKQ5q8De4d+hUHLj1FYqpi2pSWgpfPt+LIkyAMnL0ExlpfbbdgjDHGGGPsu/EVzopTcWLOOLRq0QGb3iqaa9g0oA5atWmH3efc0aNLO/Sft0eKu60dhyat2mGZm9yogJouxm9agebWgNeh4ShftS7a9ejz3o+nKlii67C+0PL6Ew+UtmQQi71jHNCky3hITUEcmokWrdvBOdcjUT5nN6JtOwds8xRKBT5E5w4dMXqpYvlyu7CiK0wHrkIfWzmQjW7Rqjh/YiNST8+HQ5sucNWtia07NsFEN1uz3REXcdrNHNNcp+H9NuqyS0BcTBIQH4G4eOXpYqowbFz/dvj5t7mIFZIl7+Ob0ahFO8zc4y6XALpMmAtHG8DXbRlsbGugWVsHeKAGjuycA7edE9CtTwesunUbowf/jMXbo7Hu8D1MbS63XsEYY4wxxth/nAoJ5O53xFbfPD094eDgIEe+TUmhj9GpeQ0UG+KCdb/ay9FvFKXDZVoLjLhRHPdObICR9rfw06/x2Ny+K37cegK1TOUQY4wxxhhj/zFiA3ZVq1aVHjfK7ru+30rbshwOX7kIv8VToaTNgm9KQuQdzNqkgj8Pr/5GEiWRLhy37kAVY7mXMcYYY4wx9s53/3CKlmE1bNk/Buu6dsdet0dy9Nvy9PouzJ6xEPMv7kQjwy/bMMbnUYGuqSk0+RElxhhjjDHG3vOvOE22tuuEnXuckeh6Et/erzRdw2E3TSxYdQDNyvPzQIwxxhhjjH0v/j3XFNS00Pf3cVDS9sL/WV1MmNxF7maMMcYYY4x9L/gGLMYYY4wxxhhTgpMlxhhjjDHGGFOCkyXGGGOMMcYYU4KTJfa3pKckIj41Q+5jjDHGGGPs34eTJfa3BHicwGavCLmPMcYYY4yxfx8VEsjd7wQHB8PT0xMODg5y5FOk4sScSVh5yQ1ul+4iJS0DmhaVYF+1KEoVt8bTp/dw+/oNxKsYY+Ope+jboJg8XqYIrB7SB0fuPcL5G8EoVbsOyjfvj2Mzu0tDAx6cw4blm3ArLBa6GYCVcSGUqFkTxSzDUKLMANS0tZDKiVIinmDTH2tw7JEPNFO1YayjhaJlKsOuhh4eBNTHzKFV5ZIfk4DLxw7j2q1UDJnXB0ZiKOwxti/biHPuzxGlC2SkmaFS6+4Y0bcZLPWkkfD08l5MWLIaiSkqSAmvhgUHZqFGMUPFwGzSEyLwR7/GUOv/F0Y3KytHo7F29BJo12qGbj83gDCLL8ZtWTv8fuQFzl65L/Vb2FRGzXJFgKQopKiqoGDVzhjZ72fYlcrd1Hkqnty+gjV/HsBbb3c8UDVDBe3CsGlYB3ZN66NtzTL4ln5FijHGGGOMsfxwcXFB1apVYWVlJUdkYrKUW1BQEB07dkzu+3vS08JpaUtzMRGjocfiKT1DEU9LS6JbO/pJcS2DmnQmRBHPLS3pATWq1pQeJKXJEdFVaqCnRUMPhFNSmjjBDKFcNN0Qp6drSse8QhXFJH40xMyAGo/ZSbGJimmkp8ZToO9RsrMGOay+LcU+7i3N6VOWhq05K8xTDsW/pD5lC9HA5affxVIS/GhoQQvqPGmPIhByhqrpmtE410BKT0+m9Z1UyKDTAsWwXG45jyDH1U8oVe7PlJYUT2dWDqOyfeYIS/FlpaX4kaMNpO2w9158ZpB8r+wkEx2QjqG9UNs5+bkuJlOLQnTcK4SeXd1Pyz3eUmp8LD05Oo6Mf/yVguVyjDHGGGOMfU/E3EfMgXL7arfhqappwVBTRegqgsoVdaEqdgrUhHiNmh2k7uTYW+jXoi/8E1Kk/uzUtCrAqoolKmipyZFUHOz/Ey4XaY25nU2hpSZOUEUoZ4haPVfDZVjOX1jy3rsea+PUMaBbQ+hrK6ahqq6LwqXaYs+8oVL/x8Vi84ReuFLsDywa0lSYpyIaFfAUx4PeoFzFH9/FNHRKoP+oojjoelzoy4DblmW4rWWJjnbGUFXVhEOnHog9tAQ7nyrKZwr2WIq5R/SxYWBpqMuxTGpaumg+fBamql5BrxGbhaX5ctQ0SqB0KUW3rq583UpNA6XqdcCChhZIjHHDT/0PCrWe5ci+Y0hHdZQvZYnMraKuq4/SLaagbVVrOcIYY4wxxti/w//tmSWjAk3Rt2kNBHk5o+Qvm5Dw0cYCouB5Xjh1f3ILW2/HIiPHzYM6qD95EorLCZko8NlrICkOJ9weIuekVVH2l/5onXm2nyeC/1/TMHh/NJxHNxbmkCUtLQVEGbh65qqQPMgoHUGBQShdpLDQk4GYqOxpRqYwPHwWKncL6V9UAHoPeYS5h+dBXzOvTWGKLsucEX18MKb95S9dCvq69NC4g+L2xNTznkKtZ0lITUFC4nU8fREpRxRUtXTQ2KYkPwDHGGOMMcb+Vf5/57dqupi27S8MbW4NHByGX2bvkAfkxRQdB5YX3oMxsV51TFnpguzNC+jr10GpUtLTRJKKte2Ev6nYNb4Xug9aDv+k7MlLOXTsaCN3K5eeFI1pSw+hYunmMDLQkqMKZqWro6+dKQ6tGoGOs50RmgQ8PrUUv12sgDUrJgol1FDAIuc4CtawK5/5HFAwVnTtgj5LpyPnNbH3aRkYoXnpiji0dBqik96lZ0pFuDujnWN/uMXEy5FPlBSKNZtuSZ3Npw0Waj3Lz507ITU2DL06tcTWW+FyVKSFvlMdkfsJJ8YYY4wxxr5n/9+LAUbFMW/DPtQrpoWDc/ug2xIPJOSZC6ih+pTLmN+nElKSfbBgVDvYNe2L/RduIzI+FWpq+tDVzUpQijQdjQsLW8DMIAoHt4xGyYrNsWT7SQSEJQhDtWFpmZVYKRMfcgm3Hr9CuZ+7QDd3LWmZY/GVC+hTRw8uMwaidfuGGLT2Gc7fPolmRU2EAiqo228mWhuEY43rS8THR2LL5t0o2nogmpZQTOLsqiW40GAOOr/XwIUSqrro8nM5vHp8C5dCPpQEpcJt+364HNiDdUf85Fg+ESE66Dn2rpyDjV4ZqNFnPnb3L/rudjuRjcN4PNw1DHpv7mPO2HE4sucMnof+zaSMMcYYY4yxb9z//c4po+K1cObOLunqyr4JLbD6/GPFgDyM33Adj0+ugrUxEHDeGV1bNoB9h9649koukE0jp5N4cv047MWLSL5ucOrXAdWqVMIWtwBFgQ948tcS+MUB1mbZr61kZ4sN27egEtJwx/UyPB7cxv2ERHmYwLQGtl3Yi9CdzVCyZBlcKbMIF7ZNVFypebUbG27o4vDU5lLrcWEBbnD8wQaFC1fHXGUrIvjhx1pAnB+W/PVEjiijgfZL9iAowB/OPSvIsY/rU68wCltbo3TFKlj22BgP/B7j0obx8tCcyndfgXvPbsHRviDclvVElaYdlNY9Y4wxxhhj37t8JUt3T+3ErFmzcrwOueVqqeBvU4GuaWc475wGyojEhB49sdEjWB72PlVNXfzQahgePXTHwjk9UUo1Dd7n9qBR2QrYfDlXEqSiigI/NofrvRDs2uGEeiXM8PaVLwY0qoq+C84i5QOPST17cBXi4GKFCykCuUTd2YtB4/dh89vXOLFsMAxe3sNPBepj86msejEr1RDnTgYhNPQtXDeMRSkzTcSHPkC3AXswZtEUiNfBYn0Oo0W9n1HzjzPwvTUf+xuVxYjNlxUTyEZNTbzGk4GrD54pAnlQ0zaEVUFL6KjmPw92vhoEn8ubYa6Riqdnz+KtvjG083qGSqhTI7OKmDt3OtoPHohi4e5C3ZfB9L035QKMMcYYY4z9O+TrjPrOqV2YOXNmjtehSz7y0C/DrsdsuC9tDs3IO5jQqyueh7/fQl5yQoKUwIgMrKpj/NQd8E16jiGNyyM18REGztjwrvW2tJSUd40vaOhZwrHnIlx59ggHhraAlnoEnNdMRlB0klzi06QH30b5pv1QoHl/VDMriNaj1+Gy+yKYaz/AwInTkSyXe096ElyWL8dP23ahjrXYZEQazqxfiXtqJdG1jjV0rJti/M+JWLVwGwIVY2SxKoJy4rvvyxyNLnwp+qWa44/hLZAU5I6aAzYj4UOZpEQHjfr/jsvXDsBI/QXmdO+FAy8//DwVY4wxxhhj35N8JUvNBs3EsWPHcrzGdq8hD/1yqg4/jN+72SLK5xrsm43Cw2h5gOzaklF49F772UWw/MB+OIq32rmdxkW51Qd/tyM4ntXwnMwYnVYcxsIedkDgSxx68feet/G5fw6x0YmoU62SHAHKVR+BS3O7At6eOPTefEXpcN80DG5mXdDeQv5h2rRkuHu/hZGeLjTUFU8HWVoJK+J7D4+yt14higiDdLebTTFhLb4GNTSf6ozF3asAh4Zj2PLTcjyLh6eH3JXFuEQzeOwYCH344tD5D90iyBhjjDHG2PclX8lS0R9rwsHBIcfLrsyXb/tMVUMXY3cexHDbogi+uw73fOUBmeJP4KRb7iCgYVIerWsJHeZlUDLzEaPkx1iyxO29qzwqajqoV90K0DFBBStNOfq+H+u0gYbw/vC5vyLwUVooN3YgqupoQv7Vohxin17B3Hsl8fvYFtDIrHUVFeiqqSM1PR0ZclvoocHC+ukXReFcj0olRUUgTni3ryy2CPi1GOGX31egspEmti6ehp2Pw+S4gvula8gZUTAoYQMdIV2ytVF+yyJjjDHGGGPfo3wlS39PAvy8xNuyguH38fYUsrHBEpe9sDDJ/stGWWY6TVRcYcku6g42HdTBmJWjhbGzXF/tiL88cs08PQHHTgbAruFANDTXl4PvK9VxLGyMgad3H2X9lpKsbMWmMDDSwa7t++WIwqvdm4G2HdA2dx4pLF+vlv0xdapTjqa4ISRuvfvZI+5tOPyTxdsO/XHxoFADnZviB0WJd57cvy78tUbPTsUVgTx4O89F4Qo1cCgiRo7kJRQhQXJnNkbF6+DSufmwCruDgQ1rwyNbwhR25y/Yz70m92Xyx/QRU2DkOBuj6ubVGAZjjDHGGGPfHxUSyN3vBAcHw9PTU7qC9OnS4LHHGftvuWL1+kNITE6HTul2GNalCrr0GYzLh7fgybm92OzmC4f+w9CyVjMM6NUMudsTEBtQaDDjOLxddsoR4MKEVjiiawtVv2hY/mCBlBTx1rVIRLxIhV6zDpjSpRn0xMtBgmcuGzHvThDMgt/AwMoUKiqaIEpAQmA04kvXxOTf+sLKQFFWmYyUGIxoUhVumm1x68wf0FOXB8ii/M9izpjleGVUGhVKmCA9ifAyPgOjxk+CnfQ8UpaVE3pC4+fV+K2KshvoYrF37hDse6SP0nrxuBKug2XLF6CW1AS5LCMRv7eui63xdeB5fiUM8/wB2zQcHd0DHTacwbCDHljVqrQcz8n70CxsP+OOpRtPSv0Vmw1At6Y/oP/QsbDUk0LYNLY5Bi07C5jZoHOn9ug2dAbMfP/EXwfPIMLUGvoJUQhWK46SOm+hrVMBIyeMRFETufIZY4wxxhj7jri4uKBq1aqwsrKSIwpfIVn6cvyjXqCE8YevpHxNoa5zUXrIIbhfu4YfLJVf6fonJIb5on71Smi3wQ/Tm38bP/3qf+0AjmnZY2Q1MznCGGOMMcbY9ymvZOkr3ob3+f6fiZLIsvlUHJ9SB+0d/kDejZl/bbHY79QZFX7bjfHfSKIksixXF+1s5IYqGGOMMcYY+xf6ppOlb0GDvkuwqt0djJ/+BwLCEuToPyQhDMfWjsLhEqOxckR76QdsvxW6poWEZDbvBjIYY4wxxhj73nGy9FHaaD71L6zqVU9IWBYrbQ3u6wjD3MGLoVtzMg5M7wOjbylTYowxxhhj7D/gm35miTHGGGOMMca+tu/ymSXGGGOMMcYY+3/hZIkxxhhjjDHGlOBkiTHGGGOMMcaU4GSJMcYYY4wxxpT4ZpKlu4c2YtHes4iX+z9XYkQgjm5fgoDIVDkiiHiKTXN+h1tAqBxg/yY3tyzG5hdyD2OMMcYYY5/p6yVLlI6IEA+M6V8fBQsXRuHCBfFLj8lwe+6PbXsOyYWyrF40DNNHDMKDgM/8LaOMGNw+NgI2BYqg64jFeBWVIg8A/N0PYOiMqRiz9JQc+T5QRioeXvwL82c7I1mO5SU96SoaqahA5d1LFVVGOMtDhepJScDZjRPwY5lCKF28CjaeCkKaPCy32KCHaNh5NLJSS384dRyHO09DkS5HvpSlPQqjoJmBYplVVaFnbCbsM8J+U9AM9dq1xZID7ohNzJb4vpOO14GPMLxjRwwcNxdONYujTtWe2HT6Ll5FJiJDLsUYY4wxxtin+mrJ0oubzqhSvA4Kt3WGX1AQgoJeYOHcFrgxsQr6LH0/WZqx7jyOnjiJykV15cjfJJxPR1p2Q0N7GzmQpUT9/jjvchx7Z3SSI19WqKszfGLlni8mGEvHOWDvC0MMGd8HWnJUuVQcHTcfbnKfRMsIY3o0kXuA08uHocPk6/jz2gu4bhuC8R1rwdkjWB6aTawPnDp0xOT5s2Aph4QaxJRVA+C2bBhGOp8Qq/qLGbsrCH5PXFDFTFhkQzPsvvhY2GeE/cbvCcY2tITTz3VQrf4E+MrlM/memIGmHQei5awVWLtkKhbf9MepfROQenwiSnZaiyi5HGOMMcYYY5/qKyVLSVg/cQBe1l6AQR1LQZH+aKNQiYaYtP8Julc2kiLZFbWrjxbVy30kGcgHLUM0q1kHTSq+nyxBzxL127RGGVNDOfDlpCf4Y/QvO5H9rr/Pl4BVE/rDRWcMpvRt9dEfpk2OegbnhAYIJ4L481nSKykSPWsWkUskwHnHVujX7Y0K5looUa4G9PQisOfPw/LwLBtmTEOBeVfQokzOujK2/gFj1s+H6h8zMfno3S+aMOma2aNcMUBNTQMlCptnBtFx7ByMtkrHU88/MGLJNbz7YbDUWCxbfBAqhnVhX74oNMSYigqMSlVEv0m/o5QGX1dijDHGGGN/31dKlp7g/nXh7ZYLnr33r31L/NS2pdz97+G5fzkOv4mR+76MV7sHw+msAU7Nbi6kmh/ntXkIzh84jImj1yIhWdmNcm8QGy13ZvM84JncpfBqd19c0e2M2c2zrinlZIOJW8ZjS++G2H/nn7h2Y4UO/SpJXZHX7+PdjZUZ6QhMSkRomDeScq2vtpU12ujoyH2MMcYYY4x9uq+ULJVC9SZmQOIl9Gn5G87c8c9xBaJGtSpyV5YIr+tYsGRvjiszgV7nsGTvHWncR247MWfWLGw8JGZh70sLCcaR5Qsxa9ZCbLr0EIlyPIfERHgf2gIXzwA5IMtIg8+1I1gjTH+W8Dp3/ak8IIvXORdpmPhavu8IQlIUT/qkJARj0aif0KbPSiRRELYsnIU5C3I2LCGu2yZ53IU7jyA4JK+nhLKkRj7GgJGHYV+vKXTV5OAHJAaew0CnS0iIvYVNy4dCT7soHBfsynUbmjF09OTObIpaFZO7gNAHhzFgjy6mj/kZH5qtVbmqqKmlgnXrtsmRvEXd2YtZf2yEv9z/yRIDsf+Il9RZtUMjxRUkkZY+RrWsiTDvM2j8ywTcDcq21VUssfToMJjKvYwxxhhjjH0yUiIoKIiOHTsm9/09bx+5UtlC2uIdUwQNHXKcvYtCI2MpI0MuIEuJfEGjWtlL5Yws2pFfHFFa5Csa1UQRM2+7lk6ubE2WVlZkaawvxYadTJLHVoi/u5fsDIrQYpeXQk887ZrZi+oXsyJNIwu6Kk6Q0in63lGyK2IljK9JAzdcVYwoSE+Op9U/1aQui1yk/oCrM0lLDTT0QDilicuankIeS1uQVumOFCD0hnidoWq66oRK4+h1qjSKZMPAcsK0q9GNcDkgEsc9MJQaNuhCAdLIITSmS01SValEu++Igbw9u7iaDDVAs0/4ypGPS0tLI/8bR2icY30qoK+o+4JDD1JKulxAsGtCRzIwb0mPo9Pp1a19ZKKjQRN2eUrD0hKjaWK3GuQeHi/1f8ylScUIVk3pSZocUOotzSxbiKCmQd13fXidRT2qgnRNrcgrVOgRdpakuGg6ubQfqahok/nPixWFctk+pg5pq6oI62tFQ/a/poTsK8wYY4wxxthHiLmPmAPl9tWSJVH8S3ea1leR9IgvgyLlaMTi3RQUIxcQRIf70bWrx8neJitZig8PpuvHfycbYRz94r1pv7sfJQpl41/ulWKWjrulfoUQ6lu9PI0VEqXs5+xO7W2yJUtJ9Mj9Jm37vbuwHDmTpRML+1KBeuPozbv8K566/CjM16w8PQwjSnx5U0jStKjl8M3ycKL9ExpI63PsqRwQKEuW/K+sJyNNNfrzZoQcEZYk2oe6mRuQUeHW5CXHlNk9ri6pCvPYnCP7yq80IVm9RQ5VzEhN15T23Q2R40JyGvGSlk1uTnXaNCf7evVp4gpXikgRBqQl0rr+jWnibn8htRTF0JU9S6m7gwP1G7uO4lLez4jiXYYI66xDA49kTV8ZcT84dvaykDZ9nJgsqWlqU8PmDuTQqhXVti1JLfuOohOnblF0vPKsLC0pmm6d3kpVbMxIVU2TqvaYSM/+TrUxxhhjjLH/pLySpXzdhhfw4BZcXFxyvO4+/fhvFekWrY7Zf17E0ytL0LpxOdCrx1jp5IiG7SYgs4VwQ9MSqFO3DUqYZz1fomtaCLXbdIdNEaHbth5aVS8hPbOjW7SmFEt1u4fMp4PC/hqDrZE2cGpbNMdtY2WLZm/gQQvlqtdEw6qK516yKBo8sGzWGebvWpbQxZxlG9CmpRMK6AHaFsUxrG0HdHSoJ6QuhOjn9+EXECeVfBMeIb0rl4R9y+ciOqU+KpU3kWNi+xNlMGn8D4gOOonhKx7J0ff53L8mNXttUeDv3EimBrNyNbB+/XwUSojBsctZ89EwKYrR887g2vEzuHjlMuaPaAYTDeD59XXwLj8M87sXl+7NPDi3P9pMOYo5m/ahpc4BGDUfn/M3qwS6uvrC30ScuP5QEciDuB84NK0PM7n/Y7T0TbFyxzHMG1gL3o9ewNc/CTVa1oBhHvcjqmkZokaLPlgzsR/K162J54eWok7tNjj9MEwuwRhjjDHG2KfLV7J0duNMtGvXLsfrf+3dB1gU19cG8BcBkSagIBFBRbErKvZuNNaIBUsUNUGNJtbYNZYoEXtLbImdmFgSI4nYW9SIDSsYsaHYQJDeO/eb2R2EhQXRqEn+3/t7nnV3ztzdnblzZ93DzJxdvtNXmftyVVpOwu8HfHHx+HpYGOoj8NRydFx6VpmrZmJW1K/SuUVg1cwjgJlprvLWBTMtmfc9LuPhLSAxJee3mGTVOozArh/dYC1naCWsMevHXejnkIixPe0xfL8/9MsWpZrebZze+1S6t4WpqTqSzdHpfdX9nT99pXTt7bFp5Ia5LhkIj1IndwUKOoYOn9zH9DHdlcATeG7xgknPWagkdUIrl1Ewu7gC3+5TXzf0Qnl72Eh3mYGP38p61O4+DvM+KC2Nl81o66E5XrSzxBdbT8Bn79cIv3sQ3Zv1xzupP0FERERE/5OKlCw5dRmIuXPnatxc2lRT5mp3aMsapOaq3KxfwgQ124/AA59v4VAyE8+/34KnmgcqXkMWUpMFcO8xrimRV5MhF1RD7KENeJqohBRxD8/ikr+U7KRHY9fMz9B//EYM+eY6fvliIBxMi1Lg3Agm5vL9H3gSrArkqFQFcjFvHXPTnGIFb4UeSpgaoWndnAIO+cXg66U/YP2JNShfXDly8/AI/IIy0bBGFehIkyUMS6KYri6Cbub5laP4WMhpmK5DeaU8/Julo2uOCYcuYkAdS9z26Iq1x+8rcxQZKbh0L88RzmL6qNVhOrzmdEJW/Amcvpq384mIiIiIiqZIyVL9LoMwZ84cjZtL26rKXO3u+O1GRGL+bMjcaSSaVJHe2LgcSvztTMEEtVtKX9PjzmDznjhkyVcSKbJEFtLSMxAVnycL0tAOtZvoI+amN3aeuob0THX56YzUBJzfvhRZ5qVw/8IufLZ0A5oMnQAne1X2U0RVUU9aNh2E4E5gqBJTy7x3C090DfD50N4FJkvlK9dVJSqh4a9/Klla0nUcPGiDrg20/OaULCsdXmMaIKX1RHSwV2IyXT3VwEjPUCr+pSUjS8oqTUw0j6hlRjxXnQ7ZVEqq3h57zF8+HsVT4zBm5Fe4lXtMZaZg56HzWn/rqaJjAxSXerd0SS3l/4iIiIiIiqBIydLriLlzCc7TdiFemX4h7ChuBjrgy33jNK5hSYjVnhRkBYYgRXmcnxF6L/0OTtILbRzYGDN/Up+qFebviQM+DwAp6fFY8iW+9/SFnAbFx+V/D7chw1Q/bjq1fye079JFdYphpzZN4BEzHvXKGyExJgwZ0rfxQ3t/l1pnIvDA9/D0uap+srR2h4/651q+QDwOiUfiPV9cvRUGty83w9xID/OXrFDmy1Kwf/cBOLnMwpQWSkiLZs6uMNaTks4HecqcF+DSsW2Y8/VmxKaolyYszB+fdZ+K+gdOoIG0Htrc2r8UW003Y2b/PKXc7bqhldSpV89cUq1bdPh9pKdKSXOzOur5ikvnD0v/OqBft+wfvdXO39MD3aVk01+ZLliY1t+Bsu8wGoeWuMIkcAecu49CXK6EKXDHfHx5IM8RL2k7rF+3EeVc18C57qskuEREREREuSiFHjS8iWp433xcR3R1bi9cB08Uu3d7q15vl+cS4dqqo1jo5au0kqvDhYrDWz1UVe5gYCpGr/pR3H4sxRaNFVIOJAxMzcWq3y6KyMiH4tBmzVh2RTzfowtFg2q2Ql+ap29oKlp1Xizmje0sylRqJkbMXK2qjCaXMp/trFTmcxogfjlzUSmpHSd2fNFZVLQzVM8ztxU9hy9Uva4sOTRA9G5WTRhK8/SsKolPlh0Q135xF0a6xUS5ml3FEaUQnP/e+cKmuK6AoZlo33ueCFUWLvTIPNGynoP4wMVD7Jb64Kdvpoouzl+I27kqAmqTHHpNNChlJHpM+VGJFM7TfYAwN5eW39ZWVDIsKxq0biu8fG8rc/OLCTosRnw8TMQka68wd/voGtG8YS3x3Y+7xeTezUTrcdulnsolI0SMKmsh6g34WgkUJEYsbeSg6pfx2Z2lxZ0L3mKTh4t6G+gZiQHTNorjL7aRXKwvRgxrV1E936GtmLN+hwgISRBfTxoomrRsJsYuXi3mjB0iRn3/q5gyoqvoNWymiC1g3YiIiIiIciuoGp6O/I/0BVRDSEgIrly5AmdnZyXy6lITE1HcuATSEuMRl5SE9HSgWDFdmJiVgpGh/otDWlnpKXgeEaVxCp2peSkkxuaK6RnB0rw4oiJjNGLWZcyVCnhZSI6PRWx8suoUstJWVkiPj0KKjgksTA2goyMtT1wYIhPUp9nJdIuXgFXpUigmn+smshAbG47EJGm+viEsLcxQXC/noFtmUhwiYhKkLM0EVham0MlMl5Y5UsrtLGBhIleBkF8iHdHPI6T3lN7f0goGuQq3pUnPj5WeLx8P0TU0QilzM+jLC1WoLNxc+SHq/2yNtAueSqxgWRkpiIyOUvezriHMSpnCUF9PmZtfemIU4jKNULqkevnzy+lTHamvS1lpLnNEwGE4NumK2ftDMLLNe0pUu9S4KEQmZ6K0tdQvSiyv+MgQxKcqEwqNbSRJiYtEVEJOI5PSNihpkInUpETES7cL29bhdstRGFK9JMyNjaGrvXgeEREREZEGudp3gwYNYGMjly/L8daSJXozVo1sin168/D76g7491x9E4+1Q3vidO2p+GFiJ+QUff9nPb12Ds/tm8OJZ94RERER0SsoKFl6a9cs0Zsx7rvD6PLwU3jsP4OU9JwjY/+UrPR4nFzZGwfKDsaPX/x7EiWZbX0mSkRERET05jBZ+tczx3gvP3yY/ADr1u7VWvnt3QnB2skrEVfPA17z3TRONSQiIiIi+l/D0/CIiIiIiOj/NZ6GR0RERERE9AqYLBEREREREWnBZImIiIiIiEgLJktERERERERa/KeTpdTwZzhy8Cyi32SJuIhbOH78DCKUyX9E7EOcPHICT9Pebu27qLsXceDMNSQq0wXJTE1CwMXDePxGO/pdeIhvl25WHhMRERERvZp3nCwl4ewOdzRqVA7lypVDmzYDsfeoPzJxFseOBSltiiAzFUfXTUDFGrXQtdsE3IlX4rnFXEVX6T3KlRsIfyVUFGdXOaNz5/YYt+OJEnl9x5YPVK2n5q0xvMLilBba+f8yBR27dsKg1deUyNuxfnIbOLdvgd+uxiiRvDIR5r8O71eshCZtuuKY1o5+O/w93bT0nfrWtWtXTN2wW2mp3an9m9G7YivM8ZiMihV7Y/7mUwhT5hERERERFcU7TJZCsLB7K4zdY4pNvwUiOPgJ9u8chTs+s2BavCXOpWQo7V4uLTUSMQbvobpFNLLyVz5XuXfmMP6INcfCPQvhqMSKosWQ77B06RrMd7VTIq+vw6TtCL7pg8ZGCQgJj8OwFb9L6+0LF+uSSgvtHD+cim8WLMOqka+y5K9u4MRNcF/7E7oW9EuuGen440FJ2FY3RUKq9n5+WxzdPPHw7kW0KZOkKmVf/fMt+OvuQwQ/vAuPL1xxeG4/GFV9Hwf+0kyBMlJiMcW1MTyOxWH13ZNwn7UMgRdWo1bINtQu64RzUclKSyIiIiKiwr2zZMl31WeYcS4N363/DHVtDaVIMZjatMDUr3dhU5+K6kZFVNzIBv2GTUO7qnpKJL8zpy9j1pGb+LhpeSVSRPYdMGHCCNgrk3+buT3sHMykZTZCp8Y1leBL2DTC6Gnj4WhUQgm8HeXbDsLs4S4opUzno1cCA3oOwugB76O4EnqX9I1t8WlHI9Xjhi06wcJYXw7CqdMgLBnzCZLvnUK3CWuRqWqhFu27Apt2JmDc9AmwKa4eH3rv2aDn7C1YPKwGkJWlihERERERvcw7SpbS8NeFKCApFree5b3uxQiuqxahsjL1KqzLVVEe5ddx/CrMaqFM0P+cei0bqR9cuIHb6kcq6U8eIAZPEHBPGm951Hu/C+Q0nYiIiIioKIqULN29dkb1q7Yvu525dld5Rl66cHC0BpKfYIhjL/x8/BaSlDkqlm3RqKqxMqGWFPEYZ44fV7/2yZO4HxaLopwIpi5GcB7Xrl3DvgMHcPFWEFKUeWoCsWH3cdHHF+lZwP2LZ3DwsC/ikpTjE0lJuHbmLB5rLKAkPR0hUj8ckZfnyBGc8QuRQ29HSgruXjyLu1FpSiBbJiIeB+D4cbm/pXXzD0JUeBDO35evOUrEtextceQUotLU6/P0mhLbdwJPUzQXuMACGVIf3Doj9/0BnJTeQ7P/cnnRTnp9aRvduC9toyJspMykKBw9fADXHr/+VUSP7t9T3Vs1qY2yqkdqJTsMRg3TVKwY3gWHb2omTE7tB6G+peY4IyIiIiIqSJGSpbIVq6NBgwYvvVWvmPtra266aDHeExPbyo9PYXC3xqjr6o7HEdkZiTWqVbNRHkvfwR9fQuNGDbHjZjrq1a4Br2lj4dS8Gy5H5c1g8tsxoyOajDuAytLy6AWdRo/G9THI46j6VK2YIKwc2xVVajph4GQPHJvjBKc27dGt6weYs/sKbu3fDIdq1dBC+lJ99Lnq5V74bnw3fLHtGqrUaACr6Cfo2b4+uo3/Tpn75sT57UPjevXQsI0Ldt3WLARx6adpcPx4MUzsGkj94oCto7qhWo36GL8jQJprgIr1auDQ4inoPmAMbsepU5zSdkqs+zCcjlLq3mWmwnNmAQUyIm5hiFMtLDqVjgb1HBG8/xss3uirzMyRJLX7WGq374bcrh4iT+9AM6eGGOflp7Qo2J0/16N3V2f0Hb9cibyqJ1i88HvA0AKrFnymcRqhidUH+PW7EQi/64vuzaTHctcQEREREb2GIiVLphZWsLGxeenNysJUeUZ+uiVKYpHXIyydNhSWBgkI3DkXFWrUxdCpS3AzVPMIyt5vx+Hmwwr4ZHAX2Nk7YNUSV8Q98MGqQwVVbVOLP7UAH68IwJSV41FTWp5Ow6ajXhVDXN6/BvGpwNOgZzCqXgcmeumICH2A++28ERR4CevdZ2DQ+yYICEtBm0qxSE7PfRVMIo6N7YB5/uWxceU4VHKwQdP+n+Lyzn64sW4UOow99tLS20UXhZOXQ9G8tpCWN/fhngxc2jAFbgvv48z+jWgqJZZ29tWw9NuRQGQsslRHc/RgYVcRnZuXUz0jm6Fl/lhKaiD0KmkrkBGPtVOH42nfdfh+dhfY2Nlh0Ixv0aduIjS3UAgW9e0Ovw6rMXaUup3b3I3Y/IUt1vepJ23ngo4wqlVpMhBzFrhjyexPlcjLnd3mDnd3d0wdNhgOlXrBttdXOOrzAP0b2yotFDrFUHPgGtw8uQXdHC3h4/kpqrYZjmMBrIVHRERERK+mSMlSfHS4qiLZy27h0YWXlta3KI/JizYj4PpRdO5sBaOYIGxdOg21yzbGz9dzjho51G+JCl1cUb0UINLTkZmuXszb9x+q7gtiWqMhWtesh67VjVQX8qfGRUtRPcQlJCIjIwO29ZtjmNtU2FuVgPl7lTC4uS1K2dbF8NnT0aB8TfQeNhqftNAsdxAvJVMDt51G/QYtkLtmnL2UKHRsoo/T2wbh6v0EJfp3lUKPYcPh9kEtZVotIyECU7/ZhLLdP0VFk5xSC6Y25WGlPH4VJYxqYZCWAhnp5zdijHcsPL5orXFtT63GmgUeHv26FPNOReOjQU012rXvNwUljXWwev1qJaKdahxMnw2X+lWVyMu1+HgO5nzeDCd37cL9oCtoNXAiOhRUxU9Ss+0QePkcRY/qJRFx6Qd0rNUSi04EKIklEREREdHLFSlZevbwNq5cufLS2+2Hz5RnFM7cvgMO7A/E2WM7McBJPjLgh3FTZ6hnShoNWoqHByfg6ra56DN1GryuPlDmvIR1R5y++QfsnvpgwqRPsHyfDyISU5WZRVO+Ul3lkdqT+xeQnJAOC4vSSiSHvYMj0lPTEBSRv5jA32Ft46A8UktKOI/HgTEwsn0PukrsTdAskJGO3Zt+B0yMYadXcJVBuVjHCS/5tDwTVLDTbGdZxhYGBoYIefD47fymkbR9126eBCPpbSd8+ZUSLNz7Qxfj+ilvOFaNxVe9PsRPN2OVOUREREREhStSslS1fis4Ozu/9NaqkCMFV37xxK1clQKK6ZZEvbZ9seXgQbSuZIznx05gv3JwKerun+jbqAYOhdfFnpUrMPQDzQSmQClh2Dp9GHpO34fPp6zDrME9YGOhLj39dz0Lfaw8ymFb6nWO6+SXGheHh3EFV4vIykpCpjQ7IzmlSEUuXk8WosPTVKf1BaTlLSyhTST8A/K0MzZFQz19ZeLtaNz/S6ztVA/BB5ei5eT9yK7LkS39+S3EaeTH+ijfuDNObpwIg/iHmPfjJSVORERERFS4IiVLb0S4N7afyn+8oYR1bczqaSY90oeBgRwJg/vALthTfjIWTuolB4ooE0eXDMeI7f7YsX0pqtkUfP3Uqyj9Xg0ULwHcf6yuvpZbSEwkDI0NUadCnutmXtG9v07geXLBR8D09O1gbA4EHz+ULzl4c3Rh4yAllgn3sOu09tMKQ6Lk0xqLo3ZT+VTFBPzpG6SKv5CUAL/MDDg2cIS1EnrzzOC25zRcHIFza4di9xXNJDbWdxP+epa/EEipFu3QVLo3LvFP/GIUEREREf0XvbtkCRnwnD4dQUl5jkakx+DyX2moM6AfOqjOMXuKO5eTIC5sh+/TZGSkhOD3P06qmsqePg1GdpmH+Nhw5ZEsA/cuP0dG5GNsuRAsTSfj5oEf8Tgyu3UM7j19+ely0ZEhyiM165qt4dHDEY8O/oKxx3InBzG4czMUPT32o/Z7L+/GzMwsJGsUbVDE38GOLV5wKJlzBCw+LkJ5pGZkVg/v13aA/58bMW7Nz4hKlo82ZeAv/1tKi2x6qO5YQVqJp9h54KbUA8kIOeuNg9efSPNi4LXiRxw/lVN8QbP/9PDBZ2PhZJmJzf06Y9H2c6pofMgleB+7oaom+Mc+T+zYdRX1hyzDECdLXJg5Al53c/r0+bNAxCeXwphxnykR7RLDHmPJgnnwKrDUfLZ0REdo+RFZg5JYuOhblE0Jh9vAT3DsUs42S4uNxswt+5SpbBm4tH0TzpapiYUfOykxIiIiIqKXEFoEBwcLb29vZerNuLymj7CyKSusS7cWG3afV71HcPBVsfTT7qJc5zHiQbTSULJtQnNRQkdHQFdfWFWsJXx9fxf1DfQE9A3FRzN2iqzMDBHuf0i0lX80SboN9fQRsSlChB6ZJyyMDISOFDMwMRdu226Lr7o2ECimKyysOomLz+LErb2rha38PNv64uqtByImMVV5VyHinviJUZYWqte0HPWLeBKXrMwRYtaAeqJ06TJi43E/EXz/hljbq5IYMGunMle75LgIEXzhF+Eov5++qZj4e/Z6q28P/jgq+lWzFc36bBDS4qskhT8Q81vUVy0DXFaLu1Fx6hmhR0SL0mZCR9Uv0vrYVRP7jm8RNaR2Dd3PqtvIpHbNLYykdhD6Biailts2sWtKO2FkbCbKqvo5usD+kwX4LhV2ViZCyltV72Vh9ZFYt364MDa0EE4dBwqfx+p2iY98haNDWeHQoK+4IK/PjWPi88YOYsWlSHWDQtw4sEAYS69dudcUJZJfWkKkuOd3XFhaGKqW0aL9UuF3L1gkpCkNJL7L2gu9YtI6mNuKyd8fVfVV6J4xwtrKQtT7ZI44GXRWuM9aLo5tnSkt63ti3pFQ5ZlERERERDnk3Ef+fp6XjvyP9GVUg1zZTi7YIF+H9KbEPnwIVLSDfsRTBAbdw6PQZFXcxq4mqjpWgmkxKcVRZCbF4cqfPgjTM0Xdeg1Q3tIIdy+exJ00c7RrWh+GSMG5P48hOtfZVg7NnFHDEnjmfxFXHz2HpUN9NKlhK73vLfx5JwT1m7SGRWoQ/vC9ozxDzb5uS9Qub6F6fPfiPtzJ9ftKZao1RpOqygll6YkI/Osq7j+NQVrx4rCtXAe1HWxQ2BU6YXcvwjf3CxbAuk5rNK4on4qo/hHZa09VD1XMbau9uBYsKTwIf14KQHpxAzjUa44a6cdR06YHjN3P4tJXzVVtZHHP/OFz9RFMLR3QoEl1xN+6gGcZZeFYuyLkbs5KL7j/5NMZIx7fwXW/+0jV1YdTy9YwiA7ErahSaFzbFvq5VzgpAv5XruNRjLQtTUxQs6YTKlmbIWdLapcaF4VTPudRpnZD1C+v/YS92Ie++PNG/tM267R2htJVyEyLwpmTZxGvHKxU91UVpMSGIOD+XTx79gB79/ih5/CBaFStHqxKqc7zJCIiIiLSsG/fPtXvxso/h5TbO0uW6C145q01WaJsYfD+zR/de3VQpomIiIiI8isoWXqH1ywRvWvWTJSIiIiI6LUxWfoPCwl5DLlEw+U9x1RFH4iIiIiI6M1hsvQfFeY1Fo26L0RxGxvYRGxAHZexyhwiIiIiInoTmCz9R1m7rEZwcHDO7dBqZQ4REREREb0JTJaIiIiIiIi0KLAaXp06dVCiRAklQkRERERE9L8pJSUFN27cKFrpcCIiIiIiov/veBoeERERERGRFkyWiIiIiIiItGCyREREREREpAWTJSIiIiIiIi2YLBEREREREWnBZImIiIiIiEgLJktERERERERaMFkiIiIiIiLSgskSERERERGRFkyWiIiIiIiItGCyREREREREpAWTJSIiIiIiIi2YLBEREREREWnBZImIiIiIiEgLJktERERERERaMFkiIiIiIiLSgskSERERERGRFkyWiIiIiIiItGCyREREREREpAWTJSIiIiIiIi2YLBEREREREWnBZImIiIiIiEgLJktERERERERaMFkiIiIiIiLSgskSERERERGRFkyWiIiIiIiItGCyREREREREpAWTJSIiIiIiIi2YLBEREREREWnBZImIiIiIiEgLJktERERERERaMFkiIiIiIiLSgskSERERERGRFkyWiIiIiIiItGCyREREREREpAWTJSIiIiIiIi2YLBEREREREWnBZImIiIiIiEgLJktERERERERaMFkiIiIiIiLSgskSERERERGRFkyWiIiIiIiItGCyREREREREpAWTJSIiIiIiIi2YLBEREREREWnBZImIiIiIiEgLJktERERERERaMFkiIiIiIiLSgskSERERERGRFjpCojwuXFYG7gT44Pjpm4iIiABKlkTlmq3Qq11dGOvrK40kcrvz+7H5+x1Y8/Nj/BF6AU1LKfP+EfG4eHwvjp6/j6wswN6+Cd53boXiaSEwM7NHiRJ6SruXSI7C6QO7sWPDZpzNbIuLR5bAOO9TY65i5bf7kG7SHKMndYCxEn6ZbZ9WwdBDRjh88QI+sDVUoq8uLekJNq3egvAUJaChBGxsLFG7bSc0q2KrxP53BB1bjm3nEpQpTcWKFZPWvSYqN2mGljVtoMc/EfyDknHT5xD2n72BFGmc2tjUQdsubWFnGYnYWBtYWxdxr0lPxNU/foPn99uk7W6Iaw/2wj7vU+PvYO2KXYhAHYyd44KifgxdcK+LdmuS8L3PVXxczVSJvp5TXhtw+sYzZSpbWXw8ZwTslSmtXvOz5FXN7myDb57Vge+p/ahhketz/IV0xAT9gXUrf8Vvx73xzYEHaJGvo4mIiP6HycnSyyQ+uCim9KkvmvefJPxCQ1Wx6OgHYsXoTsKgZntx9K9YkZmlCovEyOtiePeawtQAUhLWUJyPVMf/CZmpEWJMi2qiVssZ4q/EDCkSLa57jxEOFQwEKjQRwdEp6oZFcGXnOtG5k7UorgtRq90UkZCuzHghS9xe3VkYGNcU2x8roSLyXeYqKnQZIx4o03+X54KeQkcHokHXL0T2oiSG+4q5A6oJQ31d0X7UchGeKvfHm5eRGCtSM5WJdyz6wRXRxlAedxBf/HJeZGSo1zHl9l9i/PBGwsLUQOjUdREHLz9Uxf8XpCfEigxl3/v3SxGrhr4vrCoOFicfJUrTieKxz1xRr7axgFEp4e0Xpm5WBI9894l+3StI4xnCrEx38SBBmZHLw93jhZ6BrVju+2ofQpF7xoiarV2FnzL9d8X67haV9IoJ6FqJUbuvKdHCZH+WtBY+r/hZ8qp2juksarnNE+HKdD7hAaL+ABdhaqgvipuVET7aOpqIiOh/2MuTJb+ton05M9F84jYRm6L5BTsrM00cWDZQGJpXFotOaH4hmdPpn0+Wjs6vLwxtO4orMUpAJUvEBB0QHVu8WrIkS4kOFk0qFJAsJT8Vw6tZiFVHHymBf07Ild3CQkoaGgycq0Ry7JzdV6CYnujq7qVE3qQYsfb9vv/oNv9pkDpZWnNZCeQS4ve7aGpuJAzL2It5R9RJ/39bsFjSylVrovBv5Lf1Q2Fm6SRO5vlmnhB6XrjWfbVkKdvABgUkSxlJYmEvJzFlW8A/nkymJ4SLdrUshEn1NiIsLk2JFkL1WdJI/HD+n/8sybbm83ZMloiI6P+lQk9ISg33R6t2o3HO7AN4LR+Mkga6yhw1nWL66DppFUbXCsP09k2wLzBRmQPYlK+hPPqnhOL41mtILlMB5QyUkIoOzCp2xdSJ/aG5Ni+nq18cxiYWypSmlNh0NNl2BWM7lFci/xxdPQPo6CgTefQfPFh1quTBjV4IUmJvyjPfQ5h18Yky9e9T1rEHzp9eCtP4ICzs3xu+z5KUOf9NAXu2YP4d7ace/vvE4eRWX8Sal0ElIyWkMLZuihWrJyJPuEhKWdkpjzRlpmeh6qSNWDK4BnQL2BfeNX1dXRQr9vKFiQ2NQ49Dx/Fx03/+syRbCemzj4iI6P+jQpOl6wc24VJUElq07QBrJZZfKXw4oDf0EYhNG35TYv8Geighn1p/dSsGDvJEaqY6mq1i3db5rzn6G0pYV8SwxoVehfDv8jQcUcrDNyHM3xMunYYhJilDifxLOX6GT7s5IinmMn445KcE/3uenPVA3088lKn/gmIwMJYShcBjaNPYAxF58lTj+j1R8Q1eCqMr7fwuLZyUqf8Ws4o18KF9SWWKiIiI/kmFJks+h3YiVUiJhUMVJaLde9XqQD7odOrCaSWSI/iaF/q1qwsjHR0YmdfHiJHf4WmyMhMhWP3lRIz+ai4WLFqM6aPn4oeLt5V5BYnCt+3KQceqCrbdiVdi2ljCbfFylDPLwIk9o9C4Qz9sPJ7z5bhyZSeYmOQccoq/cwyDXVww8suvMG3ccFSs5IDBHrtQ2DvIstKSsHb2UHTsOQ5z3N3RsVUDNHf5DBceR6sbxAThpw0LVH3Qa+4+HFs9ElVLFIdNlb64GpWBSwd/x9TB/WBUvCku5Mpe0hPDsGPGVHw9ehLc58yBq2tXNO44Hr9eD1FavJ7jB72lf3XhNN4VDdQhPPU7jtkzR6K+tTmWHLyLGX1awkzHDC2cR2LOOFdYSdtOp9HXquQqIyUem+YpMZ3BuCfF0pJCsOdQGKwqGUFI23TzYnfMW7QMj6PTVa8fE3QMS0ePwpLx7nCfPBktO3dQjYO7US8Gwjuki/bNGgMiFb8cOafEpFF19xyWzVyF+R6LMXVkPzhUdMKkVV7KXCkZvHsMfUZNxzRpGy9ZthIT+8zGFWWeLCMlSeoXDyxYugjzVOOgIYbPWI6wnIOtSI66iw3jxmHBmC/hPnMmevRpi469ZuNYUIy6QXoiju34CcN7tYJ1jw0IvPQD+r1fBXpSX9s4dpTaqZtFPw7A9j8ETMsaICXxDr5d4I7F635AUlqWan7I9V/hMXIkFk2W+nv8eDRo9yGmztghLYt6e8juntoO51EzMFNa1gXzl2G88yzVttQqIwU7N30Dd6nty24/nbqrPCkvE/T3+BZ1ymbi4c25aNaqC5b8fhZpGeplNjGpJe2TZVSPZclPr2HkgG4YLPXVzKnjUdWhEnpNWgWlpwrltWoSmrcbqVq3fl1awkna972uPVXPjA/Bvp9Wwq1Hc7Qb5I7rP3+JxtK4N7dugyP3E3D3nLQvjBwBW3MneOeqy5Al9cHBlfMwZ+Q4fD3HHcPd+qJq82HYeixAafHmhAVcxIJJk9DKpjY2PVSCimuHNuKTUaPwlYe71C8T0efDgRgkjZceqoYh+GnmeFQ3KQGd8l2Q/dRTW5WYTkP8ocSyx9q4Xh2lde+BoFzjVNoZ8N2YcRg/Qh6nHhgpjdVzt58rM3O8dDwTERH9L1BOx9MiRAyvob7+Y673XSWmXdDZTcKsuNTWrrMIUmLrh9eQnqsv2k5YoC4yEOonPmpqrio80HfGblWbJ14TRM33J4h45fqfZ7snCI/9L7+s+tKKLsKmiBdghx6ZJ6wsTFXvK6+LaZsR4tKdEJGW+/Kr5GjRrbGdxrVIF+Y3zXftS/a1B7nbPfbsL7WrIfaGqKejL25VPa/THG9pKlFsdxssnBzNVbG2nZzFvCNBwmf7XNGw4UDxV6S3cNVaDCNN7JzYVhi2WSqilYhskYu0HtLr/OKXrES0C/PzFqWkvMXRZagIDg5W3+7dE78sGiFsdA2EXTU3EfDiupHHYkr3hsLSVF+1jP2nfiMiE4PEgoGdhaPbdmkNlHHQ0F3kXIqUPTYGidwjQ73NNa9TS3tyUbxnYSim/HhFicjXjB8WdibFpOWbLl7tqrGXK+yapWwXt36haoMaw6U1kaTEio96dX9RDEPmM7uyqs0Y70QhX/KybmhD8dXp5+qZcvtWo8SLt8hMFQen1BM9FxxSAtnvoS+GrvtTiaSI6S6OouIAuU9zfNrCUBhavCcuPklTFy2oUFboS+9bsrm7GLJik5CvrHq8fbYqZjPxqGpZso3tbJfvep1kv1+EjoG52Hoh53qXB0cXC0Pp+W0n7pRGltqYjg3Fd/eUifCbolrZzzS25dsSfWWneM/KQugWU28nyAU3LgaKPJdDiq8G1NdYt8dbXVTtp55QT2fL2wcZRydK7ezERuWDKDHorLA2K65cv5chjsybIVq1sBTFdHSEY4Mmwm17kPA7sla0rvm+uBR5VAyV9gX5er/c+7S054tbq12EQf2xqu2RbfcoaT2kZVp6MkFju+SV/blhUaudCM9fGSYPPzGqe2tR1kJXYz2kQSZiLy0X9lV6aYzTx9v6qZah+4uGCWJj9zIan8UvYmggsrsvwHeTcNFaICNDrBn+gag8SHOcftIkb4GHl49nIiKi/wVFKqIcH1v48RUjkzLQ1XpKW124T/0SqqsKrB2xxesImpsbYf/vuxAmhcJCAhEUeBzn76v/rFmq43Q0rvTy0tkNJxxE8OntcFSmC2PdcRYCb17GlvkusLSU1uX0BrzfsikGfOGJ7D+0C7m0tL4BzB1qQl+5kMmugoPqPjyy8JPVMs1LwcS2JqoolzKZW5RW3YdHyUeWjOC6dRuOrV+misVV64dZHSuihescXLr0E2qVcsb2vTcxsa1q9gtRvmsxbsVljJ31McyVmMx16jqYGQALFi1VIoVLikrGlStXVLdz1y/g1IVLSCtuhoqVkxH4WN4CMjss2XsJeyfXVU1V6+CGUkYV8eVPh+C31fW1riPJ7ff1MxAeXQ7dPsg5JcqyRlss7V4G/l7fYfrR7OV4d/T0NAer/+oPcNj3NkZ3747uym3xcfW8XdOXqY6ohQVLY2jtRoTIu4KBKeYMbaGaLws5vwmuax5hYCd1H8pqdRkMV4diSEtXX+sRdnQ6vvMKwfhZmn066vMxSI4Ox4z1v6N8o274+eFxtJLGqX4xXSweNUx1+quda39VLO3w+ZeeOrl00QKYlHREixo517vYdxiN+dIYO7ViHNb6ql8hOvIy1q/yRKxcZt6yGn4cXV0Vf9vMnfrj8V1/7Fz1GWzlCvZ+XujdsTk69/HAw1h1G5m5oRH0qzWGWQn1tF159f74NKzw8ZIq7Y+WluVRVzlIZWRkAl3pwyk2Xt5wuug4az4O/fg7LEvqI8m2Nba6VoRjx1E4ffMPNCzVAZulfWF1b/Vzs8Xf2Y8OY73R162XxunIXb8+hTpWwKqpn0n9mOc839fmiLV7T+On4ZonPqeE+aNdp9l4f+Qo9eepwq5VB9goj19FjUbDsGfvQ7jk/RD1X4+vDydj53rNcdqofivlkVpRxjMREdH/gkKSpbKoVM1E9SgxtvCLyBPjnyEzAzC0LYuKSixb8VzXBRuVdcToLqZIDniIm9K0faOusIq+gY7VTTB0wgZcDy6GdjUKP+XvdZQsWxVuX+6Bn88JfNG5FfQSnmHP2rEYsVt9Co1O8ZJY73MPp1f1Q6DvYfy8dilmLj+lmpeUkqq6L0jFHmsR/+RXWD7zx0GvXzF/7mpVPFn+EZk8rCzMlEeaNIthpOO45+8IR2k41tS8qNrO3hFGxka4fuMGilKawKxcNTg7O6tuffoMwtrfrsJn6wjcOPgzujfoip25v50qClrG1xMEb88TyERTlH1PCakY4KNhH0v3sfhZ+nKq9WvmM2/UVJ3ql/vWWePUt9eVEKtOzk2qVZJGeRxO7nsIh7au8Pb2zrmdC5SPuiL85lfSlpDS/uZdEfrrTNR1eh9bPI/C3KX3i9MYA6/fQIKUgJU2zbnoxti6AbbfS8GP45pIU3HYNX+7tLYVUKemen62+k3kL6GZOPHnFahHjBGKG0pf60tZw+jFWaLqWFZMova+eiEAp45dh75+U5hpXPJijI8+HSTdh+Pon7dUh3QcHRvh+uohqN3CFTt3n0eVqeNQ4J6Xnoh5k4e9SCQLu83d6as8qWD65rboO/p7/HX5Cr76qCtKIR6nfnfHZ9/mfMGesNkHz09NR/SNU9iz5XtMcFfPS0gs/NRNo0YzER7ug2oxd3FinxdWzp2H2IRUpKalKS1ymJlov0jKvkpD5ZHateNH8BTFUdle/YeQbEYm5WFXqQKehNxGRHL+1/87KuVZhicBf+JuXBLKO1RQIm+GZoGMVPy8eB6el6mIRnn+SqJZ4OFVxjMREdF/W6FHlpp+IBduAB7fe6AOFCD0jh9S0oEW9eUvhoUpAWvbnBp0pRoPx4WTx9He1BBbv/kMbRo7YeWxW8rcv+/PHTs0kgqbau2w8sAJ+KwfIU0lYMenK3IqwoX5Y/AH9bHbXwftBo/E15PyHO4pSGYqPGd2Q8+h61GtSUtMmD1GmfG6shD+VP6akYBHT/IUSzAyRl35qEhsPPJfQVA01frOxiIX+dFVrJ7yi/T16G2KktZFvg9EdN7LGMrbq/4invk09J1/qfK5dE36Vx+9P2gq3acgJDAT/oGF1wbsPn03zi0ZheKBp/Dp0K6o5eAGf2VebEQ8MlLT8CA8/3EffymxClPeA4jA47zFAi1KQ3U8SnqucpXb3xAqLYvUp5mBSMqTTevbVVIdpUx9HqlKuMavOYaDk12QcHUnBg1oj6rlxxVcHVHfGLOXbdZMJgu4zR3QWHlSfmel/TH3MDCzdoL7Lm+c+XmhNJWBowu2vOhT+Vq/cR9WwrI9QWjpMgBL5vRQZrzcse/Gon6raShZxQnDZ86QkiKNcpivTN6+8vKFPs/zRyNdPThI+ySSUvA8U33t1duSnBCl+oPU2xWLq6ekpC8iGoXXtHxX45mIiOifV2iy1KjHSNQyN4DPgb2FlJmOx9lDR5EqHDHyi75KrCCJCPTPQEmn6pBPygq5dBWiYXscjwvBsQ0LUbXkE0xxnYArL6uqUESRF5cj8HnORe0yudx5rcELMVH+npwcjPhkIC3hPnq164Cwhkswc3gnWJU0KWJZ8WQcmtsFo355D7tPrkXlcu/B6G/XKZaWr6n8tTYSZ3zzpEQZ6QjPykLZmlXyHcErsmLFYWunPnEnJT4c0su9RVWldZHvL+DB4zxHBOJjpXQQcPqwPbT+fb9sdwSofwcs1+3wi6M5ry1oN7b+dhEG5rUwskcjKWCMyo56SL/4G1y/uwqN0ZL8FPOn7VHFHvjdRP1Ja3HjyXV8+2lPZCXswojBa5Aq9Z9l2VLSIIrFopW/ahQEyUqNwdaoOFjDAo07y3+ZfyRt0zxZY2oKwqU7h+YNUVYd+RucUL669JJp56TvqprjPkvqbzkxdmzREPJJiI+ehqHL0t24edsHM12aIyZ8LWYv2Kdq+7ak+q3EmXt5jwzpwr7TCKzqLD1MDUeUqgNjMKlfR/yCmVg2bwiszc2kvaIo+1U6rn7nij7z7uH4/d/QqHpFmGSfV/s3VKhWTvo3DX4Bj9SBbFkCMenpMLOxRhXDv5eQnd/1K/4opC5CcUNTFJNW5d6NlxXA+TuKo5SN9F/Co2s4pOUDP1NKCJNT5XH1rsYzERHRP6/QZMnYtgmu7Z8FBB9A8zF7kJYpn8CTi8hCwI4Z+HJfCkb/ehIuVaUvjYXIDLmFuRdT0X/AJ6q/cj/znYedPvJxBXN8MHw6Di//BMViQhGe/VfxDOk/3pBniIzXPMVFPic+5Hmk5hdbLZKibuGHY5fzn7qUqQ+9ErqwGDUMjoZSu7gLuBbwHOlZSdIXcvltExCVkL0QAklJqVDlFMqX9hxPscPjpJQyJSNRdc1CJuLick5ty8xMR4ZGe+3kdjmKoe2wiWhopIfD42bDPyXnz8nxEaF4lCbw8cduSkQ7IW2XgmSkXMeWb+WKegao0b8bDAsdAbKysLOXvl5f9kOwvCwiHbH3fHBeVTotCZEhUXmOTknrnJGFrPQU6Uu7ET76fBxK6Ohg9879ynyZwJ2zp5BapRc2jHh35daTw66hc+NheJReErP2X0MTWzlNM8aIWaNgoBuHnaOawm3SBoSEhKhusz8Zjozu6qOrp3+fg5hkgVK2dTF29Ra0q1sRyeGh0vYFmnVwhoU0jgJ/nYI2Q2Yh6MkThAQEYN1XH6JMTfk8JX30nrscVQx08duYWXianrN9ngfdw7MSVpg1Qs4WcknPUJ0u9zJCpCFT+tKenpwsjV8z9OnRCynRsdjlIx89yybtp+dOQafhOEzvoU6Uf/vtB2m0FoNNtRb4eu0q2JgbIzbybR8LCIHnRu/8+2OWLoob6cDUpSfamsqBqzh9LFBa/0SkS585WenJiEzIPqojkJIirXP2VFbuV4vGzx5HEKeThrgk9f6YGBst5TTqnhQiQ/oMe/lfBzI09kcpwez8Edqb6uPCig04lauiYEZaIoKkPmvdbxpKFeF3CNQJvzKRW2YSTj59gHa5LlDMyNBchvJVW8LS1ADb167EJSkBlza5aj9PTMx7XNYYVWtJg/FJCG7EpUq9lYnk5/dx4LLcLh1RIRHSZ1XOa2v2nzlcJ3SR9oVnmNZoNO6GqRPbzNQ4BIaGSZ9TmQgOC0FsXOYrjeck6fP6WWiUND6VABER0X+J9B/4SwWe3iXa1TAQH30yU9yLVJc6i4sLFsu+GCPqtespNh3I/yv5h6b1FnowF24zflBXkIq8J6YM+0BMW3lIRCmFki6vcRaWdT8Uf9xNkF4wWPzgVkt0m7ZTZNd6Cz65UpijmLDqv0aJyILFBFtzARMrsfJirrJrWqgqo5mUFwNHrxQPHqrfNC35gVg57EPh1HWCeJCojqVE3xRNypsIfVNL0alLN9Hv86li/3pXYSJ1T+VG3cXiw4GqKmJx/odEVUMI0xpdxY14OZIgtrs6yF9/pHYdhLNze7Hqu0XCQZo2Ke8ohkz4VjxPzRQ+i9XV16z6r1S9nwapX/pbyd+LzcVin2AlKMSdI2uFuZGeaDHA/UX/Lf6oufhk6f4X/VcQrzVuQq8YhEP3SSL0RfmuZBHqd0gM72ovoGcgBkzbJWKUOXLfz6ymrtg3dHt2ibQchxbL2xKiZuN2optzF7F09y4xSKmU2HnIIpFdWC+7Xd2WnYSL8xjhH5IoMhIjxbYJTQXMygn3rX6qbRvqs000s60lfjifU7HtTYgL9hX9bNXLNc37L5GRoS6xlvHkgfhu5VDRoKqVqNrWVew6HaiK50gUP0x1Vj0v963t1FUvKn3NcTYVLUYvFsFxUk/eOS7aVawhvvEJfVEFLfDUElHeRPP5TT9aKiITc8q8nf9hqoBuceEyYau6smConxjXvpGYsM1XvGjm97uoKY8xqwbitpSdqYRqiUlWDG0hiknbskX7LmLwkPkiLClDpEU9EkvkMWlVVXy3/56QX/a210JRv0JTceROzv4ysGUZ0dN9q5BfLvT0JlHJuIb49WaUMvftODHVRsCwjOj60VfiSkD26AsVP8xwE3YN+4qLD2OVWLgY5GT5Yt1cBg8RR3eOEZZSn1rX7ShmeZ5Rf0ZI/dfGDEKvpIPwCpRfL0WcnNxS1ffWddtL+2MH8dXKdaKphZEwLGMv+gyYJgIiU0Sg1xpRUq+YMGszQn4VTdK+MEE1hkzEsD3q/pOF++0XjtJnROV2n4q7CdIOKLX7aXQb0Xv8WhGas0m0ir9xRNSQq01a1RWHInLXjhMiJuCK+Mq5seg/5UclIkmOEUsbWEnLYChar1XvM/K6Bfw4UdUHxctUFh27OIt+n4wRx/bNFnZSLKcanjSafT1U7cpUbia6SH0w5MvVYmGX0qp+MWs4VFx9qFR1zNd/skSxampbqa30uVu1gdSHzqJ9s2FieN8Wqufbtu4tflPGfZHGs+SLNmZC19RBHL/94hOHiIjoP0NH/kf6T/Cl5KMfZ/euxa7jf+CpfB2KpSWcW/RHv4EdX1SsyivM/ygWfbML9yMiYGvrBLeJ49DYIefoU+CBA0htWRZ7VizE5WupqN9jDCbmfr2QS5j4+UKUHDAfcwfkFEE4tWIiVgSWxIp1c6GukaXdFU9POLh1R8hxb2w/4Q3/mxnQ0zNA9yFforuzE3IfB4vyPYBZHuvx1KEtlk4ejkpmAl+O+xxoNBALh3+I8Ks78fm8nUprtdnfe8OpVCI2Th6Hg1GA66hZ6N/SPmf5POYiydsNs7xyXctiUh6Lv1+GGiVLID0xSnoPN9yVz1tRuHh4wy27QlWYP9Ys+gZH70dALh3m5jYRPRo7FHiKYErcLUz+fBoeF1KPo3rTjhg0rC8crXOqbS2f0B2n7ysTMgdXbF/RH6o/8stSwuC55At4XTZCjzHjMbCjLXZNnQKH4avQskrOSXQpsQ+xZNQUXDawhcfCldJ7KDMkd/7YhvXf/IpA6bFV83aYNX407EvIx2zeDH/PPP2cm54ebJs3R/+ePdHCoeD+u+ezAnPWnUJCggnauo7C8P4tX/TBlQNesLaLxlff7EVMvBGGfPktnJ00K5ZFBUpjaIU0hqT9w6nPeMz9uJ0yJ0dKkA++8ViHc+HSRpKWZfxnk9GumvpoT+xDX4ya4oH47EN1th2xeGwVuM9cixe/9SvFPNeNUY3deGn/mPP5PARK+5Y81l7sWtK+6ivtq56e0r4qTVbu2AfTx3ysUcntyqU/UDL1ump9YVgeo2YtQ0v7AnbkN8Rf2h8t3Xoj/fwR7DzihXNX1QO1o9RXfaW+yr188XekdZuiXrdZyufG8glDcdWiNdZNdQNC8/SV5LMV3vhQ+kD4be4EbPV/io7Sfj5G2s/9PT0w689I1Zg0ujwPE9dfUp4h0TPC6PnfolMN9bvn3RfaTvTExLZKx0YFwnPVCnhffYoM6fOvR395X3BEYb22c/kE7NTYubQbMPt7DGikHgc753bHzquqhypOA2a9uBZM3o+mSPuR/Hnw2UQPfKjnhfL2w1F/YxD2fppzcu6l3+Zi3lZ/OHUcgnFjOuCyx3CE1hqHj3vJp55qGWuS7P6TT632+Xkj1m2XxoZVebivWoaH2xfhvK4Lpg6U1jfXChc2nrMdk/pgw9XSWLpuFiq+yfoxRERE70CRkyUiIvqXebhJa7JEREREb8ZLr1ghIiIiIiL6/4jJEhHRf1Rqaoqq2MUlv1uqog9ERET0ZjFZIiL6D/LdORfvf+QBubZl5Max6DJb85pKIiIi+vt4zRIREREREZEWPLJERERERESkBZMlIiIiIiIiLZgsERERERERacFkiYiIiIiISAsmS0RERERERFowWSIiIiIiItKCyRIREREREZEWTJaIiIiIiIi0YLJERERERESkBZMlIiIiIiIiLZgsERERERERacFkiYiIiIiISAsmS0RERERERFowWSIiIiIiItKCyRIREREREVE+wP8Bo0XX4xmlc60AAAAASUVORK5CYII=)"
      ],
      "metadata": {
        "id": "wFWpiltdnzdB"
      }
    },
    {
      "cell_type": "code",
      "source": [
        "#15 \n",
        "#programador: Eduardo Costa\n",
        "#data da última atualização: 28/08/2022\n",
        "\n",
        "ganhoPorHora = float(input('Quanto você ganha por hora?: R$ '))\n",
        "horasPorMes = int(input('Número de horas trabalhadas no mês: '))\n",
        "\n",
        "salarioBruto = ganhoPorHora * horasPorMes\n",
        "ir = salarioBruto * 0.11\n",
        "inss = salarioBruto * 0.08\n",
        "sindicato = salarioBruto * 0.05\n",
        "salarioLiquido = salarioBruto - (ir + inss + sindicato)\n",
        "\n",
        "print('Salário Bruto: R$', salarioBruto)\n",
        "print('IR (11%): R$', ir)\n",
        "print('INSS (8%): R$', inss)\n",
        "print('Sindicato (5%): R$', sindicato)\n",
        "print('Salário Líquido: R$', salarioLiquido)\n",
        "\n",
        "\n"
      ],
      "metadata": {
        "colab": {
          "base_uri": "https://localhost:8080/"
        },
        "id": "bD7MLPP_nzQG",
        "outputId": "e0f9d2ed-4c24-4b2a-deaf-b1d1842ee6a2"
      },
      "execution_count": null,
      "outputs": [
        {
          "output_type": "stream",
          "name": "stdout",
          "text": [
            "Quanto você ganha por hora?: R$ 500\n",
            "Número de horas trabalhadas no mês: 36\n",
            "Salário Bruto: R$ 18000.0\n",
            "IR (11%): R$ 1980.0\n",
            "INSS (8%): R$ 1440.0\n",
            "Sindicato (5%): R$ 900.0\n",
            "Salário Líquido: R$ 13680.0\n"
          ]
        }
      ]
    },
    {
      "cell_type": "markdown",
      "source": [
        "16) Faça um programa para uma loja de tintas. O programa deverá pedir o tamanho em metros quadrados da área a ser pintada. Considere que a cobertura da tinta é de 1 litro para cada 3 metros quadrados e que a tinta é vendida em latas de 18 litros, que custam R$ 80,00. Informe ao usuário a quantidades de latas de tinta a serem compradas e o preço total."
      ],
      "metadata": {
        "id": "thFJ6k-Pny9y"
      }
    },
    {
      "cell_type": "code",
      "source": [
        "#16\n",
        "#programador: Eduardo Costa\n",
        "#data da última atualização: 28/08/2022\n",
        "\n",
        "areaPintar = float(input('Forneça a área a ser pintada em m²: '))\n",
        "quantLitros = areaPintar / 3\n",
        "quantLatas = quantLitros / 18\n",
        "preco = quantLatas * 80\n",
        "\n",
        "print('Quantidade de latas a serem compradas: ', quantLatas)\n",
        "print('Preço total: R$', preco)"
      ],
      "metadata": {
        "colab": {
          "base_uri": "https://localhost:8080/"
        },
        "id": "bk2i8VeqnyrS",
        "outputId": "f312f3e9-e6ff-4558-aebc-e84cdae9f0de"
      },
      "execution_count": null,
      "outputs": [
        {
          "output_type": "stream",
          "name": "stdout",
          "text": [
            "Forneça a área a ser pintada em m²: 54\n",
            "Quantidade de latas a serem compradas:  1.0\n",
            "Preço total: R$ 80.0\n"
          ]
        }
      ]
    },
    {
      "cell_type": "markdown",
      "source": [
        "17) Faça um Programa para uma loja de tintas. O programa deverá pedir o tamanho em metros quadrados da área a ser pintada. Considere que a cobertura da tinta é de 1 litro para cada 6 metros quadrados e que a tinta é vendida em latas de 18 litros, que custam RS80,00 ou em galões de 3,6 litros, que custam R$25,00.\n",
        "\n",
        "Informe ao usuário as quantidades de tinta a serem compradas e os respectivos preços em 3 situações:\n",
        "\n",
        "· comprar apenas latas de 18 litros;\n",
        "\n",
        "· comprar apenas galões de 3,6 litros;\n",
        "\n",
        "· misturar latas e galões, de forma que o desperdício de tinta seja menor. Acrescente 10% de folga e sempre arredonde os valores para cima, isto é, considere latas cheias."
      ],
      "metadata": {
        "id": "Elsh1I8onySi"
      }
    },
    {
      "cell_type": "code",
      "source": [
        "#17\n",
        "#programador: Eduardo Costa\n",
        "#data da última atualização: 28/08/2022\n",
        "\n",
        "import math\n",
        "\n",
        "areaPintar = float(input('Forneça a área a ser pintada em m²: '))\n",
        "quantLitros = areaPintar / 6\n",
        "quantLatas = quantLitros / 18\n",
        "quantGaloes = quantLitros / 3.6\n",
        "preco1 = math.ceil(quantLatas) * 80\n",
        "preco2 = math.ceil(quantGaloes) * 25\n",
        "\n",
        "print('Quantidade de latas: ', math.ceil(quantLatas))\n",
        "print('Preço total: R$', preco1)\n",
        "print('Quantidade de galões: ', math.ceil(quantGaloes))\n",
        "print('Preço total: R$', preco2)\n",
        "\n",
        "print('Considerando um menor desperdício:')\n",
        "quantLitrosFolga = quantLitros * 1.1\n",
        "quantLatas_mist = quantLitrosFolga // 18 #lógica de usar o divisor inteiro\n",
        "quantGaloes_mist = math.ceil((quantLitrosFolga - quantLatas_mist * 18) / 2.6)\n",
        "quantMistas = quantLatas_mist + quantGaloes_mist\n",
        "\n",
        "#calcular o preço\n",
        "valor_quantLatas_mist = quantLatas_mist * 80\n",
        "valor_quantGaloes_mist = quantGaloes_mist * 25\n",
        "preco3 = valor_quantLatas_mist + valor_quantGaloes_mist\n",
        "\n",
        "print('Quantidade de latas: ', quantLatas_mist)\n",
        "print('Preço: R$', valor_quantLatas_mist)\n",
        "print('Quantidade de galões: ', quantGaloes_mist)\n",
        "print('Preço: R$', valor_quantGaloes_mist)\n",
        "print('Quantidade total mistas: ', quantMistas)\n",
        "print('Preço total (latas e galões): R$', preco3)\n"
      ],
      "metadata": {
        "colab": {
          "base_uri": "https://localhost:8080/"
        },
        "id": "GyjXU8TgnxSB",
        "outputId": "a3572960-ffab-47ce-8b85-d02f124bc8fd"
      },
      "execution_count": null,
      "outputs": [
        {
          "output_type": "stream",
          "name": "stdout",
          "text": [
            "Forneça a área a ser pintada em m²: 100\n",
            "Quantidade de latas:  1\n",
            "Preço total: R$ 80\n",
            "Quantidade de galões:  5\n",
            "Preço total: R$ 125\n",
            "Considerando um menor desperdício:\n",
            "Quantidade de latas:  1.0\n",
            "Preço: R$ 80.0\n",
            "Quantidade de galões  1\n",
            "Preço: R$ 25\n",
            "Quantidade total mistas:  2.0\n",
            "Preço total (latas e galões): R$ 105.0\n"
          ]
        }
      ]
    },
    {
      "cell_type": "markdown",
      "source": [
        "18) Faça um programa que peça o tamanho de um arquivo para download (em MB) e a velocidade de um link de Internet (em Mbps), calcule e informe o tempo aproximado de download do arquivo usando este link (em minutos)."
      ],
      "metadata": {
        "id": "xMq80inhnxBF"
      }
    },
    {
      "cell_type": "code",
      "source": [
        "#18\n",
        "#programador: Eduardo Costa\n",
        "#data da última atualização: 28/08/2022\n",
        "\n",
        "tamanho = float(input('Forneça o tamanho do arquivo para download em MB: '))\n",
        "velocidade = float(input('Forneça a velocidade de um link de Internet em Mbps: '))\n",
        "tempoSeg = tamanho / (velocidade / 8) #transforma bit em bytes\n",
        "tempoMin = tempoSeg / 60\n",
        "print('Tempo aproximado de download do arquivo usando este link: ', tempoMin, 'minutos')\n"
      ],
      "metadata": {
        "colab": {
          "base_uri": "https://localhost:8080/"
        },
        "id": "SzHuBSbhn5LZ",
        "outputId": "e07d18d2-a3ee-4dd8-ee04-7f81977d7204"
      },
      "execution_count": null,
      "outputs": [
        {
          "output_type": "stream",
          "name": "stdout",
          "text": [
            "Forneça o tamanho do arquivo para download em MB: 15\n",
            "Forneça a velocidade de um link de Internet em Mbps: 10\n",
            "Tempo aproximado de download do arquivo usando este link:  0.2 minutos\n"
          ]
        }
      ]
    },
    {
      "cell_type": "code",
      "source": [
        "s = 87426\n",
        "h = s // 3600\n",
        "m = (s % 3600) // 60\n",
        "ss = (s % 3600) % 60\n",
        "\n",
        "print(h)\n",
        "print(m)\n",
        "print(ss)"
      ],
      "metadata": {
        "colab": {
          "base_uri": "https://localhost:8080/"
        },
        "id": "uoMeYvt8NS1P",
        "outputId": "39147982-ef47-483c-e14e-0a40c74600eb"
      },
      "execution_count": null,
      "outputs": [
        {
          "output_type": "stream",
          "name": "stdout",
          "text": [
            "24\n",
            "17\n",
            "6\n"
          ]
        }
      ]
    }
  ]
}